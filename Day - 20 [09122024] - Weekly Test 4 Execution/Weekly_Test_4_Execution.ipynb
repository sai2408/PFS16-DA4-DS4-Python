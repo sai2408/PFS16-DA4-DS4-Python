{
  "nbformat": 4,
  "nbformat_minor": 0,
  "metadata": {
    "colab": {
      "provenance": []
    },
    "kernelspec": {
      "name": "python3",
      "display_name": "Python 3"
    },
    "language_info": {
      "name": "python"
    }
  },
  "cells": [
    {
      "cell_type": "markdown",
      "source": [
        "#Problem - 4"
      ],
      "metadata": {
        "id": "_TjcIY86U9BT"
      }
    },
    {
      "cell_type": "code",
      "execution_count": null,
      "metadata": {
        "colab": {
          "base_uri": "https://localhost:8080/"
        },
        "id": "TqAZYzX_U44V",
        "outputId": "96f858ab-3087-46e7-c934-7ddad664c055"
      },
      "outputs": [
        {
          "output_type": "stream",
          "name": "stdout",
          "text": [
            "hello world\n",
            "5\n"
          ]
        }
      ],
      "source": [
        "#APpraoch - 1\n",
        "'''\n",
        "s = \"    hello world       \"\n",
        "#print(s)\n",
        "s = s.strip()\n",
        "lst = s.split()\n",
        "#print(lst)\n",
        "#print(lst[-1])\n",
        "print(len(lst[-1]))\n",
        "'''\n",
        "#Approach - 2\n",
        "'''\n",
        "s = \"    hello world       \"\n",
        "s = s.strip()\n",
        "print(s)\n",
        "c = 0\n",
        "for i in range(len(s)-1,-1,-1):\n",
        "  if s[i] == \" \":\n",
        "    break\n",
        "  else:\n",
        "    c= c + 1\n",
        "print(c)\n",
        "'''"
      ]
    },
    {
      "cell_type": "markdown",
      "source": [
        "#Problem - 3"
      ],
      "metadata": {
        "id": "rQcawaYvYJ1i"
      }
    },
    {
      "cell_type": "code",
      "source": [
        "x = [3,3]\n",
        "target = 7\n",
        "n = len(x)\n",
        "for i in range(n-1):\n",
        "  if x[i]+x[i+1] == target:\n",
        "    print([i,i+1])\n",
        "    break\n",
        "else:\n",
        "  print(-1)"
      ],
      "metadata": {
        "colab": {
          "base_uri": "https://localhost:8080/"
        },
        "id": "7Kqna-qKVjEo",
        "outputId": "27d3c4b0-e970-4e68-81ec-1a4dff18db4b"
      },
      "execution_count": null,
      "outputs": [
        {
          "output_type": "stream",
          "name": "stdout",
          "text": [
            "-1\n"
          ]
        }
      ]
    },
    {
      "cell_type": "markdown",
      "source": [
        "#Problem - 2"
      ],
      "metadata": {
        "id": "RigRtnr1cl8r"
      }
    },
    {
      "cell_type": "code",
      "source": [
        "mat = [[1,2,3,4],[5,1,2,3],[9,5,1,2],]\n",
        "n = len(mat)\n",
        "m = len(mat[0])\n",
        "count = 0\n",
        "for i in range(1,n):\n",
        "  for j in range(1,m):\n",
        "    if mat[i][j] != mat[i-1][j-1]:\n",
        "      count = count + 1\n",
        "if count == 0:\n",
        "  print(\"True\")\n",
        "else:\n",
        "  print(\"False\")\n"
      ],
      "metadata": {
        "colab": {
          "base_uri": "https://localhost:8080/"
        },
        "id": "GHxZCCt3cpLW",
        "outputId": "7a96dd7b-3b1c-4871-c053-67e2e94bd47d"
      },
      "execution_count": null,
      "outputs": [
        {
          "output_type": "stream",
          "name": "stdout",
          "text": [
            "True\n"
          ]
        }
      ]
    },
    {
      "cell_type": "markdown",
      "source": [
        "#Problem - 1"
      ],
      "metadata": {
        "id": "6vlkDNkGdTjx"
      }
    },
    {
      "cell_type": "code",
      "source": [
        "x = [[1,2,3],[4,5,6],[7,8,9]]\n",
        "res = []\n",
        "for i in range(len(x)):\n",
        "  k = [[0]*len(x)]*len(x)\n",
        "  res.append(k)\n",
        "print(k)\n",
        "for i in range(len(x)):\n",
        "  for j in range(len(x)):\n",
        "    res[i][j] = x[j][i]\n",
        "print(res)"
      ],
      "metadata": {
        "colab": {
          "base_uri": "https://localhost:8080/"
        },
        "id": "Xj1lVEyPdVKW",
        "outputId": "248ce136-ed1c-43ac-fbec-f85f5a0ce342"
      },
      "execution_count": null,
      "outputs": [
        {
          "output_type": "stream",
          "name": "stdout",
          "text": [
            "[[0, 0, 0], [0, 0, 0], [0, 0, 0]]\n",
            "[[1, 4, 7], [2, 5, 8], [3, 6, 9]]\n"
          ]
        }
      ]
    }
  ]
}