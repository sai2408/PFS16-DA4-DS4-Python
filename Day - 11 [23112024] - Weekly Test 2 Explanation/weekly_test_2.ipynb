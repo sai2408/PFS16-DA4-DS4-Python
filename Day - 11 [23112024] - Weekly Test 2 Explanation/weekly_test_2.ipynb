{
  "nbformat": 4,
  "nbformat_minor": 0,
  "metadata": {
    "colab": {
      "provenance": []
    },
    "kernelspec": {
      "name": "python3",
      "display_name": "Python 3"
    },
    "language_info": {
      "name": "python"
    }
  },
  "cells": [
    {
      "cell_type": "markdown",
      "source": [
        "#Problem - 1 [ 1 Mark ]"
      ],
      "metadata": {
        "id": "FDWVzf6P7_MB"
      }
    },
    {
      "cell_type": "code",
      "execution_count": null,
      "metadata": {
        "id": "NH7TKT8L58GX"
      },
      "outputs": [],
      "source": [
        "#Problem - 1\n",
        "a = int(input())\n",
        "b = int(input())\n",
        "c = int(input())\n",
        "if a==b and b==c:\n",
        "  print(\"All are equal\")\n",
        "elif a>b and a>c:\n",
        "  print(a)\n",
        "elif b>a and b>c:\n",
        "  print(b)\n",
        "else:\n",
        "  print(c)\n"
      ]
    },
    {
      "cell_type": "markdown",
      "source": [
        "#Problem - 2 [2 Marks ]"
      ],
      "metadata": {
        "id": "Y24w-zIa74xM"
      }
    },
    {
      "cell_type": "code",
      "source": [
        "a = int(input()) #10\n",
        "b = int(input()) #20\n",
        "c = int(input()) #30\n",
        "if a>b and a>c:\n",
        "  a = 0\n",
        "elif b>a and b>c:\n",
        "  b = 0\n",
        "else:\n",
        "  c = 0\n",
        "if a>b and a>c:\n",
        "  print(a)\n",
        "elif b>a and b>c:\n",
        "  print(b)\n",
        "else:\n",
        "  print(c)\n"
      ],
      "metadata": {
        "colab": {
          "base_uri": "https://localhost:8080/"
        },
        "id": "g_lxnc6N8OXO",
        "outputId": "4fce2fbb-f5b1-442c-ca3b-e4e368ed7879"
      },
      "execution_count": null,
      "outputs": [
        {
          "output_type": "stream",
          "name": "stdout",
          "text": [
            "10\n",
            "20\n",
            "30\n",
            "30\n"
          ]
        }
      ]
    },
    {
      "cell_type": "markdown",
      "source": [
        "#Problem - 3 [1 Mark ]"
      ],
      "metadata": {
        "id": "nL_4B1FfCZ8N"
      }
    },
    {
      "cell_type": "code",
      "source": [
        "marks = int(input())\n",
        "if marks >= 90:\n",
        "  print(\"Grade A\")\n",
        "elif marks >= 80:\n",
        "  print(\"Grade B\")\n",
        "elif marks >= 70:\n",
        "  print(\"Grade C\")\n",
        "elif marks >= 60:\n",
        "  print(\"grade D\")\n",
        "else:\n",
        "  print(\"Grade F\")"
      ],
      "metadata": {
        "id": "Ly7cziLoCZVP"
      },
      "execution_count": null,
      "outputs": []
    },
    {
      "cell_type": "markdown",
      "source": [
        "#Problem - 4 [1 Mark]"
      ],
      "metadata": {
        "id": "hdFXciL-EV8D"
      }
    },
    {
      "cell_type": "code",
      "source": [
        "a = int(input())\n",
        "b = int(input())\n",
        "c = a + b\n",
        "if c%2 == 0:\n",
        "  print(\"even sum\")\n",
        "else:\n",
        "  print(\"Odd sum\")"
      ],
      "metadata": {
        "id": "IEtSqsiQER4x"
      },
      "execution_count": null,
      "outputs": []
    },
    {
      "cell_type": "markdown",
      "source": [
        "#Problem - 5 [ 2 Marks ]"
      ],
      "metadata": {
        "id": "0dyqwJvdEpJf"
      }
    },
    {
      "cell_type": "code",
      "source": [
        "\n",
        "#Approach - 1\n",
        "'''\n",
        "n = int(input())\n",
        "if n < 0:\n",
        "  print(\"Neither even nor odd\")\n",
        "else:\n",
        "  x = 0\n",
        "  for i in range(1,n,2):\n",
        "    x = x + (i+1)\n",
        "  if x%2==0:\n",
        "    print(\"Even sum\")\n",
        "  else:\n",
        "    print(\"Odd Sum\")\n",
        "'''\n",
        "#Approach - 2\n",
        "n = int(input())\n",
        "if n < 0:\n",
        "  print(\"Neither even nor odd\")\n",
        "else:\n",
        "  x = 0\n",
        "  for i in range(1,n+1):\n",
        "    if i%2==0:\n",
        "      x = x + i\n",
        "  if x%2==0:\n",
        "    print(\"Even sum\")\n",
        "  else:\n",
        "    print(\"Odd Sum\")"
      ],
      "metadata": {
        "id": "gmSZXNSRFPqr",
        "colab": {
          "base_uri": "https://localhost:8080/"
        },
        "outputId": "e63e91e8-b8d4-49a5-c7d3-f3a2e1f3096c"
      },
      "execution_count": null,
      "outputs": [
        {
          "output_type": "stream",
          "name": "stdout",
          "text": [
            "9\n",
            "20\n",
            "Even sum\n"
          ]
        }
      ]
    },
    {
      "cell_type": "markdown",
      "source": [
        "#Problem - 6 [1 Mark ]"
      ],
      "metadata": {
        "id": "wrkHAqGmHbpi"
      }
    },
    {
      "cell_type": "code",
      "source": [
        "n = int(input())\n",
        "es = 0\n",
        "os = 0\n",
        "for i in range(1,n+1):\n",
        "  if i%2 == 0:\n",
        "    es = es + i\n",
        "  else:\n",
        "    os = os + i\n",
        "if es%2 == 0:\n",
        "  print(\"even sum even numbers\")\n",
        "else:\n",
        "  print(\"odd sum of even numbers\")\n",
        "if os%2 == 0:\n",
        "  print(\"even sum of odd numbers\")\n",
        "else:\n",
        "  print(\"odd sum of odd numbers\")"
      ],
      "metadata": {
        "colab": {
          "base_uri": "https://localhost:8080/"
        },
        "id": "OEMbLg1UHdz_",
        "outputId": "8c9cb87c-c986-45bf-b0c1-99055675749c"
      },
      "execution_count": null,
      "outputs": [
        {
          "output_type": "stream",
          "name": "stdout",
          "text": [
            "10\n",
            "even sum even numbers\n",
            "odd sum of odd numbers\n"
          ]
        }
      ]
    },
    {
      "cell_type": "markdown",
      "source": [
        "#Problem - 6 [ 2 Marks ]"
      ],
      "metadata": {
        "id": "CKjvvtTUJH3G"
      }
    },
    {
      "cell_type": "code",
      "source": [
        "#Approach - 1\n",
        "'''\n",
        "n = int(input())\n",
        "x = 1\n",
        "for i in range(1,n+1):\n",
        "  x = x * i\n",
        "print(x)\n",
        "'''\n",
        "#Approach - 2\n",
        "'''\n",
        "n = int(input())\n",
        "x = 1\n",
        "while n > 0:\n",
        "  x = x * n\n",
        "  n = n - 1\n",
        "print(x)\n",
        "'''"
      ],
      "metadata": {
        "colab": {
          "base_uri": "https://localhost:8080/"
        },
        "id": "5hqCTTOeJKP4",
        "outputId": "06f94e77-adcb-448c-e216-1695b4b8a300"
      },
      "execution_count": null,
      "outputs": [
        {
          "output_type": "stream",
          "name": "stdout",
          "text": [
            "5\n",
            "120\n"
          ]
        }
      ]
    }
  ]
}