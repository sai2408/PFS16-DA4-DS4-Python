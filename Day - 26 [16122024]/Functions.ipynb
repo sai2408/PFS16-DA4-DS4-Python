{
  "nbformat": 4,
  "nbformat_minor": 0,
  "metadata": {
    "colab": {
      "provenance": []
    },
    "kernelspec": {
      "name": "python3",
      "display_name": "Python 3"
    },
    "language_info": {
      "name": "python"
    }
  },
  "cells": [
    {
      "cell_type": "markdown",
      "source": [
        "#Functions\n",
        "    1. Built in\n",
        "    2. User Defined\n",
        "    3. Recursive\n",
        "    4. Lambda"
      ],
      "metadata": {
        "id": "4Mog6bhZiggA"
      }
    },
    {
      "cell_type": "markdown",
      "source": [
        "#Built in functions\n",
        "    1. chr()\n",
        "    2. ord()\n",
        "    3. eval()\n",
        "    4. abs()\n",
        "    5. bin()\n",
        "    6. hex()\n",
        "    7. oct()"
      ],
      "metadata": {
        "id": "lJBVkIlOioss"
      }
    },
    {
      "cell_type": "code",
      "execution_count": 19,
      "metadata": {
        "colab": {
          "base_uri": "https://localhost:8080/"
        },
        "id": "2F4kbrHxidVb",
        "outputId": "949bc7ca-3c61-4e3e-9188-3124fdca3ec4"
      },
      "outputs": [
        {
          "output_type": "stream",
          "name": "stdout",
          "text": [
            "b\n",
            "A\n",
            "65\n",
            "98\n",
            "36\n",
            "\u000b\n",
            "30\n",
            "0\n",
            "10\n",
            "10\n",
            "0b1010\n",
            "0xe\n",
            "0o42\n",
            "65\n"
          ]
        }
      ],
      "source": [
        "print(chr(98))\n",
        "print(chr(65))\n",
        "print(ord(\"A\"))\n",
        "print(ord(\"b\"))\n",
        "print(ord('$'))\n",
        "print(chr(11))\n",
        "print(eval(\"10+20\"))\n",
        "print(eval(\"20+10-30\"))\n",
        "print(abs(10))\n",
        "print(abs(-10))\n",
        "print(bin(10))\n",
        "print(hex(14))\n",
        "print(oct(34))\n",
        "res = ord( \"A\")\n",
        "print(res)"
      ]
    },
    {
      "cell_type": "markdown",
      "source": [
        "#User Defined functions\n",
        "    1. WP-WR\n",
        "    2. WP - WOR\n",
        "    3. WOP - WR\n",
        "    4. WOP - WOR\n"
      ],
      "metadata": {
        "id": "7zTThnT1kNld"
      }
    },
    {
      "cell_type": "code",
      "source": [
        "#WITH PARAMETERS - WITH RETURN TYPE\n",
        "'''\n",
        "def evenodd(n):\n",
        "  if n%2 == 0:\n",
        "    return \"Even\"\n",
        "  else:\n",
        "    return \"Odd\"\n",
        "num = int(input(\"Enter a number: \"))\n",
        "res = evenodd(num)\n",
        "print(res)\n",
        "'''\n",
        "#WITH PARAMETERS - WITH OUT RETURN TYPE\n",
        "'''\n",
        "def evenodd(n):\n",
        "  if n%2 == 0:\n",
        "    print(\"Even\")\n",
        "  else:\n",
        "    print(\"Odd\")\n",
        "n = int(input(\"Enter a number: \"))\n",
        "evenodd(n)\n",
        "'''\n",
        "#WITH OUT PARAMETERS - WITH RETURN TYPE\n",
        "'''\n",
        "def evenodd():\n",
        "  n = int(input(\"Enter a number: \"))\n",
        "  if n%2 == 0:\n",
        "    return \"Even\"\n",
        "  else:\n",
        "    return \"Odd\"\n",
        "res = evenodd()\n",
        "print(res)\n",
        "'''\n",
        "#WITH OUT PARAMETERS - WITH OUT RETURN TYPE\n",
        "'''\n",
        "def evenodd():\n",
        "  n = int(input(\"enter a number: \"))\n",
        "  if n%2 == 0:\n",
        "    print(\"Even\")\n",
        "  else:\n",
        "    print(\"Odd\")\n",
        "evenodd()\n",
        "'''"
      ],
      "metadata": {
        "colab": {
          "base_uri": "https://localhost:8080/"
        },
        "id": "ADL8lwUnkUwd",
        "outputId": "e012a3d1-69fe-49ce-f5ad-e3090c7876f5"
      },
      "execution_count": 31,
      "outputs": [
        {
          "output_type": "stream",
          "name": "stdout",
          "text": [
            "enter a number: 13\n",
            "Odd\n"
          ]
        }
      ]
    },
    {
      "cell_type": "code",
      "source": [
        "#Problem - 1 [Reverse of The number]\n",
        "'''\n",
        "def reverse(num):\n",
        "  res = 0\n",
        "  while num > 0:\n",
        "    r = num%10\n",
        "    res = (res * 10) + r\n",
        "    num = num // 10\n",
        "  return res\n",
        "n = int(input(\"Enter a number: \"))\n",
        "if n > 0:\n",
        "  result = reverse(n)\n",
        "else:\n",
        "  n = -1 * n\n",
        "  result = reverse(n)\n",
        "  result = -1 * result\n",
        "print(result)\n",
        "'''"
      ],
      "metadata": {
        "colab": {
          "base_uri": "https://localhost:8080/"
        },
        "id": "SmJHsCFYlLaG",
        "outputId": "d61b135d-d416-4634-f36c-43f3b73fcf57"
      },
      "execution_count": 40,
      "outputs": [
        {
          "output_type": "stream",
          "name": "stdout",
          "text": [
            "Enter a number: -123\n",
            "-321\n"
          ]
        }
      ]
    }
  ]
}