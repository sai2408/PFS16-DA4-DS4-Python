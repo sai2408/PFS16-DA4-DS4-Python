{
  "nbformat": 4,
  "nbformat_minor": 0,
  "metadata": {
    "colab": {
      "provenance": []
    },
    "kernelspec": {
      "name": "python3",
      "display_name": "Python 3"
    },
    "language_info": {
      "name": "python"
    }
  },
  "cells": [
    {
      "cell_type": "code",
      "execution_count": 1,
      "metadata": {
        "colab": {
          "base_uri": "https://localhost:8080/"
        },
        "id": "ZUnILp8GIjFJ",
        "outputId": "306b61d0-5027-4a9b-815f-81ce66a6be3b"
      },
      "outputs": [
        {
          "output_type": "stream",
          "name": "stdout",
          "text": [
            "2\n"
          ]
        }
      ],
      "source": [
        "#Problem - 1\n",
        "'''\n",
        "codes = [\".-\",\"-...\",\"-.-.\",\"-..\",\".\",\"..-.\",\"--.\",\"....\",\"..\",\".---\",\"-.-\",\".-..\",\"--\",\"-.\",\"---\",\".--.\",\"--.-\",\".-.\",\"...\",\"-\",\"..-\",\"...-\",\".--\",\"-..-\",\"-.--\",\"--..\"]\n",
        "alp='qwertyuiopasdfghjklzxcvbnm'\n",
        "alpa=[]\n",
        "for i in alp:\n",
        "  alpa.append(i)\n",
        "alpa.sort()\n",
        "d={}\n",
        "for i in range(len(alpa)):\n",
        "  d[alpa[i]]=codes[i]\n",
        "\n",
        "l=[\"gin\",\"zen\",\"gig\",\"msg\"]\n",
        "ln=[]\n",
        "for i in l:\n",
        "  c=''\n",
        "  for j in i:\n",
        "    c+=d[j]\n",
        "  ln.append(c)\n",
        "\n",
        "s=set(ln)\n",
        "print(len(s))\n",
        "'''\n",
        "\n",
        ""
      ]
    },
    {
      "cell_type": "code",
      "source": [
        "#Problem - 2\n",
        "'''\n",
        "image = [[1,1,0],[1,0,1],[0,0,0]]\n",
        "r=[]\n",
        "for i in image:\n",
        "  r.append(i[::-1])\n",
        "print(r)\n",
        "inv=[]\n",
        "for i in r:\n",
        "  v=[]\n",
        "  for j in i:\n",
        "    v.append(0 if j==1 else 1)\n",
        "  inv.append(v)\n",
        "print(inv)\n",
        "'''\n"
      ],
      "metadata": {
        "colab": {
          "base_uri": "https://localhost:8080/",
          "height": 106
        },
        "id": "mX5LI3G2Mdzb",
        "outputId": "4de285c1-4751-46d8-b88d-e7d125388f08"
      },
      "execution_count": 8,
      "outputs": [
        {
          "output_type": "error",
          "ename": "SyntaxError",
          "evalue": "incomplete input (<ipython-input-8-2d8b49e40e87>, line 16)",
          "traceback": [
            "\u001b[0;36m  File \u001b[0;32m\"<ipython-input-8-2d8b49e40e87>\"\u001b[0;36m, line \u001b[0;32m16\u001b[0m\n\u001b[0;31m    '''\u001b[0m\n\u001b[0m    ^\u001b[0m\n\u001b[0;31mSyntaxError\u001b[0m\u001b[0;31m:\u001b[0m incomplete input\n"
          ]
        }
      ]
    },
    {
      "cell_type": "code",
      "source": [
        "#Program - 3\n",
        "'''\n",
        "num=[1,2,3,4]\n",
        "res=[]\n",
        "for i in range(0,len(num),2):\n",
        "  f=num[i]\n",
        "  v=num[i+1]\n",
        "  res.extend([v]*f)\n",
        "print(res)\n",
        "'''\n",
        "'''\n",
        "def decompress(num:list[int]):\n",
        "  res=[]\n",
        "  for i in range(0,len(num),2):\n",
        "    freq,val=num[i],num[i+1]\n",
        "    res.extend([val]*freq)\n",
        "  return res\n",
        "num=[1,2,3,4]\n",
        "print(decompress(num))\n",
        "'''"
      ],
      "metadata": {
        "colab": {
          "base_uri": "https://localhost:8080/"
        },
        "id": "9brClGm7QZTK",
        "outputId": "5c15dae5-bafa-4816-9095-af32b027646b"
      },
      "execution_count": 22,
      "outputs": [
        {
          "output_type": "stream",
          "name": "stdout",
          "text": [
            "[2, 4, 4, 4]\n"
          ]
        }
      ]
    }
  ]
}