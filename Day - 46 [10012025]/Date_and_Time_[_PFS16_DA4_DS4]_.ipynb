{
  "nbformat": 4,
  "nbformat_minor": 0,
  "metadata": {
    "colab": {
      "provenance": []
    },
    "kernelspec": {
      "name": "python3",
      "display_name": "Python 3"
    },
    "language_info": {
      "name": "python"
    }
  },
  "cells": [
    {
      "cell_type": "markdown",
      "source": [
        "#DATE & TIME\n",
        "    1. date\n",
        "    2. time\n",
        "    3. datetime\n",
        "    4. timedelta"
      ],
      "metadata": {
        "id": "G3rzKDyYQ7Vj"
      }
    },
    {
      "cell_type": "markdown",
      "source": [
        "#date\n",
        "    1. today()\n",
        "        1.1. today().year\n",
        "        1.2. today().month\n",
        "        1.3. today().day\n",
        "    2. date(yyyy,mm,dd)\n",
        "\n"
      ],
      "metadata": {
        "id": "dCRayrouTq8V"
      }
    },
    {
      "cell_type": "code",
      "source": [
        "from datetime import date\n",
        "\n",
        "# Current date\n",
        "current_date = date.today()\n",
        "print(\"Current Date:\", current_date)"
      ],
      "metadata": {
        "colab": {
          "base_uri": "https://localhost:8080/"
        },
        "id": "2LdNfHpwDtTT",
        "outputId": "7d61fd7b-225f-4e27-adb9-3dd464140b00"
      },
      "execution_count": null,
      "outputs": [
        {
          "output_type": "stream",
          "name": "stdout",
          "text": [
            "Current Date: 2025-01-10\n"
          ]
        }
      ]
    },
    {
      "cell_type": "code",
      "source": [
        "# Create a specific date\n",
        "specific_date = date(2024, 12, 30)\n",
        "print(\"Specific Date:\", specific_date)"
      ],
      "metadata": {
        "colab": {
          "base_uri": "https://localhost:8080/"
        },
        "id": "xnQsjDfqD7w0",
        "outputId": "c356610a-c44c-4a66-f59f-2187f9e3e786"
      },
      "execution_count": null,
      "outputs": [
        {
          "output_type": "stream",
          "name": "stdout",
          "text": [
            "Specific Date: 2024-12-30\n"
          ]
        }
      ]
    },
    {
      "cell_type": "code",
      "source": [
        "# Extract year, month, day\n",
        "current_date = date.today()\n",
        "print(\"Year:\", current_date.year)\n",
        "print(\"Month:\", current_date.month)\n",
        "print(\"Day:\", current_date.day)"
      ],
      "metadata": {
        "colab": {
          "base_uri": "https://localhost:8080/"
        },
        "id": "55UrBUPOEHUk",
        "outputId": "ad84ddd4-a037-40c9-cc99-0c1275b2697c"
      },
      "execution_count": null,
      "outputs": [
        {
          "output_type": "stream",
          "name": "stdout",
          "text": [
            "Year: 2025\n",
            "Month: 1\n",
            "Day: 10\n"
          ]
        }
      ]
    },
    {
      "cell_type": "code",
      "source": [
        "from datetime import date\n",
        "\n",
        "# Current date\n",
        "current_date = date.today()\n",
        "print(\"Current Date:\", current_date)\n",
        "\n",
        "# Create a specific date\n",
        "specific_date = date(2024, 12, 30)\n",
        "print(\"Specific Date:\", specific_date)\n",
        "\n",
        "# Extract year, month, day\n",
        "print(\"Year:\", current_date.year)\n",
        "print(\"Month:\", current_date.month)\n",
        "print(\"Day:\", current_date.day)\n"
      ],
      "metadata": {
        "id": "K_sCghrKTvdY"
      },
      "execution_count": null,
      "outputs": []
    },
    {
      "cell_type": "markdown",
      "source": [
        "#time\n",
        "    1. time(hh,mm,ss)\n",
        "        1.1. time(hh,mm,ss).hour\n",
        "        1.2. time(hh,mm,ss).minute\n",
        "        1.3. time(hh,mm,ss).second\n",
        "    2. time.now()"
      ],
      "metadata": {
        "id": "ZiHiJYnZTstO"
      }
    },
    {
      "cell_type": "code",
      "source": [
        "from datetime import datetime\n",
        "current_time = datetime.now().time()\n",
        "print(\"Current Time: \",current_time)"
      ],
      "metadata": {
        "colab": {
          "base_uri": "https://localhost:8080/"
        },
        "id": "XRtqenDuHBB3",
        "outputId": "1ba44042-1526-4a43-9b13-0646c0ff3865"
      },
      "execution_count": null,
      "outputs": [
        {
          "output_type": "stream",
          "name": "stdout",
          "text": [
            "Current Time:  07:29:23.488903\n"
          ]
        }
      ]
    },
    {
      "cell_type": "code",
      "source": [
        "\n",
        "# Create a specific time\n",
        "specific_time = time(14, 30, 45)  # 2:30:45 PM\n",
        "print(\"Specific Time:\", specific_time)"
      ],
      "metadata": {
        "colab": {
          "base_uri": "https://localhost:8080/"
        },
        "id": "mmWBGNi7GVH4",
        "outputId": "621d7d53-babf-4bbe-81e2-90aef75c1a42"
      },
      "execution_count": null,
      "outputs": [
        {
          "output_type": "stream",
          "name": "stdout",
          "text": [
            "Specific Time: 14:30:45\n"
          ]
        }
      ]
    },
    {
      "cell_type": "code",
      "source": [
        "# Extract hour, minute, second\n",
        "print(\"Hour:\", specific_time.hour)\n",
        "print(\"Minute:\", specific_time.minute)\n",
        "print(\"Second:\", specific_time.second)"
      ],
      "metadata": {
        "colab": {
          "base_uri": "https://localhost:8080/"
        },
        "id": "jE9U2ddiGfu5",
        "outputId": "cb6fac78-3690-4a42-b3d0-9b8579827732"
      },
      "execution_count": null,
      "outputs": [
        {
          "output_type": "stream",
          "name": "stdout",
          "text": [
            "Hour: 14\n",
            "Minute: 30\n",
            "Second: 45\n"
          ]
        }
      ]
    },
    {
      "cell_type": "code",
      "source": [
        "from datetime import time\n",
        "\n",
        "# Create a specific time\n",
        "specific_time = time(14, 30, 45)  # 2:30:45 PM\n",
        "print(\"Specific Time:\", specific_time)\n",
        "\n",
        "# Extract hour, minute, second\n",
        "print(\"Hour:\", specific_time.hour)\n",
        "print(\"Minute:\", specific_time.minute)\n",
        "print(\"Second:\", specific_time.second)\n"
      ],
      "metadata": {
        "id": "Hv5G135kT_l_"
      },
      "execution_count": null,
      "outputs": []
    },
    {
      "cell_type": "markdown",
      "source": [
        "#datetime\n",
        "    1. datetime.now()\n",
        "    2. datetime.today()"
      ],
      "metadata": {
        "id": "X-VobpGdTtk1"
      }
    },
    {
      "cell_type": "code",
      "source": [
        "from datetime import datetime\n",
        "\n",
        "# Current date and time\n",
        "now = datetime.now()\n",
        "print(\"Current Date and Time:\", now)"
      ],
      "metadata": {
        "colab": {
          "base_uri": "https://localhost:8080/"
        },
        "id": "Beva98QJH9G3",
        "outputId": "879a2627-de64-47d2-ed1b-a89fa750585b"
      },
      "execution_count": null,
      "outputs": [
        {
          "output_type": "stream",
          "name": "stdout",
          "text": [
            "Current Date and Time: 2025-01-10 07:31:16.321492\n"
          ]
        }
      ]
    },
    {
      "cell_type": "code",
      "source": [
        "# Current date\n",
        "today = datetime.today()\n",
        "print(\"Today's Date:\", today)"
      ],
      "metadata": {
        "colab": {
          "base_uri": "https://localhost:8080/"
        },
        "id": "2R_CAn5HIBXs",
        "outputId": "da6cd5ff-8f9a-4f15-c897-7669a0ed44e7"
      },
      "execution_count": null,
      "outputs": [
        {
          "output_type": "stream",
          "name": "stdout",
          "text": [
            "Today's Date: 2025-01-10 07:31:33.253657\n"
          ]
        }
      ]
    },
    {
      "cell_type": "code",
      "source": [
        "from datetime import datetime\n",
        "\n",
        "# Current date and time\n",
        "now = datetime.now()\n",
        "print(\"Current Date and Time:\", now)\n",
        "\n",
        "# Current date\n",
        "today = datetime.today()\n",
        "print(\"Today's Date:\", today)\n"
      ],
      "metadata": {
        "id": "aBeSzQRhT3hd"
      },
      "execution_count": null,
      "outputs": []
    },
    {
      "cell_type": "markdown",
      "source": [
        "#Formatting Date and Time\n",
        "    1. now.strftime(<format>)\n",
        "        %Y - Year\n",
        "        %m - Month\n",
        "        %d - day\n",
        "        %H - Hour\n",
        "        %M - Minute\n",
        "        %S - Second\n",
        "    2. datetime.strptime(<date string>,<format>)"
      ],
      "metadata": {
        "id": "Iy5kGuB2UF1a"
      }
    },
    {
      "cell_type": "code",
      "source": [
        "from datetime import datetime\n",
        "\n",
        "formatted = datetime.now()\n",
        "formatted_date = formatted.strftime(\"%m-%Y-%d %H:%M:%S\")\n",
        "print(\"Formatted Date and Time:\", formatted-date)\n",
        "\n",
        "# Parse a string into a datetime object\n",
        "date_string = \"2024-12-30 14:30:45\"\n",
        "parsed_date = datetime.strptime(date_string, \"%Y-%m-%d %H:%M:%S\")\n",
        "print(\"Parsed Date:\", parsed_date)\n"
      ],
      "metadata": {
        "id": "oKUqSD5kUIC6",
        "colab": {
          "base_uri": "https://localhost:8080/"
        },
        "outputId": "375f8c52-0d7b-4ffc-f4cf-941f9b00670b"
      },
      "execution_count": null,
      "outputs": [
        {
          "output_type": "stream",
          "name": "stdout",
          "text": [
            "01-2025-10 07:44:55\n",
            "Parsed Date: 2024-12-30 14:30:45\n"
          ]
        }
      ]
    },
    {
      "cell_type": "markdown",
      "source": [
        "#Performing Date Arithmetic\n"
      ],
      "metadata": {
        "id": "SpU717BGUMN8"
      }
    },
    {
      "cell_type": "code",
      "source": [
        "from datetime import timedelta\n",
        "\n",
        "current_date = date.today()\n",
        "\n",
        "# Add 10 days to the current date\n",
        "future_date = current_date + timedelta(days=10)\n",
        "print(\"Date after 10 days:\", future_date)\n",
        "\n",
        "# Subtract 5 days from the current date\n",
        "past_date = current_date - timedelta(days=5)\n",
        "print(\"Date 5 days ago:\", past_date)\n",
        "\n",
        "# Calculate difference between two dates\n",
        "difference = future_date - past_date\n",
        "print(\"Difference in days:\", difference.days)\n"
      ],
      "metadata": {
        "id": "wD91EtczUNr8",
        "colab": {
          "base_uri": "https://localhost:8080/"
        },
        "outputId": "3847537a-e739-4606-bc2d-6546672878ca"
      },
      "execution_count": null,
      "outputs": [
        {
          "output_type": "stream",
          "name": "stdout",
          "text": [
            "Date after 10 days: 2025-01-20\n",
            "Date 5 days ago: 2025-01-05\n",
            "Difference in days: 15\n"
          ]
        }
      ]
    },
    {
      "cell_type": "markdown",
      "source": [
        "#Time Module\n",
        "    1. time.time()\n",
        "    2. time.sleep(<value>)"
      ],
      "metadata": {
        "id": "beRhyrohUX2q"
      }
    },
    {
      "cell_type": "code",
      "source": [
        "import time\n",
        "\n",
        "# Get the current time as a timestamp\n",
        "current_timestamp = time.time()\n",
        "print(\"Current Timestamp:\", current_timestamp)\n",
        "\n",
        "# Sleep for 2 seconds\n",
        "print(\"Waiting for 2 seconds...\")\n",
        "time.sleep(2)\n",
        "print(\"Done!\")\n"
      ],
      "metadata": {
        "id": "-a_seNmQUXVh",
        "colab": {
          "base_uri": "https://localhost:8080/"
        },
        "outputId": "6f522fb9-96ae-4e9d-95dc-de4431302026"
      },
      "execution_count": null,
      "outputs": [
        {
          "output_type": "stream",
          "name": "stdout",
          "text": [
            "Current Timestamp: 1736495705.3650591\n",
            "Waiting for 2 seconds...\n",
            "Done!\n"
          ]
        }
      ]
    }
  ]
}