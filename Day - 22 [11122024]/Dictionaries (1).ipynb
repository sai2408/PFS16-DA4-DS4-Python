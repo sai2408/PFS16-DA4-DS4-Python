{
  "nbformat": 4,
  "nbformat_minor": 0,
  "metadata": {
    "colab": {
      "provenance": []
    },
    "kernelspec": {
      "name": "python3",
      "display_name": "Python 3"
    },
    "language_info": {
      "name": "python"
    }
  },
  "cells": [
    {
      "cell_type": "markdown",
      "source": [
        "#Operations of Dictionary\n",
        "    1. Creation\n",
        "    2. Accessing\n",
        "    3. Insertion\n",
        "    4. Deletion\n",
        "    5. Updation"
      ],
      "metadata": {
        "id": "aamE2XD4ma_r"
      }
    },
    {
      "cell_type": "markdown",
      "source": [
        "#Creation\n",
        "    1. Empty dictionary\n",
        "    2. Dictionary with values\n",
        "    3. Dictionary values with user inputs"
      ],
      "metadata": {
        "id": "x2wrrzZumltU"
      }
    },
    {
      "cell_type": "code",
      "source": [
        "#Empty dictionary\n",
        "'''\n",
        "d = {}\n",
        "print(d)\n",
        "print(type(d))\n",
        "'''\n",
        "#Dictionary with values\n",
        "'''\n",
        "d = {1:100,\"a\":\"sai\",2:\"abc\",\"x\":34,45:3.45,1:1000}\n",
        "print(d)\n",
        "print(type(d))\n",
        "'''\n",
        "#Dictionary with user inputs\n",
        "'''\n",
        "n = int(input(\":enter no of elements: \"))\n",
        "d = {}\n",
        "for i in range(n):\n",
        "  key = input()\n",
        "  value = input()\n",
        "  d[key] = value\n",
        "print(d)\n",
        "print(type(d))\n",
        "'''"
      ],
      "metadata": {
        "colab": {
          "base_uri": "https://localhost:8080/"
        },
        "id": "PAFigoEmnNKi",
        "outputId": "fd874446-fcb4-447a-b356-2f3a055a96fd"
      },
      "execution_count": null,
      "outputs": [
        {
          "output_type": "stream",
          "name": "stdout",
          "text": [
            ":enter no of elements: 3\n",
            "10\n",
            "100\n",
            "abc\n",
            "abcdefg\n",
            "x\n",
            "56.789\n",
            "{'10': '100', 'abc': 'abcdefg', 'x': '56.789'}\n",
            "<class 'dict'>\n"
          ]
        }
      ]
    },
    {
      "cell_type": "markdown",
      "source": [
        "#Accessing\n",
        "    1. Indexing\n",
        "    2. Looping\n",
        "    3. Methods\n"
      ],
      "metadata": {
        "id": "8Qce8asLmvLh"
      }
    },
    {
      "cell_type": "code",
      "source": [
        "d = {1:100,2:200,3:300,4:400}\n",
        "#Indexing\n",
        "'''\n",
        "print(d[2])\n",
        "print(d[3])\n",
        "'''\n",
        "#Methods\n",
        "'''\n",
        "print(d.get(2))\n",
        "print(d.get(3))\n",
        "print(d.get(5))\n",
        "d1 = d.copy()\n",
        "print(d1)\n",
        "print(d.keys())\n",
        "x = d.keys()\n",
        "print(x)\n",
        "print(d.values())\n",
        "x = d.values()\n",
        "print(x)\n",
        "print(d.items())\n",
        "'''\n",
        "#Looping\n",
        "'''\n",
        "for i in d:\n",
        "  print(i)\n",
        "for i in d:\n",
        "  print(i,end=\" \")\n",
        "for i in d.keys():\n",
        "  print(i)\n",
        "for i in d:\n",
        "  print(d[i])\n",
        "for i in d:\n",
        "  print(d[i],end=\" \")\n",
        "for i in d.values():\n",
        "  print(i)\n",
        "for i in d.items():\n",
        "  print(i)\n",
        "for i in d.items():\n",
        "  print(i[0])\n",
        "for i in d.items():\n",
        "  print(i[1])\n",
        "'''"
      ],
      "metadata": {
        "colab": {
          "base_uri": "https://localhost:8080/"
        },
        "id": "04HP7yeQoO36",
        "outputId": "fd8dd4c6-57b8-4cca-8781-76bcd69be0a0"
      },
      "execution_count": null,
      "outputs": [
        {
          "output_type": "stream",
          "name": "stdout",
          "text": [
            "(1, 100)\n",
            "(2, 200)\n",
            "(3, 300)\n",
            "(4, 400)\n",
            "1\n",
            "2\n",
            "3\n",
            "4\n",
            "100\n",
            "200\n",
            "300\n",
            "400\n"
          ]
        }
      ]
    },
    {
      "cell_type": "markdown",
      "source": [
        "#Insertion\n",
        "    1. Indexing\n",
        "    2. Methods"
      ],
      "metadata": {
        "id": "7RShbzAYm5cQ"
      }
    },
    {
      "cell_type": "code",
      "source": [
        "d = {1:10,2:20,3:30,4:40,5:50}\n",
        "#Indexing\n",
        "'''\n",
        "print(d)\n",
        "d[6] = 60\n",
        "print(d)\n",
        "'''\n",
        "#methods\n",
        "'''\n",
        "d.update({5:500,6:60})\n",
        "print(d)\n",
        "'''\n"
      ],
      "metadata": {
        "colab": {
          "base_uri": "https://localhost:8080/"
        },
        "id": "URPlYndeqGac",
        "outputId": "3e9a7cdf-59c3-49a9-e35c-47b4a91a31e2"
      },
      "execution_count": null,
      "outputs": [
        {
          "output_type": "stream",
          "name": "stdout",
          "text": [
            "{1: 10, 2: 20, 3: 30, 4: 40, 5: 500, 6: 60}\n"
          ]
        }
      ]
    },
    {
      "cell_type": "markdown",
      "source": [
        "#Deletion\n",
        "    1. Indexing\n",
        "    2. Methods\n",
        "    3. Keywords [ del ]"
      ],
      "metadata": {
        "id": "Wusqz086m-e-"
      }
    },
    {
      "cell_type": "code",
      "source": [
        "d = {1:10,2:20,3:30,4:40}\n",
        "#keywords\n",
        "'''\n",
        "del d\n",
        "del(d)\n",
        "'''\n",
        "#Indexing\n",
        "'''\n",
        "print(d)\n",
        "del d[2]\n",
        "print(d)\n",
        "'''\n",
        "#Methods\n",
        "'''\n",
        "print(d)\n",
        "d.pop(2)\n",
        "print(d)\n",
        "print(d)\n",
        "d.popitem()\n",
        "print(d)\n",
        "'''"
      ],
      "metadata": {
        "colab": {
          "base_uri": "https://localhost:8080/"
        },
        "id": "Nbp-QVmTqoTV",
        "outputId": "8213d945-00ba-4b6a-8cb5-0e2a11440732"
      },
      "execution_count": null,
      "outputs": [
        {
          "output_type": "stream",
          "name": "stdout",
          "text": [
            "{1: 10, 2: 20, 3: 30, 4: 40}\n",
            "{1: 10, 2: 20, 3: 30}\n"
          ]
        }
      ]
    },
    {
      "cell_type": "markdown",
      "source": [
        "#Updation\n",
        "    1. Indexing\n",
        "    2. Methods"
      ],
      "metadata": {
        "id": "CMDOcjx1nE1q"
      }
    },
    {
      "cell_type": "code",
      "source": [
        "d = {1:10,2:20,3:30,4:40}\n",
        "#Indexing\n",
        "'''\n",
        "print(d)\n",
        "d[2] = 250\n",
        "print(d)\n",
        "'''\n",
        "#Methods\n",
        "'''\n",
        "print(d)\n",
        "d.update({3:350})\n",
        "print(d)\n",
        "'''"
      ],
      "metadata": {
        "colab": {
          "base_uri": "https://localhost:8080/"
        },
        "id": "cGialejLroin",
        "outputId": "3985648e-48d6-4cfb-fa66-be060b0ceb91"
      },
      "execution_count": null,
      "outputs": [
        {
          "output_type": "stream",
          "name": "stdout",
          "text": [
            "{1: 10, 2: 20, 3: 30, 4: 40}\n",
            "{1: 10, 2: 20, 3: 350, 4: 40}\n"
          ]
        }
      ]
    },
    {
      "cell_type": "markdown",
      "source": [
        "#Dictionary Builtin functions\n",
        "    1. len()\n",
        "    2. sorted()"
      ],
      "metadata": {
        "id": "le-Q_J92sAg7"
      }
    },
    {
      "cell_type": "code",
      "source": [
        "d = {1:10,3:20,2:30,4:40}\n",
        "print(d)\n",
        "print(len(d))\n",
        "print(sorted(d))"
      ],
      "metadata": {
        "colab": {
          "base_uri": "https://localhost:8080/"
        },
        "id": "aiS_-GGosF6k",
        "outputId": "55b03df7-9186-4452-b19b-1db5c0529036"
      },
      "execution_count": null,
      "outputs": [
        {
          "output_type": "stream",
          "name": "stdout",
          "text": [
            "{1: 10, 3: 20, 2: 30, 4: 40}\n",
            "4\n",
            "[1, 2, 3, 4]\n"
          ]
        }
      ]
    },
    {
      "cell_type": "markdown",
      "source": [
        "#External Operations\n",
        "    1. Membership"
      ],
      "metadata": {
        "id": "ljkF8AFFsYji"
      }
    },
    {
      "cell_type": "code",
      "source": [
        "d = {10:100,20:200,30:300}\n",
        "print(d)\n",
        "print(10 in d)\n",
        "print(100 in d)\n",
        "print(100 not in d)"
      ],
      "metadata": {
        "colab": {
          "base_uri": "https://localhost:8080/"
        },
        "id": "fQ4dmSwSscc0",
        "outputId": "36b44580-d665-4ba6-a8ad-e1efb4e70276"
      },
      "execution_count": null,
      "outputs": [
        {
          "output_type": "stream",
          "name": "stdout",
          "text": [
            "{10: 100, 20: 200, 30: 300}\n",
            "True\n",
            "False\n",
            "True\n"
          ]
        }
      ]
    },
    {
      "cell_type": "markdown",
      "source": [
        "#Nested Dictionary"
      ],
      "metadata": {
        "id": "qZhd5qb1ssg7"
      }
    },
    {
      "cell_type": "code",
      "source": [
        "d = {1:10,2:[20,30],3:(40,50)}\n",
        "print(d)\n",
        "print(d[2][1])\n",
        "print(d[3][0])"
      ],
      "metadata": {
        "colab": {
          "base_uri": "https://localhost:8080/"
        },
        "id": "Ha52Zbsssvwr",
        "outputId": "935a66f6-e6fc-4b1e-d413-23ebb1131f54"
      },
      "execution_count": null,
      "outputs": [
        {
          "output_type": "stream",
          "name": "stdout",
          "text": [
            "{1: 10, 2: [20, 30], 3: (40, 50)}\n",
            "30\n",
            "40\n"
          ]
        }
      ]
    },
    {
      "cell_type": "markdown",
      "source": [
        "#Problem - 1\n",
        "    Take Details of the user\n",
        "    Details :\n",
        "      0. Roll\n",
        "      1. Name\n",
        "      2. Date of birth [ dd-mm ]\n",
        "      3. Instagram\n",
        "      4. Mobile\n",
        "    User will ask for roll no\n",
        "      1. Name :  --------\n",
        "      2. DOB : 24 - August\n",
        "      3. Insta Id : ---------\n",
        "      4. Mobile : -----------"
      ],
      "metadata": {
        "id": "1B_T3AbbtFfF"
      }
    },
    {
      "cell_type": "code",
      "source": [
        "students = {}\n",
        "months = {1:\"jan\",2:\"feb\",3:\"mar\",4:\"apr\",5:\"may\",6:\"jun\",7:\"july\",8:\"aug\",9:\"sep\",10:\"oct\",11:\"nov\",12:\"dec\"}\n",
        "n = int(input(\"Enter no of Students: \"))\n",
        "for i in range(n):\n",
        "  print(f\"Enter deatails of {i+1} student: \")\n",
        "  roll = int(input(\"Enter Roll number: \"))\n",
        "  name = input(\"Enter name: \")\n",
        "  dob = list(map(int,input(\"Enter DOB [ dd-mm ]\").split(\"-\")))\n",
        "  insta = input(\"Enter Insta Id: \")\n",
        "  mobile = input(\"Enter Mobile Number: \")\n",
        "  dob1 = f\"{str(dob[0])} - {months[dob[1]]}\"\n",
        "  if roll in students:\n",
        "    print(\"Roll number already exists\")\n",
        "  else:\n",
        "    students[roll] = {\"name\" : name,\"dob\":dob1,\"insta\":insta,\"mobile\":mobile}\n",
        "    print(\"Data Added sucessfully\")\n",
        "r = int(input(\"Enter roll number to get details: \"))\n",
        "if r not in students:\n",
        "  print(\"Student does not exists\")\n",
        "else:\n",
        "  x = students[r]\n",
        "  print(f\"Name : {x['name']}\")\n",
        "  print(f\"DOB : {x['dob']}\")\n",
        "  print(f\"Insta Id : {x['insta']}\")\n",
        "  print(f\"Mobile : {x['mobile']}\")\n",
        "\n"
      ],
      "metadata": {
        "colab": {
          "base_uri": "https://localhost:8080/"
        },
        "id": "nwQ2AbjouP5S",
        "outputId": "86c23900-24fe-4f6a-d8c0-7a8344291760"
      },
      "execution_count": null,
      "outputs": [
        {
          "output_type": "stream",
          "name": "stdout",
          "text": [
            "Enter no of Students: 2\n",
            "Enter deatails of 1 student: \n",
            "Enter Roll number: 101\n",
            "Enter name: vardhan\n",
            "Enter DOB [ dd-mm ]24-8\n",
            "Enter Insta Id: iamsai2408\n",
            "Enter Mobile Number: 7893570611\n",
            "Data Added sucessfully\n",
            "Enter deatails of 2 student: \n",
            "Enter Roll number: 101\n",
            "Enter name: malli\n",
            "Enter DOB [ dd-mm ]16-5\n",
            "Enter Insta Id: malli1234\n",
            "Enter Mobile Number: 9876543211\n",
            "Roll number already exists\n",
            "Enter roll number to get details: 101\n",
            "Name : vardhan\n",
            "DOB : 24 - faug\n",
            "Insta Id : iamsai2408\n",
            "Mobile : 7893570611\n"
          ]
        }
      ]
    },
    {
      "cell_type": "code",
      "source": [
        "#Problem - 2\n",
        "d = {}\n",
        "n = int(input())\n",
        "for i in range(n):\n",
        "  x = input()\n",
        "  if x in d:\n",
        "    d[x] = d[x] + 1\n",
        "  else:\n",
        "    d[x] = 1\n",
        "#print(d)\n",
        "k = d.values()\n",
        "k1 = max(k)\n",
        "r = []\n",
        "#print(k1)\n",
        "for i in d:\n",
        "  if d[i] == k1:\n",
        "    r.append(i)\n",
        "#print(r)\n",
        "r.sort()\n",
        "#print(r)\n",
        "k2 = r[-1]\n",
        "print(k2,k1)"
      ],
      "metadata": {
        "colab": {
          "base_uri": "https://localhost:8080/"
        },
        "id": "WmoLgdtCzMJ4",
        "outputId": "c1d17e2d-47f7-4a8e-c198-8c7ac55c6788"
      },
      "execution_count": null,
      "outputs": [
        {
          "output_type": "stream",
          "name": "stdout",
          "text": [
            "10\n",
            "mountain\n",
            "lake\n",
            "lake\n",
            "zebra\n",
            "tree\n",
            "lake\n",
            "zebra\n",
            "zebra\n",
            "animal\n",
            "lakes\n",
            "{'mountain': 1, 'lake': 3, 'zebra': 3, 'tree': 1, 'animal': 1, 'lakes': 1}\n",
            "3\n",
            "['lake', 'zebra']\n",
            "['lake', 'zebra']\n",
            "zebra 3\n"
          ]
        }
      ]
    },
    {
      "cell_type": "code",
      "source": [],
      "metadata": {
        "id": "CU9ZND3u4I6l"
      },
      "execution_count": null,
      "outputs": []
    }
  ]
}