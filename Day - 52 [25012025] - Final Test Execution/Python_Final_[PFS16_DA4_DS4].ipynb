{
  "nbformat": 4,
  "nbformat_minor": 0,
  "metadata": {
    "colab": {
      "provenance": []
    },
    "kernelspec": {
      "name": "python3",
      "display_name": "Python 3"
    },
    "language_info": {
      "name": "python"
    }
  },
  "cells": [
    {
      "cell_type": "markdown",
      "source": [
        "#MOVE ALL ZEROES TO END"
      ],
      "metadata": {
        "id": "gBvbxSeZUxl-"
      }
    },
    {
      "cell_type": "code",
      "source": [
        "#Approach - 1\n",
        "'''\n",
        "arr = [3,5,0,0,4]\n",
        "c = arr.count(0)\n",
        "for i in range(c):\n",
        "  arr.remove(0)\n",
        "print(arr)\n",
        "for i in range(c):\n",
        "  arr.append(0)\n",
        "print(arr)\n",
        "'''\n"
      ],
      "metadata": {
        "colab": {
          "base_uri": "https://localhost:8080/"
        },
        "id": "x8nyP0ekU8O3",
        "outputId": "038729fd-ba3e-451d-83b5-3a9f1167dc73"
      },
      "execution_count": 6,
      "outputs": [
        {
          "output_type": "stream",
          "name": "stdout",
          "text": [
            "[3, 5, 4]\n",
            "[3, 5, 4, 0, 0]\n"
          ]
        }
      ]
    },
    {
      "cell_type": "markdown",
      "source": [
        "#CHEF AND DOLLS"
      ],
      "metadata": {
        "id": "AuhWVMstU6P5"
      }
    },
    {
      "cell_type": "code",
      "source": [
        "# cook your dish here\n",
        "t = int(input())\n",
        "for _ in range(t):\n",
        "    n = int(input())\n",
        "    arr = []\n",
        "    for i in range(n):\n",
        "        x = int(input())\n",
        "        arr.append(x)\n",
        "    for i in arr:\n",
        "        if arr.count(i)%2 != 0:\n",
        "            print(i)\n",
        "            break"
      ],
      "metadata": {
        "id": "MuAGNoefVCi6"
      },
      "execution_count": null,
      "outputs": []
    },
    {
      "cell_type": "markdown",
      "source": [
        "#EQUAL ELEMENTS"
      ],
      "metadata": {
        "id": "EtopdodIU5cy"
      }
    },
    {
      "cell_type": "code",
      "source": [
        "#Appraoch - 1\n",
        "'''\n",
        "t=int(input())\n",
        "for _ in range(t):\n",
        "    n=int(input())\n",
        "    l=list(map(int,input().split()))[:n]\n",
        "    a={}\n",
        "    for i in l:\n",
        "        if i not in a:\n",
        "            a[i]=1\n",
        "        else:\n",
        "            a[i]+=1\n",
        "    x = a.values()\n",
        "    print(n-max(x))\n",
        "'''\n",
        "#Appraoch - 2\n",
        "'''\n",
        "from collections import Counter\n",
        "t=int(input())\n",
        "for _ in range(t):\n",
        "    n=int(input())\n",
        "    arr=list(map(int,input().split()))\n",
        "    c=Counter(arr)\n",
        "    maxi=max(c.values())\n",
        "    print(n-maxi)\n",
        "'''\n"
      ],
      "metadata": {
        "colab": {
          "base_uri": "https://localhost:8080/",
          "height": 53
        },
        "id": "UK6NZZA4VCG0",
        "outputId": "0b466e5e-c40f-41ee-982a-e79e9c6a3918"
      },
      "execution_count": 7,
      "outputs": [
        {
          "output_type": "execute_result",
          "data": {
            "text/plain": [
              "'\\nfrom collections import Counter\\nt=int(input())\\nfor _ in range(t):\\n    n=int(input())\\n    arr=list(map(int,input().split()))\\n    c=Counter(arr)\\n    maxi=max(c.values())\\n    print(n-maxi)\\n'"
            ],
            "application/vnd.google.colaboratory.intrinsic+json": {
              "type": "string"
            }
          },
          "metadata": {},
          "execution_count": 7
        }
      ]
    }
  ]
}