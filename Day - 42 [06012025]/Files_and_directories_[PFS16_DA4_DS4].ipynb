{
  "nbformat": 4,
  "nbformat_minor": 0,
  "metadata": {
    "colab": {
      "provenance": []
    },
    "kernelspec": {
      "name": "python3",
      "display_name": "Python 3"
    },
    "language_info": {
      "name": "python"
    }
  },
  "cells": [
    {
      "cell_type": "markdown",
      "source": [
        "#File Handling in Python\n",
        "\n",
        "    Operations\n",
        "      1. Opening a file\n",
        "      2. Reading Data From file\n",
        "      3. Writing Data into file\n",
        "      4. Adding Data into existing File\n",
        "      5. closing a file"
      ],
      "metadata": {
        "id": "7kia_Rxi6rF2"
      }
    },
    {
      "cell_type": "markdown",
      "source": [
        "#Syntax\n",
        "    varible_name = open(filename,Mode)\n",
        "\n",
        "    Filename : Relative or Absolute path of a file\n",
        "    Mode: String that indicates what to do with the file\n",
        "\n",
        "#Modes\n",
        "\n",
        "    'r': Read (default mode, file must exist)\n",
        "    'w': Write (creates file if not exists, overwrites if exists)\n",
        "    'a': Append (adds content to the end, creates file if not exists)\n",
        "    'r+': Read and Write (reads and writes data at a single time)"
      ],
      "metadata": {
        "id": "G5itJ0QO7TQ9"
      }
    },
    {
      "cell_type": "markdown",
      "source": [
        "#Reading a File"
      ],
      "metadata": {
        "id": "csYGeB3P8Fzp"
      }
    },
    {
      "cell_type": "code",
      "execution_count": null,
      "metadata": {
        "id": "ckI0WJtB6j-_",
        "colab": {
          "base_uri": "https://localhost:8080/"
        },
        "outputId": "63af2e7f-562a-4c9f-ebe8-b1205fce82a8"
      },
      "outputs": [
        {
          "output_type": "stream",
          "name": "stdout",
          "text": [
            "Hello codegnan\n"
          ]
        }
      ],
      "source": [
        "f = open(\"sample.txt\",\"r\")\n",
        "data = f.read()\n",
        "print(data)\n",
        "f.close()"
      ]
    },
    {
      "cell_type": "markdown",
      "source": [
        "#Writing into a file"
      ],
      "metadata": {
        "id": "ycV7OOII8L1-"
      }
    },
    {
      "cell_type": "code",
      "source": [
        "f = open(\"sample1.txt\",\"w\")\n",
        "f.write(\"Hello World\")\n",
        "f.close()"
      ],
      "metadata": {
        "id": "XuqSu_p78RnC",
        "colab": {
          "base_uri": "https://localhost:8080/",
          "height": 193
        },
        "outputId": "11062604-5da8-4255-e8dd-c66319f1cbea"
      },
      "execution_count": null,
      "outputs": [
        {
          "output_type": "error",
          "ename": "UnsupportedOperation",
          "evalue": "not readable",
          "traceback": [
            "\u001b[0;31m---------------------------------------------------------------------------\u001b[0m",
            "\u001b[0;31mUnsupportedOperation\u001b[0m                      Traceback (most recent call last)",
            "\u001b[0;32m<ipython-input-8-a64402d06472>\u001b[0m in \u001b[0;36m<cell line: 3>\u001b[0;34m()\u001b[0m\n\u001b[1;32m      1\u001b[0m \u001b[0mf\u001b[0m \u001b[0;34m=\u001b[0m \u001b[0mopen\u001b[0m\u001b[0;34m(\u001b[0m\u001b[0;34m\"sample1.txt\"\u001b[0m\u001b[0;34m,\u001b[0m\u001b[0;34m\"w\"\u001b[0m\u001b[0;34m)\u001b[0m\u001b[0;34m\u001b[0m\u001b[0;34m\u001b[0m\u001b[0m\n\u001b[1;32m      2\u001b[0m \u001b[0mf\u001b[0m\u001b[0;34m.\u001b[0m\u001b[0mwrite\u001b[0m\u001b[0;34m(\u001b[0m\u001b[0;34m\"Hello World\"\u001b[0m\u001b[0;34m)\u001b[0m\u001b[0;34m\u001b[0m\u001b[0;34m\u001b[0m\u001b[0m\n\u001b[0;32m----> 3\u001b[0;31m \u001b[0mf\u001b[0m\u001b[0;34m.\u001b[0m\u001b[0mread\u001b[0m\u001b[0;34m(\u001b[0m\u001b[0;34m)\u001b[0m\u001b[0;34m\u001b[0m\u001b[0;34m\u001b[0m\u001b[0m\n\u001b[0m\u001b[1;32m      4\u001b[0m \u001b[0mf\u001b[0m\u001b[0;34m.\u001b[0m\u001b[0mclose\u001b[0m\u001b[0;34m(\u001b[0m\u001b[0;34m)\u001b[0m\u001b[0;34m\u001b[0m\u001b[0;34m\u001b[0m\u001b[0m\n",
            "\u001b[0;31mUnsupportedOperation\u001b[0m: not readable"
          ]
        }
      ]
    },
    {
      "cell_type": "code",
      "source": [
        "f = open(\"sample2.txt\",\"w\")\n",
        "f.write(\"Hello\")\n",
        "f.close()"
      ],
      "metadata": {
        "id": "_qvtz98Aps0u"
      },
      "execution_count": null,
      "outputs": []
    },
    {
      "cell_type": "markdown",
      "source": [
        "#Appending into a file"
      ],
      "metadata": {
        "id": "R56tG-CX8SIa"
      }
    },
    {
      "cell_type": "code",
      "source": [
        "f = open(\"sample.txt\",\"a\")\n",
        "f.write(\"\\nWelcome to Python World\")\n",
        "f.close()\n"
      ],
      "metadata": {
        "id": "k9jsKeHd8U5H"
      },
      "execution_count": null,
      "outputs": []
    },
    {
      "cell_type": "markdown",
      "source": [
        "#Read and Write"
      ],
      "metadata": {
        "id": "nixF24B78gxx"
      }
    },
    {
      "cell_type": "code",
      "source": [
        "f = open(\"sample.txt\",\"r+\")\n",
        "data = f.read()\n",
        "print(data)\n",
        "f.write(\"Fresh Data\")\n",
        "f.close()"
      ],
      "metadata": {
        "id": "mGykSZ9W8iBl",
        "colab": {
          "base_uri": "https://localhost:8080/"
        },
        "outputId": "3f476a3b-8bb5-4882-dfac-bda084728127"
      },
      "execution_count": null,
      "outputs": [
        {
          "output_type": "stream",
          "name": "stdout",
          "text": [
            "Hello People\n",
            "Welcome to Python World\n",
            "\n"
          ]
        }
      ]
    },
    {
      "cell_type": "markdown",
      "source": [
        "#Seek Method"
      ],
      "metadata": {
        "id": "Y1nPmrLq8mmN"
      }
    },
    {
      "cell_type": "code",
      "source": [
        "f = open(\"sample2.txt\",\"a+\")\n",
        "f.seek(2)\n",
        "f.write(\" Python \")\n",
        "f.close()"
      ],
      "metadata": {
        "id": "dYobyC9Q8oCX"
      },
      "execution_count": null,
      "outputs": []
    },
    {
      "cell_type": "markdown",
      "source": [
        "#Directories\n",
        "    1. mkdir()\n",
        "    2. rmdir()\n",
        "    3. chdir()\n",
        "    4. listdir()\n"
      ],
      "metadata": {
        "id": "FWleFQWA8s2H"
      }
    },
    {
      "cell_type": "markdown",
      "source": [
        "#Importing OS"
      ],
      "metadata": {
        "id": "bmHUqaxN9FUB"
      }
    },
    {
      "cell_type": "code",
      "source": [
        "from os import *"
      ],
      "metadata": {
        "id": "5proGIfH9E0u"
      },
      "execution_count": null,
      "outputs": []
    }
  ]
}