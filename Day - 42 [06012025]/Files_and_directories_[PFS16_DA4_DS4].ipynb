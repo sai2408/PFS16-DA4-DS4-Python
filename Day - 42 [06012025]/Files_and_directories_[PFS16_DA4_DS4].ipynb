{
  "nbformat": 4,
  "nbformat_minor": 0,
  "metadata": {
    "colab": {
      "provenance": []
    },
    "kernelspec": {
      "name": "python3",
      "display_name": "Python 3"
    },
    "language_info": {
      "name": "python"
    }
  },
  "cells": [
    {
      "cell_type": "markdown",
      "source": [
        "#File Handling in Python\n",
        "\n",
        "    Operations\n",
        "      1. Opening a file\n",
        "      2. Reading Data From file\n",
        "      3. Writing Data into file\n",
        "      4. Adding Data into existing File\n",
        "      5. closing a file"
      ],
      "metadata": {
        "id": "7kia_Rxi6rF2"
      }
    },
    {
      "cell_type": "markdown",
      "source": [
        "#Syntax\n",
        "    varible_name = open(filename,Mode)\n",
        "\n",
        "    Filename : Relative or Absolute path of a file\n",
        "    Mode: String that indicates what to do with the file\n",
        "\n",
        "#Modes\n",
        "\n",
        "    'r': Read (default mode, file must exist)\n",
        "    'w': Write (creates file if not exists, overwrites if exists)\n",
        "    'a': Append (adds content to the end, creates file if not exists)\n",
        "    'r+': Read and Write (reads and writes data at a single time)"
      ],
      "metadata": {
        "id": "G5itJ0QO7TQ9"
      }
    },
    {
      "cell_type": "markdown",
      "source": [
        "#Reading a File"
      ],
      "metadata": {
        "id": "csYGeB3P8Fzp"
      }
    },
    {
      "cell_type": "code",
      "execution_count": null,
      "metadata": {
        "id": "ckI0WJtB6j-_",
        "colab": {
          "base_uri": "https://localhost:8080/"
        },
        "outputId": "67ff31d1-4ad3-4665-8dc7-b86712db96d2"
      },
      "outputs": [
        {
          "output_type": "stream",
          "name": "stdout",
          "text": [
            "hello codegnan\n"
          ]
        }
      ],
      "source": [
        "f = open(\"sample.txt\",\"r\")\n",
        "data = f.read()\n",
        "print(data)\n",
        "f.close()"
      ]
    },
    {
      "cell_type": "markdown",
      "source": [
        "#Writing into a file"
      ],
      "metadata": {
        "id": "ycV7OOII8L1-"
      }
    },
    {
      "cell_type": "code",
      "source": [
        "f = open(\"abc.txt\",\"w\")\n",
        "f.write(\"Hello World\")\n",
        "f.close()"
      ],
      "metadata": {
        "id": "XuqSu_p78RnC"
      },
      "execution_count": null,
      "outputs": []
    },
    {
      "cell_type": "code",
      "source": [
        "f = open(\"sample2.txt\",\"w\")\n",
        "f.write(\"Hello\")\n",
        "f.close()"
      ],
      "metadata": {
        "id": "_qvtz98Aps0u"
      },
      "execution_count": null,
      "outputs": []
    },
    {
      "cell_type": "markdown",
      "source": [
        "#Appending into a file"
      ],
      "metadata": {
        "id": "R56tG-CX8SIa"
      }
    },
    {
      "cell_type": "code",
      "source": [
        "f = open(\"sample.txt\",\"a\")\n",
        "f.write(\"\\nWelcome to Python World\")\n",
        "f.close()\n"
      ],
      "metadata": {
        "id": "k9jsKeHd8U5H"
      },
      "execution_count": null,
      "outputs": []
    },
    {
      "cell_type": "markdown",
      "source": [
        "#Read and Write"
      ],
      "metadata": {
        "id": "nixF24B78gxx"
      }
    },
    {
      "cell_type": "code",
      "source": [
        "f = open(\"sample.txt\",\"r+\")\n",
        "data = f.read()\n",
        "print(data)\n",
        "f.write(\"\\nFresh Data\")\n",
        "f.close()"
      ],
      "metadata": {
        "id": "mGykSZ9W8iBl",
        "colab": {
          "base_uri": "https://localhost:8080/"
        },
        "outputId": "69472b22-63e7-4880-bf54-3aceb34607c1"
      },
      "execution_count": null,
      "outputs": [
        {
          "output_type": "stream",
          "name": "stdout",
          "text": [
            "hello codegnan\n",
            "\n"
          ]
        }
      ]
    },
    {
      "cell_type": "markdown",
      "source": [
        "#Seek Method"
      ],
      "metadata": {
        "id": "Y1nPmrLq8mmN"
      }
    },
    {
      "cell_type": "code",
      "source": [
        "f = open(\"sample2.txt\",\"a+\")\n",
        "f.seek(2)\n",
        "f.write(\" Python \")\n",
        "f.close()"
      ],
      "metadata": {
        "id": "dYobyC9Q8oCX"
      },
      "execution_count": null,
      "outputs": []
    },
    {
      "cell_type": "markdown",
      "source": [
        "#Directories\n",
        "    1. mkdir()\n",
        "    2. rmdir()\n",
        "    3. chdir()\n",
        "    4. listdir()\n"
      ],
      "metadata": {
        "id": "FWleFQWA8s2H"
      }
    },
    {
      "cell_type": "markdown",
      "source": [
        "#Importing OS"
      ],
      "metadata": {
        "id": "bmHUqaxN9FUB"
      }
    },
    {
      "cell_type": "code",
      "source": [
        "from os import *\n",
        "mkdir(\"sample3\")"
      ],
      "metadata": {
        "id": "5proGIfH9E0u"
      },
      "execution_count": 8,
      "outputs": []
    },
    {
      "cell_type": "code",
      "source": [
        "from os import *\n",
        "rmdir(\"sample3\")"
      ],
      "metadata": {
        "id": "J5oBXaObsjJh"
      },
      "execution_count": 9,
      "outputs": []
    },
    {
      "cell_type": "code",
      "source": [
        "from os import *\n",
        "listdir()"
      ],
      "metadata": {
        "colab": {
          "base_uri": "https://localhost:8080/"
        },
        "id": "zISZCEkQspOq",
        "outputId": "81b9613c-041f-4ae7-efac-73eb6f8ea147"
      },
      "execution_count": 11,
      "outputs": [
        {
          "output_type": "execute_result",
          "data": {
            "text/plain": [
              "['.config',\n",
              " 'sample.txt',\n",
              " '.ipynb_checkpoints',\n",
              " 'sample2',\n",
              " 'sample1',\n",
              " 'abc.txt',\n",
              " 'sample_data']"
            ]
          },
          "metadata": {},
          "execution_count": 11
        }
      ]
    },
    {
      "cell_type": "code",
      "source": [
        "chdir(\"sample1\")"
      ],
      "metadata": {
        "id": "v2stPJsRs2cs"
      },
      "execution_count": 12,
      "outputs": []
    },
    {
      "cell_type": "code",
      "source": [
        "listdir()"
      ],
      "metadata": {
        "colab": {
          "base_uri": "https://localhost:8080/"
        },
        "id": "0ZrXdYDVtLBE",
        "outputId": "62558095-d816-43d1-c7fd-1f76e3ab8572"
      },
      "execution_count": 13,
      "outputs": [
        {
          "output_type": "execute_result",
          "data": {
            "text/plain": [
              "['.ipynb_checkpoints', 's1', 's2']"
            ]
          },
          "metadata": {},
          "execution_count": 13
        }
      ]
    },
    {
      "cell_type": "code",
      "source": [
        "chdir(\"..\")"
      ],
      "metadata": {
        "id": "Lz_VQ25PtP2X"
      },
      "execution_count": 15,
      "outputs": []
    },
    {
      "cell_type": "code",
      "source": [
        "chdir(\"sample2\")"
      ],
      "metadata": {
        "id": "z958jbdFtdqK"
      },
      "execution_count": 16,
      "outputs": []
    },
    {
      "cell_type": "code",
      "source": [
        "listdir()"
      ],
      "metadata": {
        "colab": {
          "base_uri": "https://localhost:8080/"
        },
        "id": "BnhWyXO1tf4i",
        "outputId": "0df33014-4836-4226-e9b5-258e0e638b24"
      },
      "execution_count": 17,
      "outputs": [
        {
          "output_type": "execute_result",
          "data": {
            "text/plain": [
              "['s4', '.ipynb_checkpoints', 's3']"
            ]
          },
          "metadata": {},
          "execution_count": 17
        }
      ]
    }
  ]
}