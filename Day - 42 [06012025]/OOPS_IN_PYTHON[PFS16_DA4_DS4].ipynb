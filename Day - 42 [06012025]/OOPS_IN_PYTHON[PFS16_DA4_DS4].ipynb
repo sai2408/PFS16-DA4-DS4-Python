{
  "nbformat": 4,
  "nbformat_minor": 0,
  "metadata": {
    "colab": {
      "provenance": []
    },
    "kernelspec": {
      "name": "python3",
      "display_name": "Python 3"
    },
    "language_info": {
      "name": "python"
    }
  },
  "cells": [
    {
      "cell_type": "markdown",
      "source": [
        "#OOPS IN PYTHON\n",
        "    1. Class\n",
        "    2. Object\n",
        "    3. Attributes\n",
        "    4. Methods\n",
        "    5. Constructors"
      ],
      "metadata": {
        "id": "ogHMnCf9J05C"
      }
    },
    {
      "cell_type": "code",
      "source": [
        "a = 30\n",
        "def abc():\n",
        "  print(\"Hello Outside Class\")\n",
        "class sample:\n",
        "  pass\n",
        "class sample1:\n",
        "  def __init__(self):\n",
        "    print(\"constructor inside sample 1\")\n",
        "  a = 10\n",
        "  def abc(self):\n",
        "    print(\"Hello Inside sample1\")\n",
        "class sample2:\n",
        "  def __init__(self):\n",
        "    print(\"constructor inside sample 2\")\n",
        "  a = 20\n",
        "  def abc(self):\n",
        "    print(\"Hello Inside sample2\")\n",
        "obj1 = sample1()\n",
        "obj2 = sample2()\n",
        "# print(obj1.a)\n",
        "# print(obj2.a)\n",
        "# print(a)\n",
        "# abc()\n",
        "# obj1.abc()\n",
        "# obj2.abc()"
      ],
      "metadata": {
        "colab": {
          "base_uri": "https://localhost:8080/"
        },
        "id": "iJ6HJDpiecct",
        "outputId": "ff2c7453-0782-46c2-9cd1-6daec67328c9"
      },
      "execution_count": null,
      "outputs": [
        {
          "output_type": "stream",
          "name": "stdout",
          "text": [
            "constructor inside sample 1\n",
            "constructor inside sample 2\n"
          ]
        }
      ]
    },
    {
      "cell_type": "code",
      "source": [
        "class abc:\n",
        "  def addition(self,a,b):\n",
        "    return a+b\n",
        "class xyz:\n",
        "  def multiplication(self,a,b):\n",
        "    return a*b\n",
        "obj1 = abc()\n",
        "obj2 = xyz()\n",
        "print(obj1.addition(10,30))\n",
        "print(obj2.multiplication(10,2))"
      ],
      "metadata": {
        "colab": {
          "base_uri": "https://localhost:8080/"
        },
        "id": "eTqju1LNgWRV",
        "outputId": "ecbcabc4-3f10-401d-d9eb-8d030e5164b6"
      },
      "execution_count": null,
      "outputs": [
        {
          "output_type": "stream",
          "name": "stdout",
          "text": [
            "40\n",
            "20\n"
          ]
        }
      ]
    },
    {
      "cell_type": "code",
      "source": [
        "class rectangle:\n",
        "  def __init__(self,l,b):\n",
        "    self.l = l\n",
        "    self.b = b\n",
        "  def area(self):\n",
        "    return self.l*self.b\n",
        "  def perimeter(self):\n",
        "    return 2*(self.l+self.b)\n",
        "obj1 = rectangle(10,20)\n",
        "print(obj1.area())\n",
        "print(obj1.perimeter())\n"
      ],
      "metadata": {
        "colab": {
          "base_uri": "https://localhost:8080/"
        },
        "id": "k_hXzJ9dgxaL",
        "outputId": "b06b7d2d-a764-4f8d-9995-e5c2d1c732fb"
      },
      "execution_count": null,
      "outputs": [
        {
          "output_type": "stream",
          "name": "stdout",
          "text": [
            "200\n",
            "60\n"
          ]
        }
      ]
    },
    {
      "cell_type": "code",
      "source": [
        "class square:\n",
        "  def __init__(self,s):\n",
        "    self.s = s\n",
        "  def area(self):\n",
        "    print(self.s*self.s)\n",
        "  def perimeter(self):\n",
        "    print(4*self.s)\n",
        "s1 = square(10)\n",
        "s2 = square(4)\n",
        "s1.area()\n",
        "s2.area()\n",
        "s1.perimeter()\n",
        "s2.perimeter()"
      ],
      "metadata": {
        "colab": {
          "base_uri": "https://localhost:8080/"
        },
        "id": "G55mpDOpjUJe",
        "outputId": "9cfae7f4-c5cc-4bc1-b5a6-2db8147b792a"
      },
      "execution_count": null,
      "outputs": [
        {
          "output_type": "stream",
          "name": "stdout",
          "text": [
            "100\n",
            "16\n",
            "40\n",
            "16\n"
          ]
        }
      ]
    },
    {
      "cell_type": "code",
      "source": [
        "class ABC:\n",
        "  def __init__(self,n):\n",
        "    self.n = n\n",
        "  def sumofnumbers(self):\n",
        "    res = 0\n",
        "    for i in range(1,self.n+1):\n",
        "      res = res + i\n",
        "    return res\n",
        "  def productofnumbers(self):\n",
        "    res = 1\n",
        "    for i in range(1,self.n+1):\n",
        "      res = res * i\n",
        "    print(res)\n",
        "obj = ABC(5)\n",
        "print(obj.sumofnumbers())\n",
        "obj.productofnumbers()\n",
        "print(obj)"
      ],
      "metadata": {
        "colab": {
          "base_uri": "https://localhost:8080/"
        },
        "id": "WzKQ5gUSoC0Q",
        "outputId": "294bf938-2d3b-4f48-bf21-7186318c1d88"
      },
      "execution_count": null,
      "outputs": [
        {
          "output_type": "stream",
          "name": "stdout",
          "text": [
            "15\n",
            "120\n",
            "<__main__.ABC object at 0x780a8c2e70d0>\n"
          ]
        }
      ]
    },
    {
      "cell_type": "markdown",
      "source": [
        "#Access Specifiers\n",
        "    1. Public\n",
        "    2. Private"
      ],
      "metadata": {
        "id": "OsTk6AipKL8_"
      }
    },
    {
      "cell_type": "code",
      "source": [
        "a = 0\n",
        "class xyz:\n",
        "  def __init__(self):\n",
        "    self.a = 20\n",
        "  def display1(self):\n",
        "    self.a = 200\n",
        "    print(self.a)\n",
        "ob = xyz()\n",
        "print(ob.a)\n",
        "print(a)\n",
        "ob.display()\n",
        "ob.a = 300\n",
        "print(ob.a)"
      ],
      "metadata": {
        "colab": {
          "base_uri": "https://localhost:8080/"
        },
        "id": "JZTHS1gSjzaS",
        "outputId": "1a9a3138-09b5-40b7-fa63-507bf5b9b0b3"
      },
      "execution_count": null,
      "outputs": [
        {
          "output_type": "stream",
          "name": "stdout",
          "text": [
            "20\n",
            "0\n",
            "200\n",
            "300\n"
          ]
        }
      ]
    },
    {
      "cell_type": "code",
      "source": [
        "class abc:\n",
        "  def __init__(self):\n",
        "    self.__x = 10\n",
        "  def display1(self):\n",
        "    self.__x = 100\n",
        "    print(self.__x)\n",
        "  def display(self):\n",
        "    print(self.__x)\n",
        "ob1 = abc()\n",
        "ob1.display()\n",
        "ob1.display1()\n",
        "ob1.__x = 1000\n",
        "ob1.display()"
      ],
      "metadata": {
        "colab": {
          "base_uri": "https://localhost:8080/"
        },
        "id": "6IDNQfAok9qR",
        "outputId": "04bdabf9-c7c5-4c1b-aec8-39167a2c5ee3"
      },
      "execution_count": null,
      "outputs": [
        {
          "output_type": "stream",
          "name": "stdout",
          "text": [
            "10\n",
            "100\n",
            "100\n"
          ]
        }
      ]
    },
    {
      "cell_type": "markdown",
      "source": [
        "#4 PILLERS OF OOPS\n",
        "    1. Encapsulation\n",
        "    2. Inheritance\n",
        "    3. Polymorphism\n",
        "    3. Abstraction"
      ],
      "metadata": {
        "id": "Ia_IMFSxKCnw"
      }
    },
    {
      "cell_type": "markdown",
      "source": [
        "#1. Encapsulation"
      ],
      "metadata": {
        "id": "TQxczYS9LbSr"
      }
    },
    {
      "cell_type": "markdown",
      "source": [
        "#2. Inheritance\n",
        "    1. Single Inheritance\n",
        "    2. Multiple Inheritance\n",
        "    3. Multi Level Inheritance\n",
        "    4. Hierarchical Inheritance\n",
        "    5. Hybrid Inheritance"
      ],
      "metadata": {
        "id": "KEhv_M50Kyqv"
      }
    },
    {
      "cell_type": "code",
      "source": [
        "#Single Inheritance\n",
        "class parent:\n",
        "  c = 1000\n",
        "  a = 10\n",
        "  def hello(self):\n",
        "    print(\"I am from Parent class\")\n",
        "class child(parent):\n",
        "  c = 2000\n",
        "  b = 20\n",
        "  def display(self):\n",
        "    print(\"I am from child class\")\n",
        "p1 = parent()\n",
        "print(p1.a)\n",
        "p1.hello()\n",
        "c1 = child()\n",
        "print(c1.b)\n",
        "c1.display()\n",
        "c1.hello()\n",
        "print(c1.c)"
      ],
      "metadata": {
        "colab": {
          "base_uri": "https://localhost:8080/"
        },
        "id": "jLoK78TusGkE",
        "outputId": "d5ba70bf-898a-4842-a8d9-5adaa329b873"
      },
      "execution_count": null,
      "outputs": [
        {
          "output_type": "stream",
          "name": "stdout",
          "text": [
            "10\n",
            "I am from Parent class\n",
            "20\n",
            "I am from child class\n",
            "I am from Parent class\n",
            "1000\n"
          ]
        }
      ]
    },
    {
      "cell_type": "code",
      "source": [
        "#Multiple Inheritance\n",
        "class parent1:\n",
        "  a = 10\n",
        "  x = 100\n",
        "class parent2:\n",
        "  b = 20\n",
        "  x = 200\n",
        "class parent3:\n",
        "  c = 30\n",
        "  x = 300\n",
        "class child(parent2,parent1,parent3):\n",
        "  d = 40\n",
        "c1 = child()\n",
        "print(c1.d)\n",
        "print(c1.c)\n",
        "print(c1.b)\n",
        "print(c1.a)\n",
        "print(c1.x)"
      ],
      "metadata": {
        "colab": {
          "base_uri": "https://localhost:8080/"
        },
        "id": "rZEf1FcrvJSQ",
        "outputId": "7a2758dc-3287-467c-84dd-ba26d8c3ccc3"
      },
      "execution_count": null,
      "outputs": [
        {
          "output_type": "stream",
          "name": "stdout",
          "text": [
            "40\n",
            "30\n",
            "20\n",
            "10\n",
            "200\n"
          ]
        }
      ]
    },
    {
      "cell_type": "code",
      "source": [
        "#Multi Level\n",
        "class a:\n",
        "  x = 10\n",
        "class b(a):\n",
        "  y = 20\n",
        "class c(b):\n",
        "  z = 30\n",
        "#Scenario - 1\n",
        "c1 = c()\n",
        "print(c1.z)\n",
        "print(c1.y)\n",
        "print(c1.x)\n",
        "#Scenario - 2\n",
        "b1 = b()\n",
        "print(b1.y)\n",
        "print(b1.x)\n",
        "#Scenario - 3\n",
        "a1 = a()\n",
        "print(a1.x)"
      ],
      "metadata": {
        "colab": {
          "base_uri": "https://localhost:8080/"
        },
        "id": "A3qM1Ad1w5wp",
        "outputId": "901cf3e1-595f-4f09-df14-e9373508cf26"
      },
      "execution_count": null,
      "outputs": [
        {
          "output_type": "stream",
          "name": "stdout",
          "text": [
            "30\n",
            "20\n",
            "10\n",
            "20\n",
            "10\n",
            "10\n"
          ]
        }
      ]
    },
    {
      "cell_type": "code",
      "source": [
        "#Hireracical Inheritance\n",
        "class parent:\n",
        "  a = 10\n",
        "class child1(parent):\n",
        "  b = 20\n",
        "class child2(parent):\n",
        "  c = 30\n",
        "c1 =  child1()\n",
        "print(c1.a)\n",
        "print(c1.b)\n",
        "c2 = child2()\n",
        "print(c2.a)\n",
        "print(c2.c)"
      ],
      "metadata": {
        "colab": {
          "base_uri": "https://localhost:8080/"
        },
        "id": "IB1bmyFZssPX",
        "outputId": "29c99310-144b-470b-884d-7efe7fdbfa23"
      },
      "execution_count": null,
      "outputs": [
        {
          "output_type": "stream",
          "name": "stdout",
          "text": [
            "10\n",
            "20\n",
            "10\n",
            "30\n"
          ]
        }
      ]
    },
    {
      "cell_type": "markdown",
      "source": [
        "#Super Method"
      ],
      "metadata": {
        "id": "xtWsj_MqLJWt"
      }
    },
    {
      "cell_type": "code",
      "source": [
        "'''\n",
        "class abc:\n",
        "  def hello(self):\n",
        "    print(\"I am from class abc\")\n",
        "class xyz(abc):\n",
        "  def hello(self):\n",
        "    super().hello()\n",
        "    print(\"I am from class xyz\")\n",
        "x = xyz()\n",
        "x.hello()\n",
        "'''\n",
        "'''\n",
        "class abc:\n",
        "  def __init__(self):\n",
        "    print(\"I am from abc class\")\n",
        "class xyz(abc):\n",
        "  def __init__(self):\n",
        "    super().__init__()\n",
        "    print(\"I am from xyz class\")\n",
        "x = xyz()\n",
        "'''\n",
        "'''\n",
        "class a:\n",
        "  def __init__(self):\n",
        "    print(\"I am from class a\")\n",
        "class b(a):\n",
        "  def __init__(self):\n",
        "    print(\"I am from class b\")\n",
        "class c(b):\n",
        "  def __init__(self):\n",
        "    super().__init__()\n",
        "c1 = c()\n",
        "'''"
      ],
      "metadata": {
        "colab": {
          "base_uri": "https://localhost:8080/",
          "height": 297
        },
        "id": "2sKrzly40AFk",
        "outputId": "705ca04f-16a5-46a2-9da6-cd3b911797f0"
      },
      "execution_count": null,
      "outputs": [
        {
          "output_type": "stream",
          "name": "stdout",
          "text": [
            "I am from class b\n"
          ]
        },
        {
          "output_type": "error",
          "ename": "AttributeError",
          "evalue": "'NoneType' object has no attribute 'super'",
          "traceback": [
            "\u001b[0;31m---------------------------------------------------------------------------\u001b[0m",
            "\u001b[0;31mAttributeError\u001b[0m                            Traceback (most recent call last)",
            "\u001b[0;32m<ipython-input-18-07bc0ec3ebe1>\u001b[0m in \u001b[0;36m<cell line: 31>\u001b[0;34m()\u001b[0m\n\u001b[1;32m     29\u001b[0m   \u001b[0;32mdef\u001b[0m \u001b[0m__init__\u001b[0m\u001b[0;34m(\u001b[0m\u001b[0mself\u001b[0m\u001b[0;34m)\u001b[0m\u001b[0;34m:\u001b[0m\u001b[0;34m\u001b[0m\u001b[0;34m\u001b[0m\u001b[0m\n\u001b[1;32m     30\u001b[0m     \u001b[0msuper\u001b[0m\u001b[0;34m(\u001b[0m\u001b[0;34m)\u001b[0m\u001b[0;34m.\u001b[0m\u001b[0m__init__\u001b[0m\u001b[0;34m(\u001b[0m\u001b[0;34m)\u001b[0m\u001b[0;34m.\u001b[0m\u001b[0msuper\u001b[0m\u001b[0;34m(\u001b[0m\u001b[0;34m)\u001b[0m\u001b[0;34m.\u001b[0m\u001b[0m__init__\u001b[0m\u001b[0;34m(\u001b[0m\u001b[0;34m)\u001b[0m\u001b[0;34m\u001b[0m\u001b[0;34m\u001b[0m\u001b[0m\n\u001b[0;32m---> 31\u001b[0;31m \u001b[0mc1\u001b[0m \u001b[0;34m=\u001b[0m \u001b[0mc\u001b[0m\u001b[0;34m(\u001b[0m\u001b[0;34m)\u001b[0m\u001b[0;34m\u001b[0m\u001b[0;34m\u001b[0m\u001b[0m\n\u001b[0m",
            "\u001b[0;32m<ipython-input-18-07bc0ec3ebe1>\u001b[0m in \u001b[0;36m__init__\u001b[0;34m(self)\u001b[0m\n\u001b[1;32m     28\u001b[0m \u001b[0;32mclass\u001b[0m \u001b[0mc\u001b[0m\u001b[0;34m(\u001b[0m\u001b[0mb\u001b[0m\u001b[0;34m)\u001b[0m\u001b[0;34m:\u001b[0m\u001b[0;34m\u001b[0m\u001b[0;34m\u001b[0m\u001b[0m\n\u001b[1;32m     29\u001b[0m   \u001b[0;32mdef\u001b[0m \u001b[0m__init__\u001b[0m\u001b[0;34m(\u001b[0m\u001b[0mself\u001b[0m\u001b[0;34m)\u001b[0m\u001b[0;34m:\u001b[0m\u001b[0;34m\u001b[0m\u001b[0;34m\u001b[0m\u001b[0m\n\u001b[0;32m---> 30\u001b[0;31m     \u001b[0msuper\u001b[0m\u001b[0;34m(\u001b[0m\u001b[0;34m)\u001b[0m\u001b[0;34m.\u001b[0m\u001b[0m__init__\u001b[0m\u001b[0;34m(\u001b[0m\u001b[0;34m)\u001b[0m\u001b[0;34m.\u001b[0m\u001b[0msuper\u001b[0m\u001b[0;34m(\u001b[0m\u001b[0;34m)\u001b[0m\u001b[0;34m.\u001b[0m\u001b[0m__init__\u001b[0m\u001b[0;34m(\u001b[0m\u001b[0;34m)\u001b[0m\u001b[0;34m\u001b[0m\u001b[0;34m\u001b[0m\u001b[0m\n\u001b[0m\u001b[1;32m     31\u001b[0m \u001b[0mc1\u001b[0m \u001b[0;34m=\u001b[0m \u001b[0mc\u001b[0m\u001b[0;34m(\u001b[0m\u001b[0;34m)\u001b[0m\u001b[0;34m\u001b[0m\u001b[0;34m\u001b[0m\u001b[0m\n",
            "\u001b[0;31mAttributeError\u001b[0m: 'NoneType' object has no attribute 'super'"
          ]
        }
      ]
    },
    {
      "cell_type": "markdown",
      "source": [
        "#3. Polymorphism\n",
        "    1. Method Overloading\n",
        "    2. Method Overriding\n",
        "    3. Operator Overloading"
      ],
      "metadata": {
        "id": "uX0rzRvALLj2"
      }
    },
    {
      "cell_type": "code",
      "source": [
        "a = 10\n",
        "b = 20\n",
        "c = \"10\"\n",
        "d = \"20\"\n",
        "print(a+b)\n",
        "print(c+d)"
      ],
      "metadata": {
        "colab": {
          "base_uri": "https://localhost:8080/"
        },
        "id": "UqvHHpn_01cv",
        "outputId": "af3d1d27-8210-46cb-be87-b12424190834"
      },
      "execution_count": null,
      "outputs": [
        {
          "output_type": "stream",
          "name": "stdout",
          "text": [
            "30\n",
            "1020\n"
          ]
        }
      ]
    },
    {
      "cell_type": "markdown",
      "source": [
        "#4. Hybrid Inheritance"
      ],
      "metadata": {
        "id": "R7jHrQFKLVm2"
      }
    },
    {
      "cell_type": "markdown",
      "source": [
        "#Abstraction"
      ],
      "metadata": {
        "id": "Ws2CN-L16NPw"
      }
    },
    {
      "cell_type": "code",
      "source": [
        "from abc import ABC,abstractmethod\n",
        "class car(ABC):\n",
        "  @abstractmethod\n",
        "  def __init__(self,name,model,year):\n",
        "    self.name = name\n",
        "    self.model = model\n",
        "    self.year = year\n",
        "  def display(self):\n",
        "    print(self.name)\n",
        "class tata(car):\n",
        "  def __init__(self,name,model,year):\n",
        "    self.name = name\n",
        "    self.model = model\n",
        "    self.year = year\n",
        "  def display(self):\n",
        "    print(self.name)\n",
        "class bmw(car):\n",
        "  def __init__(self,name,model,year):\n",
        "    self.name = name\n",
        "    self.model = model\n",
        "    self.year = year\n",
        "  def display(self):\n",
        "    print(self.name)\n",
        "\n",
        "c1 = tata(\"nexon\",\"v1\",2024)\n",
        "c2 = tata(\"indica\",\"v1\",2012)\n",
        "c3 = bmw(\"x7\",\"v1\",2025)\n",
        "c1.display()\n",
        "c2.display()\n",
        "c3.display()\n"
      ],
      "metadata": {
        "colab": {
          "base_uri": "https://localhost:8080/"
        },
        "id": "Px5W0rZS6PG6",
        "outputId": "17f90efd-c908-4c68-e8a1-4e2bbbda2a25"
      },
      "execution_count": null,
      "outputs": [
        {
          "output_type": "stream",
          "name": "stdout",
          "text": [
            "nexon\n",
            "indica\n",
            "x7\n"
          ]
        }
      ]
    },
    {
      "cell_type": "markdown",
      "source": [
        "#Exception Handling\n",
        "    Key Points:\n",
        "        1. Try\n",
        "        2. Except\n",
        "        3. Else\n",
        "        4. Finally"
      ],
      "metadata": {
        "id": "S0h9ql9c1ZzX"
      }
    },
    {
      "cell_type": "code",
      "source": [
        "#Error Handling  (1)\n",
        "a = 10\n",
        "b = 0\n",
        "print(a/b)"
      ],
      "metadata": {
        "colab": {
          "base_uri": "https://localhost:8080/",
          "height": 176
        },
        "id": "SxdKSHgaiUIv",
        "outputId": "64a7122b-9341-4345-a1dc-7a7f41221ded"
      },
      "execution_count": null,
      "outputs": [
        {
          "output_type": "error",
          "ename": "ZeroDivisionError",
          "evalue": "division by zero",
          "traceback": [
            "\u001b[0;31m---------------------------------------------------------------------------\u001b[0m",
            "\u001b[0;31mZeroDivisionError\u001b[0m                         Traceback (most recent call last)",
            "\u001b[0;32m<ipython-input-3-32e8c7b6da71>\u001b[0m in \u001b[0;36m<cell line: 4>\u001b[0;34m()\u001b[0m\n\u001b[1;32m      2\u001b[0m \u001b[0ma\u001b[0m \u001b[0;34m=\u001b[0m \u001b[0;36m10\u001b[0m\u001b[0;34m\u001b[0m\u001b[0;34m\u001b[0m\u001b[0m\n\u001b[1;32m      3\u001b[0m \u001b[0mb\u001b[0m \u001b[0;34m=\u001b[0m \u001b[0;36m0\u001b[0m\u001b[0;34m\u001b[0m\u001b[0;34m\u001b[0m\u001b[0m\n\u001b[0;32m----> 4\u001b[0;31m \u001b[0mprint\u001b[0m\u001b[0;34m(\u001b[0m\u001b[0ma\u001b[0m\u001b[0;34m/\u001b[0m\u001b[0mb\u001b[0m\u001b[0;34m)\u001b[0m\u001b[0;34m\u001b[0m\u001b[0;34m\u001b[0m\u001b[0m\n\u001b[0m",
            "\u001b[0;31mZeroDivisionError\u001b[0m: division by zero"
          ]
        }
      ]
    },
    {
      "cell_type": "code",
      "source": [
        "#Error Handling  (2)\n",
        "a = 10\n",
        "b = \"abc\"\n",
        "print(a+b)"
      ],
      "metadata": {
        "colab": {
          "base_uri": "https://localhost:8080/",
          "height": 176
        },
        "id": "Tl4NB4qHioNC",
        "outputId": "51e772a4-b6a7-4e22-a7b2-5d2b582a0fd5"
      },
      "execution_count": null,
      "outputs": [
        {
          "output_type": "error",
          "ename": "TypeError",
          "evalue": "unsupported operand type(s) for +: 'int' and 'str'",
          "traceback": [
            "\u001b[0;31m---------------------------------------------------------------------------\u001b[0m",
            "\u001b[0;31mTypeError\u001b[0m                                 Traceback (most recent call last)",
            "\u001b[0;32m<ipython-input-5-f96de911622d>\u001b[0m in \u001b[0;36m<cell line: 4>\u001b[0;34m()\u001b[0m\n\u001b[1;32m      2\u001b[0m \u001b[0ma\u001b[0m \u001b[0;34m=\u001b[0m \u001b[0;36m10\u001b[0m\u001b[0;34m\u001b[0m\u001b[0;34m\u001b[0m\u001b[0m\n\u001b[1;32m      3\u001b[0m \u001b[0mb\u001b[0m \u001b[0;34m=\u001b[0m \u001b[0;34m\"abc\"\u001b[0m\u001b[0;34m\u001b[0m\u001b[0;34m\u001b[0m\u001b[0m\n\u001b[0;32m----> 4\u001b[0;31m \u001b[0mprint\u001b[0m\u001b[0;34m(\u001b[0m\u001b[0ma\u001b[0m\u001b[0;34m+\u001b[0m\u001b[0mb\u001b[0m\u001b[0;34m)\u001b[0m\u001b[0;34m\u001b[0m\u001b[0;34m\u001b[0m\u001b[0m\n\u001b[0m",
            "\u001b[0;31mTypeError\u001b[0m: unsupported operand type(s) for +: 'int' and 'str'"
          ]
        }
      ]
    },
    {
      "cell_type": "code",
      "source": [
        "#Error Handling  (3)\n",
        "a = int(input())\n",
        "print(a)"
      ],
      "metadata": {
        "colab": {
          "base_uri": "https://localhost:8080/",
          "height": 193
        },
        "id": "lc9_vHZtiuW3",
        "outputId": "55a55f71-8443-4ab3-e4ec-e41104f033f0"
      },
      "execution_count": null,
      "outputs": [
        {
          "name": "stdout",
          "output_type": "stream",
          "text": [
            "Hello\n"
          ]
        },
        {
          "output_type": "error",
          "ename": "ValueError",
          "evalue": "invalid literal for int() with base 10: 'Hello'",
          "traceback": [
            "\u001b[0;31m---------------------------------------------------------------------------\u001b[0m",
            "\u001b[0;31mValueError\u001b[0m                                Traceback (most recent call last)",
            "\u001b[0;32m<ipython-input-7-b9cb3a3e1ff4>\u001b[0m in \u001b[0;36m<cell line: 2>\u001b[0;34m()\u001b[0m\n\u001b[1;32m      1\u001b[0m \u001b[0;31m#Error Handling  (3)\u001b[0m\u001b[0;34m\u001b[0m\u001b[0;34m\u001b[0m\u001b[0m\n\u001b[0;32m----> 2\u001b[0;31m \u001b[0ma\u001b[0m \u001b[0;34m=\u001b[0m \u001b[0mint\u001b[0m\u001b[0;34m(\u001b[0m\u001b[0minput\u001b[0m\u001b[0;34m(\u001b[0m\u001b[0;34m)\u001b[0m\u001b[0;34m)\u001b[0m\u001b[0;34m\u001b[0m\u001b[0;34m\u001b[0m\u001b[0m\n\u001b[0m\u001b[1;32m      3\u001b[0m \u001b[0mprint\u001b[0m\u001b[0;34m(\u001b[0m\u001b[0ma\u001b[0m\u001b[0;34m)\u001b[0m\u001b[0;34m\u001b[0m\u001b[0;34m\u001b[0m\u001b[0m\n",
            "\u001b[0;31mValueError\u001b[0m: invalid literal for int() with base 10: 'Hello'"
          ]
        }
      ]
    },
    {
      "cell_type": "code",
      "source": [
        "try:\n",
        "  a = int(input())\n",
        "  b = int(input())\n",
        "  c = a/b\n",
        "except:\n",
        "  print(\"Error Occured\")\n",
        "else:\n",
        "  print(c)\n",
        "finally:\n",
        "  print(\"visit again\")"
      ],
      "metadata": {
        "colab": {
          "base_uri": "https://localhost:8080/"
        },
        "id": "zOhtrBi-i4Ij",
        "outputId": "af227ee7-3479-4401-d430-526541c6b7ce"
      },
      "execution_count": null,
      "outputs": [
        {
          "output_type": "stream",
          "name": "stdout",
          "text": [
            "10\n",
            "sai\n",
            "Error Occured\n",
            "visit again\n"
          ]
        }
      ]
    },
    {
      "cell_type": "code",
      "source": [
        "try:\n",
        "  a = int(input())\n",
        "  b = int(input())\n",
        "  c = a/b\n",
        "except ZeroDivisionError:\n",
        "  print(\"Zero divison Errorr Occured\")\n",
        "except:\n",
        "  print(\"another Error Occured\")\n",
        "else:\n",
        "  print(c)\n",
        "finally:\n",
        "  print(\"visit again\")"
      ],
      "metadata": {
        "colab": {
          "base_uri": "https://localhost:8080/"
        },
        "id": "pDBMg7tLjUPp",
        "outputId": "bb3a0f0d-671e-4d9b-c63e-d6c0e49f3e98"
      },
      "execution_count": null,
      "outputs": [
        {
          "output_type": "stream",
          "name": "stdout",
          "text": [
            "10\n",
            "sai\n",
            "another Error Occured\n",
            "visit again\n"
          ]
        }
      ]
    },
    {
      "cell_type": "code",
      "source": [
        "try:\n",
        "  a = int(input())\n",
        "  b = int(input())\n",
        "  c = a/b\n",
        "except ZeroDivisionError:\n",
        "  print(\"Zero divison Errorr Occured\")\n",
        "except ValueError:\n",
        "  print(\"Value error Occured\")\n",
        "except:\n",
        "  print(\"another error occured\")\n",
        "else:\n",
        "  print(c)\n",
        "finally:\n",
        "  print(\"visit again\")"
      ],
      "metadata": {
        "colab": {
          "base_uri": "https://localhost:8080/"
        },
        "id": "GnIo25O1jrlD",
        "outputId": "1e0de3a5-1dd7-4a79-c261-260eab59bdc2"
      },
      "execution_count": null,
      "outputs": [
        {
          "output_type": "stream",
          "name": "stdout",
          "text": [
            "10\n",
            "sai\n",
            "Value error Occured\n",
            "visit again\n"
          ]
        }
      ]
    },
    {
      "cell_type": "code",
      "source": [
        "try:\n",
        "  a = int(input())\n",
        "  b = int(input())\n",
        "  c1 = input()\n",
        "  c = a/b\n",
        "  d = a + c1\n",
        "except ZeroDivisionError:\n",
        "  print(\"Zero divison Errorr Occured\")\n",
        "except ValueError:\n",
        "  print(\"Value error Occured\")\n",
        "except Exception as e:\n",
        "  print(\"The Error  occured is :\" , e)\n",
        "else:\n",
        "  print(c)\n",
        "finally:\n",
        "  print(\"visit again\")"
      ],
      "metadata": {
        "colab": {
          "base_uri": "https://localhost:8080/"
        },
        "id": "wc_nbA90j8JJ",
        "outputId": "bda47c44-c6b3-4efb-bf5d-e2291c9ccfed"
      },
      "execution_count": null,
      "outputs": [
        {
          "output_type": "stream",
          "name": "stdout",
          "text": [
            "10\n",
            "2\n",
            "sai\n",
            "The Error  occured is : unsupported operand type(s) for +: 'int' and 'str'\n",
            "visit again\n"
          ]
        }
      ]
    }
  ]
}