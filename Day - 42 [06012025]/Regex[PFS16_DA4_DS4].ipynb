{
  "cells": [
    {
      "cell_type": "markdown",
      "source": [
        "#Regular Expression"
      ],
      "metadata": {
        "id": "xwHyW6LIQrbf"
      },
      "id": "xwHyW6LIQrbf"
    },
    {
      "cell_type": "markdown",
      "id": "e35544a9",
      "metadata": {
        "id": "e35544a9"
      },
      "source": [
        "\\d: Matches any digit (0-9). Example: \\d will match any single digit in a string.\n",
        "\n",
        "\\D: Matches any non-digit. Example: \\D will match any character that is not a digit.\n",
        "\n",
        "\\s: Matches any whitespace character (spaces, tabs, newlines). Example: \\s will match any space character.\n",
        "\n",
        "\\S: Matches any non-whitespace character. Example: \\S will match any character that is not a space.\n",
        "\n",
        "\\w: Matches any word character (alphanumeric + underscore). Example: \\w+ will match one or more word characters.\n",
        "\n",
        "\\W: Matches any non-word character. Example: \\W will match any character that is not a word character.\n",
        "\n",
        "\\A: Anchors the match at the start of the string. Example: \\A\\d will match a digit at the beginning of the string.\n",
        "\n",
        "\\b: Represents a word boundary. Example: \\bword\\b will match the word \"word\" as a whole word.\n",
        "\n",
        "\\B: Represents a non-word boundary. Example: \\Bword\\B will match the word \"word\" only if it's within another word.\n",
        "\n",
        "\\Z: Anchors the match at the end of the string. Example: pattern\\z will match \"pattern\" only at the end of the string."
      ]
    },
    {
      "cell_type": "markdown",
      "source": [
        "#Syntax\n",
        "\n",
        "```\n",
        "import re\n",
        "pattern = <Pattern>\n",
        "text = <Text>\n",
        "matches = re.<method_name>(pattern,text)\n",
        "print(matches)\n",
        "```\n",
        "\n"
      ],
      "metadata": {
        "id": "FkLJRj-LPCJl"
      },
      "id": "FkLJRj-LPCJl"
    },
    {
      "cell_type": "code",
      "execution_count": 3,
      "id": "88fe95ff",
      "metadata": {
        "id": "88fe95ff",
        "outputId": "38ae12de-b68b-4108-d42e-d7d027c7dac7",
        "colab": {
          "base_uri": "https://localhost:8080/"
        }
      },
      "outputs": [
        {
          "output_type": "stream",
          "name": "stdout",
          "text": [
            "['1', '2', '3', '1', '2', '5']\n"
          ]
        }
      ],
      "source": [
        "# \\d - Matches any digit (0-9)\n",
        "\n",
        "import re\n",
        "\n",
        "pattern = r'\\d'\n",
        "text = '1The 2price 3is 125 Rupees'\n",
        "\n",
        "matches = re.findall(pattern,text)\n",
        "print(matches)"
      ]
    },
    {
      "cell_type": "code",
      "execution_count": 5,
      "id": "0cff1e86",
      "metadata": {
        "id": "0cff1e86",
        "outputId": "905b2223-2f5f-4230-c28c-df1389f7543f",
        "colab": {
          "base_uri": "https://localhost:8080/"
        }
      },
      "outputs": [
        {
          "output_type": "stream",
          "name": "stdout",
          "text": [
            "['T', 'h', 'e', ' ', 'p', 'r', 'i', 'c', 'e', ' ', 'i', 's', ' ', ' ', 'R', 'u', 'p', 'e', 'e', 's', ' ', '$']\n"
          ]
        }
      ],
      "source": [
        "# \\D - Matches any non digit\n",
        "\n",
        "pattern = r'\\D'\n",
        "text = '1The 2price 3is 25 Rupees $'\n",
        "\n",
        "matches = re.findall(pattern,text)\n",
        "print(matches)"
      ]
    },
    {
      "cell_type": "code",
      "execution_count": 8,
      "id": "9d5b8337",
      "metadata": {
        "id": "9d5b8337",
        "outputId": "d2c69e06-5c50-4ea9-ac28-4514860c65f3",
        "colab": {
          "base_uri": "https://localhost:8080/"
        }
      },
      "outputs": [
        {
          "output_type": "stream",
          "name": "stdout",
          "text": [
            "[' ', ' ', ' ', ' ', ' ', ' ']\n"
          ]
        }
      ],
      "source": [
        "# \\s - Matches any white space character\n",
        "\n",
        "pattern = r'\\s'\n",
        "text = 'The  price is 25  Rupees'\n",
        "\n",
        "matches = re.findall(pattern,text)\n",
        "print(matches)"
      ]
    },
    {
      "cell_type": "code",
      "execution_count": 11,
      "id": "e226a94f",
      "metadata": {
        "id": "e226a94f",
        "outputId": "911d3b15-5a55-4fd1-8619-566260b5710e",
        "colab": {
          "base_uri": "https://localhost:8080/"
        }
      },
      "outputs": [
        {
          "output_type": "stream",
          "name": "stdout",
          "text": [
            "['1', 'T', 'h', 'e', 'p', 'r', 'i', 'c', 'e', 'i', 's', '2', '5', 'R', 'u', 'p', 'e', 'e', 's', '$']\n"
          ]
        }
      ],
      "source": [
        "# \\S - Matches any non - white space character\n",
        "\n",
        "pattern = r'\\S'\n",
        "text = '1The price is 25 Rupees $'\n",
        "\n",
        "matches = re.findall(pattern,text)\n",
        "print(matches)"
      ]
    },
    {
      "cell_type": "code",
      "execution_count": 12,
      "id": "ba6fa8cb",
      "metadata": {
        "id": "ba6fa8cb",
        "outputId": "1ff9c019-5f1b-4bb8-c4b8-8d2e75b65126",
        "colab": {
          "base_uri": "https://localhost:8080/"
        }
      },
      "outputs": [
        {
          "output_type": "stream",
          "name": "stdout",
          "text": [
            "['T', 'h', 'e', 'p', 'r', 'i', 'c', 'e', 'i', 's', '2', '5', '_', 'R', 'u', 'p', 'e', 'e', 's']\n"
          ]
        }
      ],
      "source": [
        "# \\w - Matches any word character(alphanumeric + underscore)\n",
        "import re\n",
        "pattern = r'\\w'\n",
        "text = 'The price is 25_Rupees $'\n",
        "\n",
        "matches = re.findall(pattern,text)\n",
        "print(matches)"
      ]
    },
    {
      "cell_type": "code",
      "execution_count": 14,
      "id": "7f820f2c",
      "metadata": {
        "id": "7f820f2c",
        "outputId": "702364fb-2c64-416d-f2be-3c4edb61d140",
        "colab": {
          "base_uri": "https://localhost:8080/"
        }
      },
      "outputs": [
        {
          "output_type": "stream",
          "name": "stdout",
          "text": [
            "[' ', ' ', ' ', ' ', ',', ' ', ' ', ' ', ' ', '#', ':']\n"
          ]
        }
      ],
      "source": [
        "# \\W - Matches any non word character\n",
        "\n",
        "pattern = r'\\W'\n",
        "text = 'The price is 25 Rupees, purchased by john_doe123 #:'\n",
        "\n",
        "matches = re.findall(pattern,text)\n",
        "print(matches)"
      ]
    },
    {
      "cell_type": "code",
      "execution_count": 19,
      "id": "f74389ab",
      "metadata": {
        "id": "f74389ab",
        "outputId": "8290787f-99e1-4b81-91f9-faa5c15ff11e",
        "colab": {
          "base_uri": "https://localhost:8080/"
        }
      },
      "outputs": [
        {
          "output_type": "stream",
          "name": "stdout",
          "text": [
            "[' A']\n"
          ]
        }
      ],
      "source": [
        "# \\A: Anchors the match at the start of the string\n",
        "\n",
        "pattern = r'\\A A'\n",
        "text = ' A Hello world'\n",
        "\n",
        "matches = re.findall(pattern,text)\n",
        "print(matches)"
      ]
    },
    {
      "cell_type": "code",
      "execution_count": 22,
      "id": "1b504c4e",
      "metadata": {
        "id": "1b504c4e",
        "outputId": "6f769f9c-d31e-4d63-f301-506e1b2170ca",
        "colab": {
          "base_uri": "https://localhost:8080/"
        }
      },
      "outputs": [
        {
          "output_type": "stream",
          "name": "stdout",
          "text": [
            "['price', 'price']\n"
          ]
        }
      ],
      "source": [
        "# \\b: Represents a word boundary.\n",
        "\n",
        "pattern = r'\\bprice'\n",
        "text = 'The price is 25 Rupees prices parice'\n",
        "\n",
        "matches = re.findall(pattern,text)\n",
        "print(matches)"
      ]
    },
    {
      "cell_type": "code",
      "execution_count": 24,
      "id": "b1a03834",
      "metadata": {
        "id": "b1a03834",
        "outputId": "0d319da3-dcd8-4666-97c9-bcf6893e8d17",
        "colab": {
          "base_uri": "https://localhost:8080/"
        }
      },
      "outputs": [
        {
          "output_type": "stream",
          "name": "stdout",
          "text": [
            "['over', 'over']\n"
          ]
        }
      ],
      "source": [
        "# \\B: Represents a non word boundary.\n",
        "import re\n",
        "pattern = r'\\Bover'\n",
        "text = 'the cover is covered'\n",
        "\n",
        "matches = re.findall(pattern,text)\n",
        "print(matches)"
      ]
    },
    {
      "cell_type": "code",
      "execution_count": 27,
      "id": "56895e83",
      "metadata": {
        "id": "56895e83",
        "outputId": "82e44b7f-b8db-48b9-ac80-dbab38d8c05c",
        "colab": {
          "base_uri": "https://localhost:8080/"
        }
      },
      "outputs": [
        {
          "output_type": "stream",
          "name": "stdout",
          "text": [
            "['end']\n"
          ]
        }
      ],
      "source": [
        "# \\Z: Anchors the match at the end of the string\n",
        "\n",
        "pattern = r'end\\Z'\n",
        "text = 'This is the send'\n",
        "\n",
        "matches = re.findall(pattern,text)\n",
        "print(matches)"
      ]
    },
    {
      "cell_type": "code",
      "execution_count": null,
      "id": "6e9601b0",
      "metadata": {
        "id": "6e9601b0"
      },
      "outputs": [],
      "source": []
    },
    {
      "cell_type": "raw",
      "id": "ca921b09",
      "metadata": {
        "id": "ca921b09"
      },
      "source": [
        "# Meta Characters\n",
        "\n",
        ". (Dot):\n",
        "Matches any character except the newline character.\n",
        "\n",
        "^ (Caret):\n",
        "Matches the pattern only at the start of the string, indicating a \"Starts With\" condition.\n",
        "\n",
        "$ (Dollar):\n",
        "Matches the pattern only at the end of the string before the newline character, indicating an \"Ends With\" condition.\n",
        "\n",
        "* (Asterisk):\n",
        "Matches zero or more occurrences of the preceding pattern.\n",
        "\n",
        "+ (Plus):\n",
        "Matches one or more occurrences of the preceding pattern.\n",
        "\n",
        "? (Question mark):\n",
        "Matches zero or one occurrence of the preceding pattern.\n",
        "\n",
        "{} (Curly Braces):\n",
        "Matches the exactly specified number of occurrences of the preceding pattern.\n",
        "\n",
        "[] (Bracket):\n",
        "Defines a set of characters, and the pattern matches any one of the characters within the set.\n",
        "\n",
        "| (Pipe):\n",
        "Acts as an OR operator, allowing the pattern to match either of the defined patterns."
      ]
    },
    {
      "cell_type": "code",
      "execution_count": null,
      "id": "7fea38b7",
      "metadata": {
        "id": "7fea38b7",
        "outputId": "ba1cd1e5-085c-446d-e29c-d208f18e7678"
      },
      "outputs": [
        {
          "name": "stdout",
          "output_type": "stream",
          "text": [
            "['hat', 'hit']\n"
          ]
        }
      ],
      "source": [
        "# Dot(.)\n",
        "\n",
        "pattern = r'h.t'\n",
        "text = 'hat, pot, hit, haat'\n",
        "\n",
        "matches = re.findall(pattern,text)\n",
        "print(matches)"
      ]
    },
    {
      "cell_type": "code",
      "execution_count": null,
      "id": "8eebb85d",
      "metadata": {
        "id": "8eebb85d",
        "outputId": "a9d5e840-6838-4573-aabb-2c99e47608c3"
      },
      "outputs": [
        {
          "name": "stdout",
          "output_type": "stream",
          "text": [
            "['The']\n"
          ]
        }
      ],
      "source": [
        "# Caret(^)\n",
        "\n",
        "pattern = r'^The'\n",
        "text = 'The price is 25 Rupees'\n",
        "\n",
        "matches = re.findall(pattern,text)\n",
        "print(matches)"
      ]
    },
    {
      "cell_type": "code",
      "execution_count": null,
      "id": "68dbf178",
      "metadata": {
        "id": "68dbf178",
        "outputId": "0989ef62-0d47-45f7-ff8a-070c85d660ae"
      },
      "outputs": [
        {
          "name": "stdout",
          "output_type": "stream",
          "text": [
            "['Rupees']\n"
          ]
        }
      ],
      "source": [
        "# $ (Dollar)\n",
        "\n",
        "pattern = r'Rupees$'\n",
        "text = 'The price is 25 Rupees'\n",
        "\n",
        "matches = re.findall(pattern,text)\n",
        "print(matches)"
      ]
    },
    {
      "cell_type": "code",
      "execution_count": null,
      "id": "cf5a6a57",
      "metadata": {
        "id": "cf5a6a57",
        "outputId": "f3826905-d8dc-4da1-cac4-bc1806a6e0b5"
      },
      "outputs": [
        {
          "name": "stdout",
          "output_type": "stream",
          "text": [
            "['ac', 'abc', 'abbc']\n"
          ]
        }
      ],
      "source": [
        "# * (Asterisk)\n",
        "\n",
        "pattern = r'ab*c'\n",
        "text = 'ac, abc, abbc, abd'\n",
        "\n",
        "matches = re.findall(pattern,text)\n",
        "print(matches)"
      ]
    },
    {
      "cell_type": "code",
      "execution_count": null,
      "id": "a7d08ceb",
      "metadata": {
        "id": "a7d08ceb",
        "outputId": "fd7cf10b-3297-429d-cf4e-ae1dbbca38e5"
      },
      "outputs": [
        {
          "name": "stdout",
          "output_type": "stream",
          "text": [
            "['abc', 'abbc']\n"
          ]
        }
      ],
      "source": [
        "# + (Plus):\n",
        "\n",
        "pattern = r'ab+c'\n",
        "text = 'ac, abc, abbc, abd'\n",
        "\n",
        "matches = re.findall(pattern,text)\n",
        "print(matches)"
      ]
    },
    {
      "cell_type": "code",
      "execution_count": null,
      "id": "7d9c168a",
      "metadata": {
        "id": "7d9c168a",
        "outputId": "71b576b3-e28f-4f0f-e6be-4d7f47c73005"
      },
      "outputs": [
        {
          "name": "stdout",
          "output_type": "stream",
          "text": [
            "['colors', 'color']\n"
          ]
        }
      ],
      "source": [
        "# ?(Question mark)\n",
        "\n",
        "pattern = r'colors?'\n",
        "text = 'hai, colors, color'\n",
        "\n",
        "matches = re.findall(pattern,text)\n",
        "print(matches)"
      ]
    },
    {
      "cell_type": "code",
      "execution_count": null,
      "id": "132f3463",
      "metadata": {
        "id": "132f3463",
        "outputId": "65c99364-5f8e-423e-98ed-bc5e98f24310"
      },
      "outputs": [
        {
          "name": "stdout",
          "output_type": "stream",
          "text": [
            "['10:10']\n"
          ]
        }
      ],
      "source": [
        "# {} (Curly Braces)\n",
        "\n",
        "pattern = r'\\d{2}:\\d{2}'\n",
        "text = 'The time is 10:10'\n",
        "\n",
        "matches = re.findall(pattern,text)\n",
        "print(matches)"
      ]
    },
    {
      "cell_type": "code",
      "execution_count": null,
      "id": "81fb063b",
      "metadata": {
        "id": "81fb063b",
        "outputId": "52351c08-4739-41e8-8b51-57dea7bd8182"
      },
      "outputs": [
        {
          "name": "stdout",
          "output_type": "stream",
          "text": [
            "['cat', 'hat']\n"
          ]
        }
      ],
      "source": [
        "# [] (Bracket)\n",
        "\n",
        "pattern = r'[ch]at'\n",
        "text = 'The cat wears hat'\n",
        "\n",
        "matches = re.findall(pattern,text)\n",
        "print(matches)"
      ]
    },
    {
      "cell_type": "code",
      "execution_count": null,
      "id": "b16b5eaf",
      "metadata": {
        "id": "b16b5eaf",
        "outputId": "f02e24ef-2e32-41d4-8248-3504132c5855"
      },
      "outputs": [
        {
          "name": "stdout",
          "output_type": "stream",
          "text": [
            "['cat ', ' hat']\n"
          ]
        }
      ],
      "source": [
        "# | (Pipe)\n",
        "\n",
        "pattern = r'cat | hat'\n",
        "text = 'The cat wears hat'\n",
        "\n",
        "matches = re.findall(pattern,text)\n",
        "print(matches)"
      ]
    },
    {
      "cell_type": "code",
      "execution_count": null,
      "id": "30cd0cf0",
      "metadata": {
        "id": "30cd0cf0"
      },
      "outputs": [],
      "source": []
    },
    {
      "cell_type": "markdown",
      "id": "fd66217f",
      "metadata": {
        "id": "fd66217f"
      },
      "source": [
        "### Regex Functions\n",
        "\n",
        "re.compile(pattern, flags=0): Compiles a regular expression pattern into a regex object for efficient reuse.\n",
        "\n",
        "re.search(pattern, string, flags=0): Searches for the first occurrence of the pattern in the string and returns a match object.\n",
        "\n",
        "re.match(pattern, string, flags=0): Checks if the pattern matches at the beginning of the string and returns a match object.\n",
        "\n",
        "re.fullmatch(pattern, string, flags=0): Checks if the entire string matches the pattern and returns a match object.\n",
        "\n",
        "re.split(pattern, string, maxsplit=0, flags=0): Splits the string at occurrences of the pattern and returns a list of substrings.\n",
        "\n",
        "re.findall(pattern, string, flags=0): Finds all occurrences of the pattern in the string and returns a list of matches.\n",
        "\n",
        "re.finditer(pattern, string, flags=0): Finds all occurrences of the pattern in the string and returns an iterator of match objects.\n",
        "\n",
        "re.sub(pattern, repl, string, count=0, flags=0): Substitutes occurrences of the pattern with the replacement string in the input string.\n",
        "\n",
        "re.subn(pattern, repl, string, count=0, flags=0): Similar to re.sub, but also returns the number of substitutions made.\n",
        "\n",
        "re.escape(string): Escapes special characters in the string, making it safe to use as a literal in a regex pattern.\n"
      ]
    },
    {
      "cell_type": "code",
      "execution_count": null,
      "id": "3e03586d",
      "metadata": {
        "id": "3e03586d",
        "outputId": "07bae43d-8c03-44b4-fc87-83e04b98927d"
      },
      "outputs": [
        {
          "name": "stdout",
          "output_type": "stream",
          "text": [
            "['123', '456']\n"
          ]
        }
      ],
      "source": [
        "# re.compile\n",
        "\n",
        "pattern = re.compile(r'\\d+')\n",
        "text = 'There are 123 apples and 456 oranges'\n",
        "\n",
        "matches = re.findall(pattern,text)\n",
        "print(matches)"
      ]
    },
    {
      "cell_type": "code",
      "execution_count": null,
      "id": "ab65562d",
      "metadata": {
        "id": "ab65562d",
        "outputId": "cafeca79-d6a1-43ee-d6a4-1ab093587fc7"
      },
      "outputs": [
        {
          "name": "stdout",
          "output_type": "stream",
          "text": [
            "123\n"
          ]
        }
      ],
      "source": [
        "# re.search\n",
        "\n",
        "pattern = re.compile(r'\\d+')\n",
        "text = 'There are 123 apples and 456 oranges'\n",
        "\n",
        "matches = pattern.search(text)\n",
        "print(matches.group())"
      ]
    },
    {
      "cell_type": "code",
      "execution_count": null,
      "id": "a5501c14",
      "metadata": {
        "id": "a5501c14",
        "outputId": "0fc22d3d-73bb-477e-b7f4-93b8917445e4"
      },
      "outputs": [
        {
          "name": "stdout",
          "output_type": "stream",
          "text": [
            "123\n"
          ]
        }
      ],
      "source": [
        "# re.match\n",
        "\n",
        "pattern = re.compile(r'\\d+')\n",
        "text = '123 apples and 456 oranges'\n",
        "\n",
        "matches = pattern.match(text)\n",
        "print(matches.group())"
      ]
    },
    {
      "cell_type": "code",
      "execution_count": null,
      "id": "3b4678c9",
      "metadata": {
        "id": "3b4678c9",
        "outputId": "2519024c-a227-4103-db05-d47e12957848"
      },
      "outputs": [
        {
          "name": "stdout",
          "output_type": "stream",
          "text": [
            "123456\n"
          ]
        }
      ],
      "source": [
        "# re.fullmatch\n",
        "\n",
        "pattern = re.compile(r'\\d+')\n",
        "text = '123456'\n",
        "\n",
        "matches = pattern.fullmatch(text)\n",
        "print(matches.group())"
      ]
    },
    {
      "cell_type": "code",
      "execution_count": null,
      "id": "f8020522",
      "metadata": {
        "id": "f8020522",
        "outputId": "d6b7f6c6-3d4c-479d-8681-6e22c84fd7fe"
      },
      "outputs": [
        {
          "name": "stdout",
          "output_type": "stream",
          "text": [
            "['The', 'price', 'of', 'apple', 'is', '25', 'Rupees']\n"
          ]
        }
      ],
      "source": [
        "# re.split\n",
        "\n",
        "pattern = re.compile(r'\\s+')\n",
        "text = 'The price of apple is 25 Rupees'\n",
        "\n",
        "matches = pattern.split(text)\n",
        "print(matches)"
      ]
    },
    {
      "cell_type": "code",
      "execution_count": null,
      "id": "10655f9f",
      "metadata": {
        "id": "10655f9f",
        "outputId": "ca63a501-a196-42d2-aac6-92f37704ceed"
      },
      "outputs": [
        {
          "name": "stdout",
          "output_type": "stream",
          "text": [
            "['123', '456']\n"
          ]
        }
      ],
      "source": [
        "# re.findall\n",
        "\n",
        "pattern = re.compile(r'\\d+')\n",
        "text = 'There are 123 apples and 456 oranges'\n",
        "\n",
        "matches = re.findall(pattern,text)\n",
        "print(matches)"
      ]
    },
    {
      "cell_type": "code",
      "execution_count": null,
      "id": "fc2fc429",
      "metadata": {
        "id": "fc2fc429",
        "outputId": "92cbaf95-6a79-47bd-eaee-6cc724e05a78"
      },
      "outputs": [
        {
          "name": "stdout",
          "output_type": "stream",
          "text": [
            "123\n",
            "456\n"
          ]
        }
      ],
      "source": [
        "# re.finditer\n",
        "\n",
        "pattern = re.compile(r'\\d+')\n",
        "text = 'There are 123 apples and 456 oranges'\n",
        "\n",
        "matches = pattern.finditer(text)\n",
        "for match in matches:\n",
        "    print(match.group())"
      ]
    },
    {
      "cell_type": "code",
      "execution_count": null,
      "id": "e25ea89e",
      "metadata": {
        "id": "e25ea89e",
        "outputId": "74274b58-671d-42d4-9680-f85e58620b52"
      },
      "outputs": [
        {
          "name": "stdout",
          "output_type": "stream",
          "text": [
            "The price of apple is A Rupees and Orange is A Rupees\n"
          ]
        }
      ],
      "source": [
        "# re.sub\n",
        "\n",
        "pattern = re.compile(r'\\d+')\n",
        "text = 'The price of apple is 25 Rupees and Orange is 50 Rupees'\n",
        "\n",
        "matches = pattern.sub(\"A\", text)\n",
        "print(matches)"
      ]
    },
    {
      "cell_type": "code",
      "execution_count": null,
      "id": "a8b741e5",
      "metadata": {
        "id": "a8b741e5",
        "outputId": "ddbd51f0-bcd5-47ff-f5df-af680b9371fb"
      },
      "outputs": [
        {
          "name": "stdout",
          "output_type": "stream",
          "text": [
            "The price of apple is A Rupees and Orange is A Rupees\n",
            "2\n"
          ]
        }
      ],
      "source": [
        "# re.subn\n",
        "\n",
        "pattern = re.compile(r'\\d+')\n",
        "text = 'The price of apple is 25 Rupees and Orange is 50 Rupees'\n",
        "\n",
        "replaced_text, num_substitutions = pattern.subn(\"A\",text)\n",
        "print(replaced_text)\n",
        "print(num_substitutions)"
      ]
    },
    {
      "cell_type": "code",
      "execution_count": null,
      "id": "05b010c5",
      "metadata": {
        "id": "05b010c5",
        "outputId": "742e6afc-5295-4600-c600-659a7dcc043f"
      },
      "outputs": [
        {
          "name": "stdout",
          "output_type": "stream",
          "text": [
            "['$']\n"
          ]
        }
      ],
      "source": [
        "# re.escape\n",
        "\n",
        "pattern = re.compile(r'\\$')\n",
        "text = 'The price of apple is $50'\n",
        "\n",
        "matches = re.findall(pattern, text)\n",
        "print(matches)"
      ]
    }
  ],
  "metadata": {
    "kernelspec": {
      "display_name": "Python 3 (ipykernel)",
      "language": "python",
      "name": "python3"
    },
    "language_info": {
      "codemirror_mode": {
        "name": "ipython",
        "version": 3
      },
      "file_extension": ".py",
      "mimetype": "text/x-python",
      "name": "python",
      "nbconvert_exporter": "python",
      "pygments_lexer": "ipython3",
      "version": "3.9.7"
    },
    "colab": {
      "provenance": []
    }
  },
  "nbformat": 4,
  "nbformat_minor": 5
}