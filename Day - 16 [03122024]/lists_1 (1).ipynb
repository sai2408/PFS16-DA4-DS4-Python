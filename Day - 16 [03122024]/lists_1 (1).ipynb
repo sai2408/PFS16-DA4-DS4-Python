{
  "nbformat": 4,
  "nbformat_minor": 0,
  "metadata": {
    "colab": {
      "provenance": []
    },
    "kernelspec": {
      "name": "python3",
      "display_name": "Python 3"
    },
    "language_info": {
      "name": "python"
    }
  },
  "cells": [
    {
      "cell_type": "markdown",
      "source": [
        "#OPERATIONS\n",
        "    1. Creation\n",
        "    2. Accessing\n",
        "    3. Insertion\n",
        "    4. Deletion\n",
        "    5. Updation"
      ],
      "metadata": {
        "id": "lM5pwpQBeLQI"
      }
    },
    {
      "cell_type": "markdown",
      "source": [
        "#CREATION"
      ],
      "metadata": {
        "id": "YC68m0ESeVQc"
      }
    },
    {
      "cell_type": "code",
      "execution_count": null,
      "metadata": {
        "colab": {
          "base_uri": "https://localhost:8080/"
        },
        "id": "o_1lYjRaeIIh",
        "outputId": "0c6ceffc-a3f9-4ebc-dbb2-670f20ef5500"
      },
      "outputs": [
        {
          "output_type": "stream",
          "name": "stdout",
          "text": [
            "[]\n",
            "<class 'list'>\n"
          ]
        }
      ],
      "source": [
        "a = []\n",
        "print(a)\n",
        "print(type(a))"
      ]
    },
    {
      "cell_type": "code",
      "source": [
        "a = [10,\"sai\",56.45,True,67]\n",
        "print(a)\n",
        "print(type(a))"
      ],
      "metadata": {
        "colab": {
          "base_uri": "https://localhost:8080/"
        },
        "id": "iRNG0bKIeheR",
        "outputId": "222081f0-dc54-4f6c-b939-903df8cf86d8"
      },
      "execution_count": null,
      "outputs": [
        {
          "output_type": "stream",
          "name": "stdout",
          "text": [
            "[10, 'sai', 56.45, True, 67]\n",
            "<class 'list'>\n"
          ]
        }
      ]
    },
    {
      "cell_type": "code",
      "source": [
        "#Type  - 1\n",
        "'''\n",
        "x = input().split()\n",
        "print(x)\n",
        "print(type(x))\n",
        "y = input(\"Enter number: \").split()\n",
        "print(y)\n",
        "'''\n",
        "#Type - 2\n",
        "'''\n",
        "x = list(map(int,input().split()))\n",
        "print(x)\n",
        "y = list(map(int,input(\"Enter Numbers: \").split()))\n",
        "print(y)\n",
        "z = list(map(int,input().split(\",\")))\n",
        "print(z)\n",
        "a1 = list(map(float,input().split()))\n",
        "print(a1)\n",
        "'''"
      ],
      "metadata": {
        "colab": {
          "base_uri": "https://localhost:8080/"
        },
        "id": "DbpptgNKeoAw",
        "outputId": "3653038c-958d-4d56-8bb2-d052e59c77bc"
      },
      "execution_count": null,
      "outputs": [
        {
          "output_type": "stream",
          "name": "stdout",
          "text": [
            "10.45 34.56 70\n",
            "[10.45, 34.56, 70.0]\n"
          ]
        }
      ]
    },
    {
      "cell_type": "markdown",
      "source": [
        "#ACCESSING\n",
        "    1. Indexing\n",
        "        1.1. Positive indexing\n",
        "        1.2. Negetive indexing\n",
        "    2. Looping\n",
        "        2.1. Looping with Range\n",
        "        2.2. Looping without Range\n",
        "    3. Methods\n",
        "    4. Slicing"
      ],
      "metadata": {
        "id": "eu58sdAKfyYJ"
      }
    },
    {
      "cell_type": "code",
      "source": [
        "#Positive Indexing\n",
        "'''\n",
        "a = [10,11,12,13,14]\n",
        "print(a[0])\n",
        "print(a[1])\n",
        "print(a[2])\n",
        "print(a[3])\n",
        "print(a[4])\n",
        "'''\n",
        "#Negetive Indexing\n",
        "'''\n",
        "a = [10,11,12,13,14]\n",
        "print(a[-1])\n",
        "print(a[-2])\n",
        "print(a[-3])\n",
        "print(a[-4])\n",
        "print(a[-5])\n",
        "'''\n",
        "#Looping with range\n",
        "'''\n",
        "a = [10,11,12,13,14]\n",
        "for i in range(5):\n",
        "  print(i,\"->\",a[i])\n",
        "'''\n",
        "#Looping without Range\n",
        "'''\n",
        "a = [10,11,12,13,14]\n",
        "for i in a:\n",
        "  print(i)\n",
        "'''\n",
        "#Methods\n",
        "'''\n",
        "a = [10,20,30,40,50,30]\n",
        "print(a.index(20))\n",
        "print(a.index(30))\n",
        "res = a.index(50)\n",
        "print(res)\n",
        "'''\n",
        "#count\n",
        "'''\n",
        "a = [10,20,30,40,50,30]\n",
        "print(a.count(10))\n",
        "res = a.count(30)\n",
        "print(res)\n",
        "'''\n",
        "#copy\n",
        "'''\n",
        "a = [10,20,30,40,50,30]\n",
        "b = a.copy()\n",
        "print(b)\n",
        "'''\n",
        "#Positive Slicing\n",
        "'''\n",
        "a = [10,20,30,40,50]\n",
        "print(a[:])\n",
        "print(a[::])\n",
        "print(a[::1])\n",
        "print(a[2:])\n",
        "print(a[:3])\n",
        "print(a[1:4])\n",
        "print(a[1:4:2])\n",
        "'''\n",
        "#Negetive Slicing\n",
        "'''\n",
        "a = [10,20,30,40,50]\n",
        "print(a[::-1])\n",
        "print(a[-4:-2])\n",
        "print(a[-4:-2:1])\n",
        "print(a[-4:-2][::-1])\n",
        "'''"
      ],
      "metadata": {
        "colab": {
          "base_uri": "https://localhost:8080/"
        },
        "id": "wCBdnIwif9ku",
        "outputId": "f109ceee-980b-4822-bad3-d624eaf28785"
      },
      "execution_count": null,
      "outputs": [
        {
          "output_type": "stream",
          "name": "stdout",
          "text": [
            "[50, 40, 30, 20, 10]\n",
            "[20, 30]\n",
            "[20, 30]\n",
            "[30, 20]\n"
          ]
        }
      ]
    },
    {
      "cell_type": "markdown",
      "source": [
        "#INSERTION\n",
        "    1. append()\n",
        "    2. extend()\n",
        "    3. insert()"
      ],
      "metadata": {
        "id": "oIzfeFTHpEKv"
      }
    },
    {
      "cell_type": "code",
      "source": [
        "#Append\n",
        "'''\n",
        "a = [10,20,30,40]\n",
        "a.append(50)\n",
        "print(a)\n",
        "'''\n",
        "#extend\n",
        "'''\n",
        "a = [10,20,30]\n",
        "a.extend([50])\n",
        "print(a)\n",
        "'''\n",
        "#insert\n",
        "'''\n",
        "a = [10,30,40,50]\n",
        "a.insert(1,20)\n",
        "print(a)\n",
        "'''"
      ],
      "metadata": {
        "colab": {
          "base_uri": "https://localhost:8080/"
        },
        "id": "M3EqDCw5pMRM",
        "outputId": "b4ca5bb0-2de6-4e6d-9a55-c8c0ece35cd5"
      },
      "execution_count": null,
      "outputs": [
        {
          "output_type": "stream",
          "name": "stdout",
          "text": [
            "[10, 20, 30, 40, 50]\n"
          ]
        }
      ]
    },
    {
      "cell_type": "markdown",
      "source": [
        "#Deletion\n",
        "    1. Remove()\n",
        "    2. pop()\n",
        "    3. clear()"
      ],
      "metadata": {
        "id": "kbJ44UiMpnRE"
      }
    },
    {
      "cell_type": "code",
      "source": [
        "#remove\n",
        "'''\n",
        "a = [10,20,30,40]\n",
        "print(a)\n",
        "a.remove(20)\n",
        "print(a)\n",
        "b = [10,20,30,40,20]\n",
        "print(b)\n",
        "b.remove(20)\n",
        "print(b)\n",
        "'''\n",
        "#pop()\n",
        "'''\n",
        "a = [10,20,30,40,50]\n",
        "print(a)\n",
        "x = a.pop()\n",
        "print(x)\n",
        "print(a)\n",
        "x = a.pop(1)\n",
        "print(x)\n",
        "print(a)\n",
        "'''\n",
        "#clear\n",
        "a = [10,20,30]\n",
        "print(a)\n",
        "a.clear()\n",
        "print(a)"
      ],
      "metadata": {
        "colab": {
          "base_uri": "https://localhost:8080/"
        },
        "id": "aaN5KjPqppLt",
        "outputId": "35e7ca01-adb6-482b-8e38-afc055ffd081"
      },
      "execution_count": null,
      "outputs": [
        {
          "output_type": "stream",
          "name": "stdout",
          "text": [
            "[10, 20, 30]\n",
            "[]\n"
          ]
        }
      ]
    },
    {
      "cell_type": "markdown",
      "source": [
        "#Updation\n",
        "    1. sort()\n",
        "    2. reverse()"
      ],
      "metadata": {
        "id": "CGdcXWJeqb_N"
      }
    },
    {
      "cell_type": "code",
      "source": [
        "#sort()\n",
        "'''\n",
        "a = [10,7,3,6]\n",
        "print(a)\n",
        "a.sort()\n",
        "print(a)\n",
        "'''\n",
        "#reverse()\n",
        "'''\n",
        "a = [10,20,3,6,4]\n",
        "print(a)\n",
        "a.reverse()\n",
        "print(a)\n",
        "'''"
      ],
      "metadata": {
        "colab": {
          "base_uri": "https://localhost:8080/"
        },
        "id": "nHED0t_Fqfgs",
        "outputId": "8dbc80bd-44e6-45a2-b277-101705c28ac7"
      },
      "execution_count": null,
      "outputs": [
        {
          "output_type": "stream",
          "name": "stdout",
          "text": [
            "[10, 20, 3, 6, 4]\n",
            "[4, 6, 3, 20, 10]\n"
          ]
        }
      ]
    },
    {
      "cell_type": "markdown",
      "source": [
        "#External Operations\n",
        "    1. concatination\n",
        "    2. repetetion\n",
        "    3. membership"
      ],
      "metadata": {
        "id": "0sK_h0p5qZmz"
      }
    },
    {
      "cell_type": "code",
      "source": [
        "#concatenation\n",
        "'''\n",
        "a = [10,20,30]\n",
        "b = [40,50,60]\n",
        "c = a + b\n",
        "print(c)\n",
        "'''\n",
        "#repetetion\n",
        "'''\n",
        "a = [10,20,30]\n",
        "print(a*5)\n",
        "'''\n",
        "#membership\n",
        "'''\n",
        "a = [10,20,30]\n",
        "print(a in a)\n",
        "print(10 in a)\n",
        "print(10 not in a)\n",
        "print(15 not in a)\n",
        "'''"
      ],
      "metadata": {
        "colab": {
          "base_uri": "https://localhost:8080/"
        },
        "id": "mdlQFZRSq6Av",
        "outputId": "10552d37-4bd3-46c9-d835-92186b37ddaa"
      },
      "execution_count": null,
      "outputs": [
        {
          "output_type": "stream",
          "name": "stdout",
          "text": [
            "False\n",
            "True\n",
            "False\n",
            "True\n"
          ]
        }
      ]
    },
    {
      "cell_type": "markdown",
      "source": [
        "#Built in functions\n",
        "    1. sum()\n",
        "    2. max()\n",
        "    3. min()\n",
        "    4. all()\n",
        "    5. any()\n",
        "    6. len()\n",
        "    7. sorted()"
      ],
      "metadata": {
        "id": "Phy9KXfznrYL"
      }
    },
    {
      "cell_type": "code",
      "source": [
        "#Sum()\n",
        "'''\n",
        "a = [10,20,30,40,50]\n",
        "print(sum(a))\n",
        "x = sum(a)\n",
        "print(x)\n",
        "'''\n",
        "#max()\n",
        "'''\n",
        "a = [10,20,40,30,15]\n",
        "print(max(a))\n",
        "x = max(a)\n",
        "print(x)\n",
        "'''\n",
        "#min()\n",
        "'''\n",
        "a = [10,20,5,23,56]\n",
        "print(min(a))\n",
        "x = min(a)\n",
        "print(x)\n",
        "'''\n",
        "#all\n",
        "'''\n",
        "a1 = [10,20,30,40]\n",
        "a2 = []\n",
        "a3 = [10,20,0,30,40]\n",
        "print(all(a1))\n",
        "print(all(a2))\n",
        "print(all(a3))\n",
        "'''\n",
        "#any()\n",
        "'''\n",
        "a1 = [10,20,30,40]\n",
        "a2 = []\n",
        "a3 = [10,20,0,30,40]\n",
        "print(any(a1))\n",
        "print(any(a2))\n",
        "print(any(a3))\n",
        "'''\n",
        "#sorted()\n",
        "'''\n",
        "a = [18,16,34,12,3,68]\n",
        "print(sorted(a))\n",
        "'''"
      ],
      "metadata": {
        "colab": {
          "base_uri": "https://localhost:8080/"
        },
        "id": "v9LA5o0onzcg",
        "outputId": "da3077dc-d7bb-4dbf-add5-7752e7ec6954"
      },
      "execution_count": 8,
      "outputs": [
        {
          "output_type": "stream",
          "name": "stdout",
          "text": [
            "150\n",
            "150\n",
            "40\n",
            "40\n",
            "5\n",
            "5\n",
            "True\n",
            "True\n",
            "False\n",
            "True\n",
            "False\n",
            "True\n",
            "[3, 12, 16, 18, 34, 68]\n"
          ]
        }
      ]
    },
    {
      "cell_type": "markdown",
      "source": [
        "#List comprehension"
      ],
      "metadata": {
        "id": "_YMsGJDXorid"
      }
    },
    {
      "cell_type": "code",
      "source": [
        "#List of all odd numbers from 1 to n\n",
        "#Approach - 1\n",
        "'''\n",
        "n = int(input())\n",
        "res = []\n",
        "for i in range(1,n+1):\n",
        "  if i%2 != 0:\n",
        "    res.append(i)\n",
        "print(res)\n",
        "'''\n",
        "#Approach - 2\n",
        "'''\n",
        "n = int(input())\n",
        "res = [i for i in range(1,n+1) if i%2 != 0]\n",
        "print(res)\n",
        "'''\n",
        "#Appraoch - 3\n",
        "'''\n",
        "res = [i for i in range(int(input())) if i%2 != 0]\n",
        "print(res)\n",
        "'''\n",
        "#approach - 4\n",
        "'''\n",
        "print([i for i in range(int(input())) if i%2 != 0])\n",
        "'''\n",
        "#List of all odd numbers from 1 to n in reverse order\n",
        "'''\n",
        "print([i for i in range(int(input())) if i%2 != 0][::-1])\n",
        "'''"
      ],
      "metadata": {
        "colab": {
          "base_uri": "https://localhost:8080/"
        },
        "id": "zFFk5HIQotzd",
        "outputId": "dc91eaed-bf1f-428f-9c72-ec716a3d5b3e"
      },
      "execution_count": 17,
      "outputs": [
        {
          "output_type": "stream",
          "name": "stdout",
          "text": [
            "10\n",
            "[9, 7, 5, 3, 1]\n"
          ]
        }
      ]
    },
    {
      "cell_type": "markdown",
      "source": [
        "#Nested Lists [ Matrix ]"
      ],
      "metadata": {
        "id": "I3UuOuRpqQzp"
      }
    },
    {
      "cell_type": "code",
      "source": [
        "#Problem - 1\n",
        "#Sum of two matrices\n",
        "mat1 = []\n",
        "mat2 = []\n",
        "rows1 = int(input(\"Enter number of rows of 1st matrix: \"))\n",
        "cols1 = int(input(\"Enter number of columns of 1st matrix: \"))\n",
        "for i in range(rows1):\n",
        "  x = list(map(int,input().split()))[:cols1]\n",
        "  mat1.append(x)\n",
        "rows2 = int(input(\"Enter number of rows of 2nd matrix: \"))\n",
        "cols2 = int(input(\"Enter number of columns of 2nd matrix: \"))\n",
        "for i in range(rows2):\n",
        "  x = list(map(int,input().split()))[:cols2]\n",
        "  mat2.append(x)\n",
        "print(mat1)\n",
        "print(mat2)\n",
        "res = []\n",
        "for i in range(rows1):\n",
        "  z = [0]*cols1\n",
        "  res.append(z)\n",
        "print(res)\n",
        "for i in range(rows1):\n",
        "  for j in range(cols1):\n",
        "    res[i][j] = mat1[i][j] + mat2[i][j]\n",
        "print(res)"
      ],
      "metadata": {
        "colab": {
          "base_uri": "https://localhost:8080/"
        },
        "id": "g5t54cCTqTkh",
        "outputId": "f518fc71-b520-4897-b90f-bf857a5fe444"
      },
      "execution_count": 22,
      "outputs": [
        {
          "output_type": "stream",
          "name": "stdout",
          "text": [
            "Enter number of rows of 1st matrix: 2\n",
            "Enter number of columns of 1st matrix: 2\n",
            "2 4\n",
            "3 4\n",
            "Enter number of rows of 2nd matrix: 2\n",
            "Enter number of columns of 2nd matrix: 2\n",
            "5 6\n",
            "7 8\n",
            "[[2, 4], [3, 4]]\n",
            "[[5, 6], [7, 8]]\n",
            "[[0, 0], [0, 0]]\n",
            "[[7, 10], [10, 12]]\n"
          ]
        }
      ]
    },
    {
      "cell_type": "markdown",
      "source": [
        "#Difference between shallow and deep copy"
      ],
      "metadata": {
        "id": "7qVJO3wTfRSg"
      }
    },
    {
      "cell_type": "code",
      "source": [
        "#Deep Copy\n",
        "'''\n",
        "a = [10,20,30,40]\n",
        "b = a\n",
        "print(\"Before Update\")\n",
        "print(a)\n",
        "print(b)\n",
        "print(\"After Update\")\n",
        "a[2] = 350\n",
        "print(a)\n",
        "print(b)\n",
        "b[1] = 1000\n",
        "print(a)\n",
        "print(b)\n",
        "'''\n",
        "#Shallow Copy\n",
        "'''\n",
        "a = [10,20,30,40]\n",
        "b = a.copy()\n",
        "print(\"Before Update\")\n",
        "print(a)\n",
        "print(b)\n",
        "print(\"After Update\")\n",
        "a[2] = 350\n",
        "print(a)\n",
        "print(b)\n",
        "'''"
      ],
      "metadata": {
        "colab": {
          "base_uri": "https://localhost:8080/"
        },
        "id": "JyH2orenfV8z",
        "outputId": "d6b08b32-d443-4dc7-a46f-2a9306d498e2"
      },
      "execution_count": null,
      "outputs": [
        {
          "output_type": "stream",
          "name": "stdout",
          "text": [
            "Before Update\n",
            "[10, 20, 30, 40]\n",
            "[10, 20, 30, 40]\n",
            "After Update\n",
            "[10, 20, 350, 40]\n",
            "[10, 20, 30, 40]\n"
          ]
        }
      ]
    },
    {
      "cell_type": "code",
      "source": [
        "#Problem - 1\n",
        "'''\n",
        "Take 5 values from the user using coma, Print the sum of indexes of all even numbers\n",
        "'''\n",
        "#Approach - 1\n",
        "'''\n",
        "a = list(map(int,input().split(\",\")))\n",
        "temp = 0\n",
        "for i in range(5):\n",
        "  if a[i]%2 == 0:\n",
        "    temp = temp + i\n",
        "print(temp)\n",
        "'''\n",
        "#Problem - 2\n",
        "'''\n",
        "Take 5 values from the user using space, print the sum of all even numbers\n",
        "'''\n",
        "#Approach - 1\n",
        "'''\n",
        "a = list(map(int,input().split()))\n",
        "temp = 0\n",
        "for i in range(5):\n",
        "  if a[i]%2 == 0:\n",
        "    temp = temp + a[i]\n",
        "print(temp)\n",
        "'''\n",
        "#Approach - 2\n",
        "'''\n",
        "a = list(map(int,input().split()))\n",
        "temp = 0\n",
        "for i in a:\n",
        "  if i%2 == 0:\n",
        "    temp = temp + i\n",
        "print(temp)\n",
        "'''\n",
        "#Problem - 3\n",
        "'''\n",
        "Take 5 values from the user which will be given line by line. apply slicing such that first\n",
        "two values of the list should be printed last and last three values should be printed first\n",
        "'''\n",
        "#Problme - 4\n",
        "'''\n",
        "Take 5 values from the user given in a line sepearted by spaces. Remove all the values with 20\n",
        "present in the list\n",
        "'''\n",
        "#Approach - 1\n",
        "'''\n",
        "a = list(map(int,input().split()))\n",
        "x = []\n",
        "for i in range(5):\n",
        "  if a[i] != 20:\n",
        "    x.append(a[i])\n",
        "print(x)\n",
        "'''\n",
        "#Appraoch - 2\n",
        "'''\n",
        "a = list(map(int,input().split()))\n",
        "x = a.count(20)\n",
        "for i in range(x):\n",
        "  a.remove(20)\n",
        "print(a)\n",
        "'''\n",
        "#Problem - 5\n",
        "'''\n",
        "A list of 4 numbers in between 1 to 5 will be given where one number will be missed.\n",
        "find that number\n",
        "'''\n",
        "#Approach - 1\n",
        "'''\n",
        "x = list(map(int,input().split()))\n",
        "for i in range(1,6):\n",
        "  if i not in x:\n",
        "    print(i)\n",
        " '''\n",
        "#Approach - 2\n",
        "'''\n",
        "x = list(map(int,input().split()))\n",
        "for i in range(1,6):\n",
        "  if i not in x:\n",
        "    print(i)\n",
        "    break\n",
        "'''\n",
        "#Approach - 3\n"
      ],
      "metadata": {
        "colab": {
          "base_uri": "https://localhost:8080/"
        },
        "id": "V6b6q5-8g_3u",
        "outputId": "9984ae1b-2b8c-4721-c7a5-70d2503e1d5c"
      },
      "execution_count": 25,
      "outputs": [
        {
          "output_type": "stream",
          "name": "stdout",
          "text": [
            "1 3 5 4\n",
            "2\n"
          ]
        }
      ]
    },
    {
      "cell_type": "code",
      "source": [],
      "metadata": {
        "id": "Fnitysfyg1qT",
        "colab": {
          "base_uri": "https://localhost:8080/"
        },
        "outputId": "5e0c57d0-6e1d-4fc2-d63a-10c7f5bcde27"
      },
      "execution_count": 20,
      "outputs": [
        {
          "output_type": "stream",
          "name": "stdout",
          "text": [
            "[0, 0]\n"
          ]
        }
      ]
    }
  ]
}