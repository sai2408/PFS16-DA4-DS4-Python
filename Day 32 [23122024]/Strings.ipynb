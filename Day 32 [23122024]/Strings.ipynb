{
  "nbformat": 4,
  "nbformat_minor": 0,
  "metadata": {
    "colab": {
      "provenance": []
    },
    "kernelspec": {
      "name": "python3",
      "display_name": "Python 3"
    },
    "language_info": {
      "name": "python"
    }
  },
  "cells": [
    {
      "cell_type": "markdown",
      "source": [
        "#String Operations\n",
        "    1. Creation\n",
        "    2. Accessing\n",
        "    3. Insertion\n",
        "    4. Deletion\n",
        "    5. Updation"
      ],
      "metadata": {
        "id": "rW5XUkdTjVQu"
      }
    },
    {
      "cell_type": "markdown",
      "source": [
        "#Creation\n",
        "    1. Using Charecters\n",
        "    2. Using user inputs"
      ],
      "metadata": {
        "id": "fIeWuKScjcmU"
      }
    },
    {
      "cell_type": "code",
      "execution_count": 2,
      "metadata": {
        "colab": {
          "base_uri": "https://localhost:8080/"
        },
        "id": "NKj9XXWdjTae",
        "outputId": "7c6f7b3c-272f-4d9e-a15e-e47229f5cade"
      },
      "outputs": [
        {
          "output_type": "stream",
          "name": "stdout",
          "text": [
            "Abc\n",
            "<class 'str'>\n",
            "sai vardhan\n",
            "sai vardhan\n",
            "<class 'str'>\n"
          ]
        }
      ],
      "source": [
        "s = \"Abc\"\n",
        "print(s)\n",
        "print(type(s))\n",
        "a = input()\n",
        "print(a)\n",
        "print(type(a))"
      ]
    },
    {
      "cell_type": "markdown",
      "source": [
        "#Accessing\n",
        "    1. Indexing\n",
        "        1.1. +ve indexing\n",
        "        1.2. -ve indexing\n",
        "    2. Looping\n",
        "        2.1. With Range\n",
        "        2.2. Without Range\n",
        "    3. Slicing\n",
        "        3.1. +ve Slicing\n",
        "        3.2. -ve slicing\n",
        "    4. Methods\n",
        "        4.1. endswith()\n",
        "        4.2. startswith()\n",
        "        4.3. isdigit()\n",
        "        4.4. isalpha()\n",
        "        4.5. isdecimal()\n",
        "        4.6. isalnum()\n",
        "        4.7. istitle()\n",
        "        4.8. find()\n",
        "        4.9. rfind()\n",
        "        4.10. count()"
      ],
      "metadata": {
        "id": "EAQHuAhQjwwD"
      }
    },
    {
      "cell_type": "code",
      "source": [
        "s = \"abcdefghijkl\"\n",
        "#Indexing\n",
        "'''\n",
        "print(s[0])\n",
        "print(s[5])\n",
        "print(s[-1])\n",
        "print(s[-5])\n",
        "'''\n",
        "#Looping\n",
        "'''\n",
        "n = len(s)\n",
        "for i in range(n):\n",
        "  print(s[i])\n",
        "for i in s:\n",
        "  print(i)\n",
        "'''\n",
        "#slicing\n",
        "'''\n",
        "print(s[2:8:2])\n",
        "'''\n",
        "#methods\n",
        "s = \"abcdef12345%^&\"\n",
        "s1 = \"abcd\"\n",
        "s2 = \"1234\"\n",
        "s3 = \"abc123\"\n",
        "s4 = \"Hello World\"\n",
        "s5 = \"Hello world\"\n",
        "s6 = \"abcabcabc\"\n",
        "print(s.endswith(\"d^&\"))\n",
        "print(s.startswith(\"abcz\"))\n",
        "print(s.isdigit())\n",
        "print(s2.isdigit())\n",
        "print(s.isdecimal())\n",
        "print(s2.isdecimal())\n",
        "print(s.isalpha())\n",
        "print(s1.isalpha())\n",
        "print(s2.isalpha())\n",
        "print(s.isalnum())\n",
        "print(s1.isalnum())\n",
        "print(s2.isalnum())\n",
        "print(s3.isalnum())\n",
        "print(s4.istitle())\n",
        "print(s5.istitle())\n",
        "print(s6.find(\"ab\"))\n",
        "print(s6.find(\"c\"))\n",
        "print(s6.rfind(\"ab\"))\n",
        "print(s6.count(\"b\"))\n",
        "print(s6.count(\"bc\"))\n",
        "print(s6.count(\"x\"))"
      ],
      "metadata": {
        "colab": {
          "base_uri": "https://localhost:8080/"
        },
        "id": "y0yaj-GDkODC",
        "outputId": "4da4e5a9-6f1f-432c-b180-74c25f9b2f95"
      },
      "execution_count": 41,
      "outputs": [
        {
          "output_type": "stream",
          "name": "stdout",
          "text": [
            "False\n",
            "False\n",
            "False\n",
            "True\n",
            "False\n",
            "True\n",
            "False\n",
            "True\n",
            "False\n",
            "False\n",
            "True\n",
            "True\n",
            "True\n",
            "True\n",
            "False\n",
            "0\n",
            "2\n",
            "6\n",
            "3\n",
            "3\n",
            "0\n"
          ]
        }
      ]
    },
    {
      "cell_type": "markdown",
      "source": [
        "#Insertion\n",
        "      1. concatenation\n",
        "      "
      ],
      "metadata": {
        "id": "x4FQlVZEm2Gd"
      }
    },
    {
      "cell_type": "code",
      "source": [
        "s = \"abc\"\n",
        "print(s+\"mno\")\n",
        "print(s)\n",
        "s = s + \"mno\"\n",
        "print(s)"
      ],
      "metadata": {
        "colab": {
          "base_uri": "https://localhost:8080/"
        },
        "id": "J8hQEykzm61A",
        "outputId": "3d5c3c5e-77ef-4425-e1dc-578c35d4f8fa"
      },
      "execution_count": 44,
      "outputs": [
        {
          "output_type": "stream",
          "name": "stdout",
          "text": [
            "abcmno\n",
            "abc\n",
            "abcmno\n"
          ]
        }
      ]
    },
    {
      "cell_type": "markdown",
      "source": [
        "#Deletion\n",
        "    1. del keyword"
      ],
      "metadata": {
        "id": "I5ZphBN0nExC"
      }
    },
    {
      "cell_type": "code",
      "source": [
        "s = \"abc\"\n",
        "print(s)\n",
        "del s\n",
        "print(s)"
      ],
      "metadata": {
        "colab": {
          "base_uri": "https://localhost:8080/",
          "height": 193
        },
        "id": "48F4wd1fnHDD",
        "outputId": "55924c9c-9c91-43b0-bfe9-d0547bccf261"
      },
      "execution_count": 46,
      "outputs": [
        {
          "output_type": "stream",
          "name": "stdout",
          "text": [
            "abc\n"
          ]
        },
        {
          "output_type": "error",
          "ename": "NameError",
          "evalue": "name 's' is not defined",
          "traceback": [
            "\u001b[0;31m---------------------------------------------------------------------------\u001b[0m",
            "\u001b[0;31mNameError\u001b[0m                                 Traceback (most recent call last)",
            "\u001b[0;32m<ipython-input-46-848750105dc3>\u001b[0m in \u001b[0;36m<cell line: 4>\u001b[0;34m()\u001b[0m\n\u001b[1;32m      2\u001b[0m \u001b[0mprint\u001b[0m\u001b[0;34m(\u001b[0m\u001b[0ms\u001b[0m\u001b[0;34m)\u001b[0m\u001b[0;34m\u001b[0m\u001b[0;34m\u001b[0m\u001b[0m\n\u001b[1;32m      3\u001b[0m \u001b[0;32mdel\u001b[0m \u001b[0ms\u001b[0m\u001b[0;34m\u001b[0m\u001b[0;34m\u001b[0m\u001b[0m\n\u001b[0;32m----> 4\u001b[0;31m \u001b[0mprint\u001b[0m\u001b[0;34m(\u001b[0m\u001b[0ms\u001b[0m\u001b[0;34m)\u001b[0m\u001b[0;34m\u001b[0m\u001b[0;34m\u001b[0m\u001b[0m\n\u001b[0m",
            "\u001b[0;31mNameError\u001b[0m: name 's' is not defined"
          ]
        }
      ]
    },
    {
      "cell_type": "markdown",
      "source": [
        "#Updation\n",
        "    1. Methods\n",
        "        1.1. replace()\n",
        "        1.2. upper()\n",
        "        1.3. lower()\n",
        "        1.4. swapcase()\n",
        "        1.5. capitalize()"
      ],
      "metadata": {
        "id": "ARE5qikLnN4V"
      }
    },
    {
      "cell_type": "code",
      "source": [
        "s = \"abCDabc\"\n",
        "#replace\n",
        "print(s)\n",
        "print(s.replace(\"a\",\"x\"))\n",
        "s = s.replace(\"a\",\"x\")\n",
        "print(s)\n",
        "print(s.replace(\"CD\",\"Z\"))\n",
        "#upper()\n",
        "s = \"abCD\"\n",
        "print(s.upper())\n",
        "#lower\n",
        "print(s.lower())\n",
        "#swapcase()\n",
        "print(s.swapcase())\n",
        "#capitalize\n",
        "print(s.capitalize())"
      ],
      "metadata": {
        "colab": {
          "base_uri": "https://localhost:8080/"
        },
        "id": "OeXm--5nnWvY",
        "outputId": "5c3c07bb-3530-4bc0-a2b8-e2e10d23613e"
      },
      "execution_count": 55,
      "outputs": [
        {
          "output_type": "stream",
          "name": "stdout",
          "text": [
            "abCDabc\n",
            "xbCDxbc\n",
            "xbCDxbc\n",
            "xbZxbc\n",
            "ABCD\n",
            "abcd\n",
            "ABcd\n",
            "Abcd\n"
          ]
        }
      ]
    },
    {
      "cell_type": "markdown",
      "source": [
        "#External Operations on Strings\n",
        "    1. Concatenation\n",
        "    2. Repetetion\n",
        "    3. Memebership"
      ],
      "metadata": {
        "id": "HkW2-VfLoGw2"
      }
    },
    {
      "cell_type": "code",
      "source": [
        "s = \"abc\"\n",
        "print(s + \"mno\")\n",
        "print(s*3)\n",
        "print(\"a\" in s)\n",
        "print(\"x\" not in s)"
      ],
      "metadata": {
        "colab": {
          "base_uri": "https://localhost:8080/"
        },
        "id": "LBadva4FoNYc",
        "outputId": "8a69026f-7344-4a76-d0bf-b5b531f3eb9d"
      },
      "execution_count": 59,
      "outputs": [
        {
          "output_type": "stream",
          "name": "stdout",
          "text": [
            "abcmno\n",
            "abcabcabc\n",
            "True\n",
            "True\n"
          ]
        }
      ]
    },
    {
      "cell_type": "markdown",
      "source": [
        "#Builtin functions\n",
        "    1. len()\n",
        "    2. max()\n",
        "    3. min()\n",
        "    4. sorted()"
      ],
      "metadata": {
        "id": "AZdpWHmooaEI"
      }
    },
    {
      "cell_type": "code",
      "source": [
        "s = \"anAsdj\"\n",
        "print(len(s))\n",
        "print(max(s))\n",
        "print(min(s))\n",
        "print(sorted(s))"
      ],
      "metadata": {
        "colab": {
          "base_uri": "https://localhost:8080/"
        },
        "id": "_Vvj1kvvogE7",
        "outputId": "2c5ce069-e176-469f-98d9-ed60e4567176"
      },
      "execution_count": 64,
      "outputs": [
        {
          "output_type": "stream",
          "name": "stdout",
          "text": [
            "6\n",
            "s\n",
            "A\n",
            "['A', 'a', 'd', 'j', 'n', 's']\n"
          ]
        }
      ]
    }
  ]
}