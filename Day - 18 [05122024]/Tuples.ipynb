{
  "nbformat": 4,
  "nbformat_minor": 0,
  "metadata": {
    "colab": {
      "provenance": []
    },
    "kernelspec": {
      "name": "python3",
      "display_name": "Python 3"
    },
    "language_info": {
      "name": "python"
    }
  },
  "cells": [
    {
      "cell_type": "markdown",
      "source": [
        "#Tuples\n",
        "    1. Creation\n",
        "    2. Accessing"
      ],
      "metadata": {
        "id": "nX6ARzGk0eN1"
      }
    },
    {
      "cell_type": "markdown",
      "source": [
        "#Creation"
      ],
      "metadata": {
        "id": "a8j7M9IN0jBy"
      }
    },
    {
      "cell_type": "code",
      "execution_count": null,
      "metadata": {
        "colab": {
          "base_uri": "https://localhost:8080/"
        },
        "id": "KnR9hqXq0cD0",
        "outputId": "de0a63b1-0fb2-4d8c-dc4e-66effa1dd312"
      },
      "outputs": [
        {
          "output_type": "stream",
          "name": "stdout",
          "text": [
            "10 20 30 40 50\n",
            "(10, 20, 30, 40, 50)\n",
            "<class 'tuple'>\n"
          ]
        }
      ],
      "source": [
        "#Empty Tuple\n",
        "'''\n",
        "a = ()\n",
        "print(a)\n",
        "print(type(a))\n",
        "'''\n",
        "#Tuple with multiple elements\n",
        "'''\n",
        "a = (10,20,\"fwdfsad\",56.45534,True)\n",
        "print(a)\n",
        "print(type(a))\n",
        "'''\n",
        "#Tuple with single element\n",
        "'''\n",
        "a = (1,)\n",
        "print(a)\n",
        "print(type(a))\n",
        "'''\n",
        "#Tuple using user inputs\n",
        "'''\n",
        "a = tuple(map(int,input().split()))\n",
        "print(a)\n",
        "print(type(a))\n",
        "'''"
      ]
    },
    {
      "cell_type": "markdown",
      "source": [
        "#Accessing"
      ],
      "metadata": {
        "id": "YRW765fK1L21"
      }
    },
    {
      "cell_type": "code",
      "source": [
        "#Indexing\n",
        "'''\n",
        "a = (10,20,30,40,50)\n",
        "#Positive\n",
        "print(a[3])\n",
        "#Negetive\n",
        "print(a[-2])\n",
        "'''\n",
        "#Looping\n",
        "'''\n",
        "a = (10,20,30,40,50)\n",
        "#with range\n",
        "for i in range(5):\n",
        "  print(a[i])\n",
        "for i in range(5):\n",
        "  print(a[i],end= \" \")\n",
        "print()\n",
        "print(*a,sep=\" \")\n",
        "#without range\n",
        "for i in a:\n",
        "  print(i)\n",
        "for i in a:\n",
        "  print(i,end=\" \")\n",
        "'''\n",
        "#Methods\n",
        "'''\n",
        "a = (10,20,30,40,20,40)\n",
        "#index()\n",
        "print(a.index(40))\n",
        "#count()\n",
        "print(a.count(40))\n",
        "'''\n",
        "#slicing\n",
        "'''\n",
        "a = (10,20,30,40,50)\n",
        "#positive\n",
        "print(a[2:4:2])\n",
        "print(a[2:4])\n",
        "#negetive\n",
        "print(a[::-1])\n",
        "'''"
      ],
      "metadata": {
        "colab": {
          "base_uri": "https://localhost:8080/"
        },
        "id": "m-Wwct1L1N5w",
        "outputId": "4f573f69-4316-49cc-b3b8-b9a9700c4ff8"
      },
      "execution_count": null,
      "outputs": [
        {
          "output_type": "stream",
          "name": "stdout",
          "text": [
            "(30,)\n",
            "(30, 40)\n",
            "(50, 40, 30, 20, 10)\n"
          ]
        }
      ]
    },
    {
      "cell_type": "markdown",
      "source": [
        "#Built in Functions\n",
        "    1. sum()\n",
        "    2. max()\n",
        "    3. min()\n",
        "    4. all()\n",
        "    5. any()\n",
        "    6. len()"
      ],
      "metadata": {
        "id": "RirgsO1w2z1C"
      }
    },
    {
      "cell_type": "code",
      "source": [
        "a = (10,20,30,40,50)\n",
        "print(sum(a))\n",
        "print(max(a))\n",
        "print(min(a))\n",
        "print(all(a))\n",
        "print(any(a))\n",
        "print(len(a))"
      ],
      "metadata": {
        "colab": {
          "base_uri": "https://localhost:8080/"
        },
        "id": "spWS7LSY26_w",
        "outputId": "0945aaf4-8be5-41f3-95c9-73f66e4fd229"
      },
      "execution_count": null,
      "outputs": [
        {
          "output_type": "stream",
          "name": "stdout",
          "text": [
            "150\n",
            "50\n",
            "10\n",
            "True\n",
            "True\n",
            "5\n"
          ]
        }
      ]
    },
    {
      "cell_type": "markdown",
      "source": [
        "#External Operations\n",
        "    1. concatination\n",
        "    2. repetetion\n",
        "    3. Membership"
      ],
      "metadata": {
        "id": "ddJU_kij3K69"
      }
    },
    {
      "cell_type": "code",
      "source": [
        "a = (10,20,30,40,50,60)\n",
        "b = (100,200,300)\n",
        "print(a+b)\n",
        "print(a*3)\n",
        "print(10 in a)\n",
        "print(100 in b)\n",
        "print(100 not in a)\n",
        "print(100 not in b)"
      ],
      "metadata": {
        "colab": {
          "base_uri": "https://localhost:8080/"
        },
        "id": "nN7E698a3RMz",
        "outputId": "f88bf674-fc6c-498c-c134-1bd5e731a52b"
      },
      "execution_count": null,
      "outputs": [
        {
          "output_type": "stream",
          "name": "stdout",
          "text": [
            "(10, 20, 30, 40, 50, 60, 100, 200, 300)\n",
            "(10, 20, 30, 40, 50, 60, 10, 20, 30, 40, 50, 60, 10, 20, 30, 40, 50, 60)\n",
            "True\n",
            "True\n",
            "True\n",
            "False\n"
          ]
        }
      ]
    },
    {
      "cell_type": "markdown",
      "source": [
        "#Tuple Comprehenesion"
      ],
      "metadata": {
        "id": "px9bjh1O3Kt8"
      }
    },
    {
      "cell_type": "code",
      "source": [
        "a = [10,11,12,13,14]\n",
        "x = tuple(i for i in a if i%2==0)\n",
        "print(x)\n",
        "print(type(x))"
      ],
      "metadata": {
        "colab": {
          "base_uri": "https://localhost:8080/"
        },
        "id": "VnsHvLzd3mqf",
        "outputId": "f3fc1e4b-10be-48c9-a3ba-6591e488fc39"
      },
      "execution_count": null,
      "outputs": [
        {
          "output_type": "stream",
          "name": "stdout",
          "text": [
            "(10, 12, 14)\n",
            "<class 'tuple'>\n"
          ]
        }
      ]
    },
    {
      "cell_type": "markdown",
      "source": [
        "#Problem Statement - 1\n",
        "    Write a program to print reverse of the number.\n",
        "    Make sure all test cases should be passed\n",
        "\n",
        "    Test cae - 1\n",
        "    i/p -> 1234\n",
        "    o/p -> 4321\n",
        "\n",
        "    Test Case - 2\n",
        "    i/p -> 100\n",
        "    o/p -> 1\n",
        "\n",
        "    Test case - 3\n",
        "    i/p -> -123\n",
        "    o/p -> -321\n",
        "\n",
        "    Test case - 4\n",
        "    i/p -> 0\n",
        "    o/p -> 0\n"
      ],
      "metadata": {
        "id": "i6obxhm032p8"
      }
    },
    {
      "cell_type": "code",
      "source": [],
      "metadata": {
        "id": "h1_1_5X04SI0"
      },
      "execution_count": null,
      "outputs": []
    },
    {
      "cell_type": "markdown",
      "source": [
        "#Problem statement - 2\n",
        "      Write a program to print first and last element in the given integer number\n",
        "\n",
        "      Test Case - 1\n",
        "      i/p -> 12345\n",
        "      o/p -> 1 5\n",
        "\n",
        "      Test Case - 2\n",
        "      i/p -> -12345\n",
        "      o/p -> 1 5\n",
        "\n",
        "      Test Case - 3\n",
        "      i/p -> 101\n",
        "      o/p -> 1 1\n",
        "\n",
        "      Test Case - 4\n",
        "      i/p -> 1\n",
        "      o/p -> 1 1"
      ],
      "metadata": {
        "id": "x-v8ESPG5S_V"
      }
    }
  ]
}