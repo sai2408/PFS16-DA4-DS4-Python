{
  "nbformat": 4,
  "nbformat_minor": 0,
  "metadata": {
    "colab": {
      "provenance": []
    },
    "kernelspec": {
      "name": "python3",
      "display_name": "Python 3"
    },
    "language_info": {
      "name": "python"
    }
  },
  "cells": [
    {
      "cell_type": "markdown",
      "source": [
        "#Patterns\n",
        "    1. Symbolic Patterns\n",
        "    2. Numeric Patterns\n",
        "    3. Combination of Numeric & Symbolic Patterns"
      ],
      "metadata": {
        "id": "9JF1akrFzLjo"
      }
    },
    {
      "cell_type": "code",
      "execution_count": null,
      "metadata": {
        "colab": {
          "base_uri": "https://localhost:8080/"
        },
        "id": "hzvmmxA7zJQS",
        "outputId": "8c43b592-38c4-4f15-e4fc-64ec92ea8ee2"
      },
      "outputs": [
        {
          "output_type": "stream",
          "name": "stdout",
          "text": [
            "* * * * * \n",
            "*       * \n",
            "*       * \n",
            "*       * \n",
            "* * * * * \n"
          ]
        }
      ],
      "source": [
        "#symbolic Patterns\n",
        "#Pattern - 1\n",
        "'''\n",
        "n = 4\n",
        "* * * *\n",
        "* * * *\n",
        "* * * *\n",
        "* * * *\n",
        "'''\n",
        "#Approach - 1\n",
        "'''\n",
        "n = 3\n",
        "for i in range(n):\n",
        "  for j in range(n):\n",
        "    print(\"*\",end=\" \")\n",
        "  print()\n",
        "'''\n",
        "#Approach - 2\n",
        "'''\n",
        "n = 5\n",
        "for i in range(n):\n",
        "  print(\"* \"*n)\n",
        "'''\n",
        "#Patten - 2\n",
        "'''\n",
        "n = 4\n",
        "*\n",
        "* *\n",
        "* * *\n",
        "* * * *\n",
        "'''\n",
        "#Approach - 1\n",
        "'''\n",
        "n = 4\n",
        "for i in range(n):\n",
        "  for j in range(n):\n",
        "    if j<=i:\n",
        "      print(\"*\",end=\" \")\n",
        "    else:\n",
        "      print(\" \",end=\" \")\n",
        "  print()\n",
        "'''\n",
        "#Pattern - 3\n",
        "'''\n",
        "n = 4\n",
        "* * * *\n",
        "*     *\n",
        "*     *\n",
        "* * * *\n",
        "'''\n",
        "n = 5\n",
        "for i in range(n):\n",
        "  for j in range(n):\n",
        "    if i==0 or j==0 or i==n-1 or j==n-1:\n",
        "      print(\"*\",end=\" \")\n",
        "    else:\n",
        "      print(\" \",end=\" \")\n",
        "  print()"
      ]
    },
    {
      "cell_type": "code",
      "source": [
        "#Numeric Patterns\n",
        "#Pattern - 1\n",
        "'''\n",
        "n = 4\n",
        "1 1 1 1\n",
        "2 2 2 2\n",
        "3 3 3 3\n",
        "4 4 4 4\n",
        "'''\n",
        "#Approach - 1\n",
        "'''\n",
        "n = 4\n",
        "temp = 1\n",
        "for i in range(n):\n",
        "  for j in range(n):\n",
        "    print(temp,end=\" \")\n",
        "  temp = temp + 1\n",
        "  print()\n",
        "'''\n",
        "#Approach - 2\n",
        "'''\n",
        "n = 4\n",
        "for i in range(n):\n",
        "  for j in range(n):\n",
        "    print(i+1,end=\" \")\n",
        "  print()\n",
        "'''\n",
        "#Pattern - 2\n",
        "'''\n",
        "n = 4\n",
        "1 2 3 4\n",
        "1 2 3 4\n",
        "1 2 3 4\n",
        "1 2 3 4\n",
        "'''\n",
        "#Approach - 1\n",
        "'''\n",
        "n = 4\n",
        "temp = 1\n",
        "for i in range(n):\n",
        "  for j in range(n):\n",
        "    print(temp,end=\" \")\n",
        "    temp = temp + 1\n",
        "  print()\n",
        "  temp = 1\n",
        "'''\n",
        "#Approach - 2\n",
        "'''\n",
        "n = 4\n",
        "for i in range(n):\n",
        "  for j in range(n):\n",
        "    print(j+1,end=\" \")\n",
        "  print()\n",
        "'''"
      ],
      "metadata": {
        "colab": {
          "base_uri": "https://localhost:8080/"
        },
        "id": "PogCAT5j2QZU",
        "outputId": "ee0af528-b7b3-43a2-f948-2789dbc7d9a8"
      },
      "execution_count": null,
      "outputs": [
        {
          "output_type": "stream",
          "name": "stdout",
          "text": [
            "1 2 3 4 \n",
            "1 2 3 4 \n",
            "1 2 3 4 \n",
            "1 2 3 4 \n"
          ]
        }
      ]
    },
    {
      "cell_type": "code",
      "source": [
        "#Combination of Numeric & Symbolic Patterns\n",
        "#Pattern - 1\n",
        "'''\n",
        "n = 4\n",
        "* * * *\n",
        "1 1 1 1\n",
        "* * * *\n",
        "1 1 1 1\n",
        "'''\n",
        "#Approach - 1\n",
        "'''\n",
        "n = 4\n",
        "temp = 1\n",
        "for i in range(n):\n",
        "  if i%2 == 0:\n",
        "    for j in range(n):\n",
        "      print(\"*\",end=\" \")\n",
        "  else:\n",
        "    for j in range(n):\n",
        "      print(temp,end=\" \")\n",
        "  print()\n",
        "'''\n"
      ],
      "metadata": {
        "colab": {
          "base_uri": "https://localhost:8080/"
        },
        "id": "nyUnHwNU3oEo",
        "outputId": "ef463403-d1f3-42cb-d128-69532f580c79"
      },
      "execution_count": null,
      "outputs": [
        {
          "output_type": "stream",
          "name": "stdout",
          "text": [
            "* * * * \n",
            "1 1 1 1 \n",
            "* * * * \n",
            "1 1 1 1 \n"
          ]
        }
      ]
    },
    {
      "cell_type": "code",
      "source": [
        "#Pattern\n",
        "'''\n",
        "n = 4\n",
        "*\n",
        "# #\n",
        "* * *\n",
        "# # # #\n",
        "'''\n",
        "#approach - 1\n",
        "n = 4\n",
        "for i in range(n):\n",
        "  if i%2 == 0:\n",
        "    for j in range(n):\n",
        "      if j<=i:\n",
        "        print(\"*\",end=\" \")\n",
        "      else:\n",
        "        print(\" \",end=\" \")\n",
        "  else:\n",
        "    for j in range(n):\n",
        "      if j<=i:\n",
        "        print(\"#\",end=\" \")\n",
        "      else:\n",
        "        print(\" \",end=\" \")\n",
        "  print()"
      ],
      "metadata": {
        "colab": {
          "base_uri": "https://localhost:8080/"
        },
        "id": "m6ylla844YXk",
        "outputId": "5963f8b3-2be4-4aba-e2ed-b83526eb5522"
      },
      "execution_count": null,
      "outputs": [
        {
          "output_type": "stream",
          "name": "stdout",
          "text": [
            "*       \n",
            "# #     \n",
            "* * *   \n",
            "# # # # \n"
          ]
        }
      ]
    }
  ]
}