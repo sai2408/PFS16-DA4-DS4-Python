{
  "nbformat": 4,
  "nbformat_minor": 0,
  "metadata": {
    "colab": {
      "provenance": []
    },
    "kernelspec": {
      "name": "python3",
      "display_name": "Python 3"
    },
    "language_info": {
      "name": "python"
    }
  },
  "cells": [
    {
      "cell_type": "markdown",
      "source": [
        "#Operators in Python\n",
        "1. Relational\n",
        "2. Arithemetic\n",
        "3. Assignment\n",
        "4. Bitwise\n",
        "5. Logical\n",
        "6. Memebership\n",
        "7. Identity"
      ],
      "metadata": {
        "id": "YfYTIDOjb9TY"
      }
    },
    {
      "cell_type": "code",
      "execution_count": null,
      "metadata": {
        "colab": {
          "base_uri": "https://localhost:8080/"
        },
        "id": "NVbS0ICzb6Cv",
        "outputId": "d5ae18b8-ebfe-4b8b-a721-c72d7256e6e2"
      },
      "outputs": [
        {
          "output_type": "stream",
          "name": "stdout",
          "text": [
            "30\n",
            "5\n",
            "200\n",
            "6.5\n",
            "6\n",
            "1\n",
            "8\n"
          ]
        }
      ],
      "source": [
        "#Arithemetic\n",
        "#Addition\n",
        "a = 10\n",
        "b = 20\n",
        "print(a+b)\n",
        "#subtraction\n",
        "a = 15\n",
        "b = 10\n",
        "print(a-b)\n",
        "#Multiplication\n",
        "a = 10\n",
        "b = 20\n",
        "print(a*b)\n",
        "#division\n",
        "a = 13\n",
        "b = 2\n",
        "print(a/b)\n",
        "#floor division\n",
        "a = 13\n",
        "b = 2\n",
        "print(a//b)\n",
        "#Modulos\n",
        "a = 13\n",
        "b = 2\n",
        "print(a%b)\n",
        "#Exponential\n",
        "a = 2\n",
        "b = 3\n",
        "print(a ** b)"
      ]
    },
    {
      "cell_type": "code",
      "source": [
        "#Relational Operators\n",
        "#Less than\n",
        "a = 10\n",
        "b = 12\n",
        "print(a<b)\n",
        "#Greater than\n",
        "a = 10\n",
        "b = 2\n",
        "print(a>b)\n",
        "#Less than or equals to\n",
        "a = 10\n",
        "b = 10\n",
        "print(a>=b)\n",
        "#Greater than or equal to\n",
        "a = 10\n",
        "b = 10\n",
        "print(a<=b)\n",
        "#Equals to\n",
        "a = 10\n",
        "b = 10\n",
        "print(a==b)\n",
        "#Not equals to\n",
        "a = 10\n",
        "b = 20\n",
        "print(a != b)"
      ],
      "metadata": {
        "colab": {
          "base_uri": "https://localhost:8080/"
        },
        "id": "gVY-1YpKb8nh",
        "outputId": "b4ed796b-626e-4bae-a226-a3ae98a3facb"
      },
      "execution_count": null,
      "outputs": [
        {
          "output_type": "stream",
          "name": "stdout",
          "text": [
            "True\n",
            "True\n",
            "True\n",
            "True\n",
            "True\n",
            "True\n"
          ]
        }
      ]
    },
    {
      "cell_type": "code",
      "source": [
        "#Assignment Operators\n",
        "#Assign\n",
        "a = 10\n",
        "#Add and Assign\n",
        "a = 10\n",
        "b = 20\n",
        "a = a + 2\n",
        "print(a)\n",
        "b += 2\n",
        "print(b)\n",
        "#subtract and Assign\n",
        "a = 12\n",
        "b = 12\n",
        "a = a - 2\n",
        "print(a)\n",
        "b -= 2\n",
        "print(b)\n",
        "#Multiply and Assign\n",
        "a = 2\n",
        "b = 2\n",
        "a = a * 10\n",
        "print(a)\n",
        "b *= 10\n",
        "print(b)\n",
        "#Divide and Assign\n",
        "a = 13\n",
        "b = 13\n",
        "a = a / 2\n",
        "print(a)\n",
        "b /= 2\n",
        "print(b)\n",
        "#Modulos and Assign\n",
        "a = 13\n",
        "b = 13\n",
        "a = a % 2\n",
        "print(a)\n",
        "b %= 2\n",
        "print(b)\n",
        "#Floor divide and Assign\n",
        "a = 13\n",
        "b = 13\n",
        "a = a //2\n",
        "print(a)\n",
        "b //=2\n",
        "print(b)\n",
        "#Exponent and Assign\n",
        "a = 2\n",
        "b = 2\n",
        "a = a ** 3\n",
        "print(a)\n",
        "b **= 3\n",
        "print(b)"
      ],
      "metadata": {
        "colab": {
          "base_uri": "https://localhost:8080/"
        },
        "id": "MYj1vJdHdSlx",
        "outputId": "1468dd73-061c-4b8b-d1f9-479d3c1c724d"
      },
      "execution_count": null,
      "outputs": [
        {
          "output_type": "stream",
          "name": "stdout",
          "text": [
            "12\n",
            "22\n",
            "10\n",
            "10\n",
            "20\n",
            "20\n",
            "6.5\n",
            "6.5\n",
            "1\n",
            "1\n",
            "6\n",
            "6\n",
            "8\n",
            "8\n"
          ]
        }
      ]
    },
    {
      "cell_type": "code",
      "source": [
        "#Bitwise Operators\n",
        "#Bitwise and (&)\n",
        "#Bitwise or (|)\n",
        "#Bitwise xor (^)\n",
        "#Bitwise Left shift\n",
        "#Bitwise right shift\n",
        "a = 5\n",
        "b = 2\n",
        "#Bitwise and (&)\n",
        "print(a & b)\n",
        "#Bitwise or (|)\n",
        "print(a | b)\n",
        "#Bitwise xor (^)\n",
        "print(a ^ b)\n",
        "#Bitwise Left shift\n",
        "print(a << 2)\n",
        "#Bitwise right shift\n",
        "print(a >> 2)"
      ],
      "metadata": {
        "colab": {
          "base_uri": "https://localhost:8080/"
        },
        "id": "f0D26kizee38",
        "outputId": "4433c388-7b0e-4ba5-9f87-21fd7feacee1"
      },
      "execution_count": null,
      "outputs": [
        {
          "output_type": "stream",
          "name": "stdout",
          "text": [
            "0\n",
            "7\n",
            "7\n",
            "20\n",
            "1\n"
          ]
        }
      ]
    },
    {
      "cell_type": "code",
      "source": [
        "#Logical Operators\n",
        "#Logiacal and\n",
        "#Logical or\n",
        "#Logical Not\n",
        "age = 18\n",
        "vc = False\n",
        "#Logiacal and\n",
        "print((age>=18) and (vc==True))\n",
        "#Logical or\n",
        "print((age>=18) or (vc==True))\n",
        "#Logical Not\n",
        "print(not((age>=18) and (vc==True)))"
      ],
      "metadata": {
        "colab": {
          "base_uri": "https://localhost:8080/"
        },
        "id": "9l1_xM0afUVF",
        "outputId": "cce77b6a-bc7f-43df-a467-f8883baa99ce"
      },
      "execution_count": null,
      "outputs": [
        {
          "output_type": "stream",
          "name": "stdout",
          "text": [
            "False\n",
            "True\n",
            "True\n"
          ]
        }
      ]
    },
    {
      "cell_type": "code",
      "source": [
        "#Membership Operators\n",
        "#in\n",
        "#not in\n",
        "x = \"codegnan\"\n",
        "#in\n",
        "print(\"C\" in x)\n",
        "print(\"c\" in x)\n",
        "#not in\n",
        "print(\"C\" not in x)\n",
        "print(\"c\" not in x)"
      ],
      "metadata": {
        "colab": {
          "base_uri": "https://localhost:8080/"
        },
        "id": "C6qU39tQgBeo",
        "outputId": "555cb4db-de2e-4418-c864-ac0ef6ef9e2b"
      },
      "execution_count": null,
      "outputs": [
        {
          "output_type": "stream",
          "name": "stdout",
          "text": [
            "False\n",
            "True\n",
            "True\n",
            "False\n"
          ]
        }
      ]
    },
    {
      "cell_type": "code",
      "source": [
        "#Identity Operator\n",
        "#is\n",
        "#is not\n",
        "a = 10\n",
        "b = 20\n",
        "c = 10\n",
        "print(id(a))\n",
        "print(id(b))\n",
        "print(id(c))\n",
        "#is\n",
        "print(a is b)\n",
        "print(a is c)\n",
        "#is not\n",
        "print(a is not b)\n",
        "print(a is not c)"
      ],
      "metadata": {
        "colab": {
          "base_uri": "https://localhost:8080/"
        },
        "id": "R8LRD0UvgT9x",
        "outputId": "e5b20bd3-a1a3-454d-c549-960b167d44c0"
      },
      "execution_count": null,
      "outputs": [
        {
          "output_type": "stream",
          "name": "stdout",
          "text": [
            "136323458040336\n",
            "136323458040656\n",
            "136323458040336\n",
            "False\n",
            "True\n",
            "True\n",
            "False\n"
          ]
        }
      ]
    },
    {
      "cell_type": "markdown",
      "source": [
        "\n",
        "#Problem Statement [ Formula Based ]\n",
        "Three sides of the trainagle will be given check weather we can construct a traingle with those three vaues or not\n",
        "a = 5\n",
        "b = 5\n",
        "c = 3\n",
        "if we can construct -> True\n",
        "if we can not Construct -> False"
      ],
      "metadata": {
        "id": "rJQhg4P0gyhX"
      }
    },
    {
      "cell_type": "code",
      "source": [
        "a = 5\n",
        "b = 3\n",
        "c = 9\n",
        "print((a+b>=c) and (a+c>=b) and (b+c>=a))"
      ],
      "metadata": {
        "colab": {
          "base_uri": "https://localhost:8080/"
        },
        "id": "EKwEZZoxhEWz",
        "outputId": "947e85ab-9dd1-45a1-ceea-c8abfd7146d3"
      },
      "execution_count": null,
      "outputs": [
        {
          "output_type": "stream",
          "name": "stdout",
          "text": [
            "False\n"
          ]
        }
      ]
    }
  ]
}