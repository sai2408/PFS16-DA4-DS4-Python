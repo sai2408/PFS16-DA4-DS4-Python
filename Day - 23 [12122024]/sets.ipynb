{
  "nbformat": 4,
  "nbformat_minor": 0,
  "metadata": {
    "colab": {
      "provenance": []
    },
    "kernelspec": {
      "name": "python3",
      "display_name": "Python 3"
    },
    "language_info": {
      "name": "python"
    }
  },
  "cells": [
    {
      "cell_type": "markdown",
      "source": [
        "#Sets\n",
        "    1. Creation\n",
        "    2. Accessing\n",
        "    3. Insertion\n",
        "    4. Updation\n",
        "    5. Deletion"
      ],
      "metadata": {
        "id": "2P9m6t3L7Ydr"
      }
    },
    {
      "cell_type": "markdown",
      "source": [
        "#Creation\n",
        "    1. Empty Set\n",
        "    2. Set with default elements\n",
        "    3. Set with user inputs"
      ],
      "metadata": {
        "id": "xz7r4VmQ7lDL"
      }
    },
    {
      "cell_type": "code",
      "source": [
        "s = set()\n",
        "s = {1,2,3,4,}\n",
        "s = set([1,2,3,4])\n",
        "s = set((1,2,3,4))\n",
        "s = set(map(int,input().split()))\n",
        "s = set(input().split())"
      ],
      "metadata": {
        "id": "0arNd9al8k_a"
      },
      "execution_count": null,
      "outputs": []
    },
    {
      "cell_type": "markdown",
      "source": [
        "#Accessing\n",
        "    1. Looping [ without range ]\n",
        "    2. Methods\n",
        "      2.1. copy()"
      ],
      "metadata": {
        "id": "gVfZAOe875f3"
      }
    },
    {
      "cell_type": "code",
      "source": [
        "s = {1,2,3,4,5}\n",
        "for i in s:\n",
        "  print(i)\n",
        "s1 = s.copy()\n",
        "print(s1)"
      ],
      "metadata": {
        "id": "i-5Zw4eC8zwI"
      },
      "execution_count": null,
      "outputs": []
    },
    {
      "cell_type": "markdown",
      "source": [
        "#Insertion\n",
        "    1. Methods\n",
        "      1.1. add()\n",
        "      1.2. update()\n"
      ],
      "metadata": {
        "id": "P8x_rjra8NT9"
      }
    },
    {
      "cell_type": "code",
      "source": [
        "s = {1,2,3,4}\n",
        "s.add(5)\n",
        "s.update({4,5,6,7})"
      ],
      "metadata": {
        "id": "5oEcLu9y88WT"
      },
      "execution_count": null,
      "outputs": []
    },
    {
      "cell_type": "markdown",
      "source": [
        "#Deletion\n",
        "    1. Keywords\n",
        "        1.1. del\n",
        "    2. Methods\n",
        "        2.1. remove()\n",
        "        2.2. discard()\n",
        "        2.3. pop()\n",
        "        2.4. clear()"
      ],
      "metadata": {
        "id": "R8fIVZD88Ur9"
      }
    },
    {
      "cell_type": "code",
      "source": [
        "s = {1,2,3,4,5}\n",
        "del s\n",
        "s = {1,2,3,4,5,6}\n",
        "s.remove(4)\n",
        "s.discard(5)\n",
        "s.pop()\n",
        "s.clear()"
      ],
      "metadata": {
        "id": "OdXrOV7h9DPW"
      },
      "execution_count": null,
      "outputs": []
    },
    {
      "cell_type": "markdown",
      "source": [
        "#Updation\n",
        "    1. Methods\n",
        "        1.1. update()"
      ],
      "metadata": {
        "id": "IX24gxpy8e1s"
      }
    },
    {
      "cell_type": "code",
      "source": [
        "s = {1,2,3,4,5}\n",
        "s.update({3,4,5,6})"
      ],
      "metadata": {
        "id": "ASMwUy9L9Mdx"
      },
      "execution_count": null,
      "outputs": []
    },
    {
      "cell_type": "markdown",
      "source": [
        "#Frozen Sets\n",
        "    1. Creation\n",
        "    2. Accessing"
      ],
      "metadata": {
        "id": "KOV3e4G07hST"
      }
    },
    {
      "cell_type": "markdown",
      "source": [
        "#Creation\n",
        "    1. Frozenset with function()\n",
        "    2. Frozenset with user inputs"
      ],
      "metadata": {
        "id": "DV309tGb7sqs"
      }
    },
    {
      "cell_type": "code",
      "source": [
        "f = frozenset([1,2,3,4,5])\n",
        "f = frozenset(map(int,input().split()))\n",
        "f = frozenset(input().split())"
      ],
      "metadata": {
        "id": "pSkAc7UC9RmW"
      },
      "execution_count": null,
      "outputs": []
    },
    {
      "cell_type": "markdown",
      "source": [
        "#Accessing\n",
        "    1. Looping [ without range() ]\n",
        "    2. Methods\n",
        "        2.1. copy()"
      ],
      "metadata": {
        "id": "Y3EVTdrF8ELb"
      }
    },
    {
      "cell_type": "code",
      "source": [
        "s = frozenset({1,2,3,4,5})\n",
        "for i in s:\n",
        "  print(i)\n",
        "s1 = s.copy()\n",
        "print(s1)\n"
      ],
      "metadata": {
        "id": "LXGUOeDW9fls"
      },
      "execution_count": null,
      "outputs": []
    },
    {
      "cell_type": "markdown",
      "source": [
        "#Numeric set operations\n",
        "    1. union() -> [|]\n",
        "    2. intersection() -> [&]\n",
        "    3. intersection_update()\n",
        "    4. difference() -> [-]\n",
        "    5. difference_update()\n",
        "    6. symmetric_difference() -> [^]\n",
        "    7. symmetric_difference_update()\n",
        "    8. isdisjoint()\n",
        "    9. issubset()\n",
        "    10. issuperset()"
      ],
      "metadata": {
        "id": "pCJDXgQD9rHt"
      }
    },
    {
      "cell_type": "markdown",
      "source": [
        "#Problems on Sets"
      ],
      "metadata": {
        "id": "nnDyE653-Glw"
      }
    },
    {
      "cell_type": "code",
      "execution_count": null,
      "metadata": {
        "colab": {
          "base_uri": "https://localhost:8080/"
        },
        "id": "wyFqKulg7WG8",
        "outputId": "2f532109-097d-4543-9afd-d44a575e2d93"
      },
      "outputs": [
        {
          "output_type": "stream",
          "name": "stdout",
          "text": [
            "Pangram\n"
          ]
        }
      ],
      "source": [
        "#Pangram\n",
        "#Approach - 1\n",
        "'''\n",
        "res = \"qwertyuiopasdfghjklzxcvbnm\"\n",
        "s1 = \"qwertyuiopasdfghjklzxcvbnmwertyuiopasdfghjklzxcvbnm\"\n",
        "print(s1)\n",
        "s2 = set(s1)\n",
        "print(s2)\n",
        "for i in res:\n",
        "  if i not in s2:\n",
        "    print(\"Not a Pangram\")\n",
        "    break\n",
        "else:\n",
        "  print(\"Pangram\")\n",
        "'''\n",
        "#Approach - 2\n",
        "'''\n",
        "s1 = \"qwertyuiopasdfghjklzxcvbnmwertyuiopasdfghjklzxcvbnm\"\n",
        "print(s1)\n",
        "s2 = set(s1)\n",
        "print(s2)\n",
        "if len(s2) == 26:\n",
        "  print(\"Pangram\")\n",
        "else:\n",
        "  print(\"not a pangram\")\n",
        "'''\n",
        "#Approach - 3\n",
        "'''\n",
        "s = \"qwertyuiopasdfghjklzxcvbnm\"\n",
        "s1 = set(s)\n",
        "si = \"qwertyuiopasdfghjklzxcvbnm\"\n",
        "s2 = set(si)\n",
        "if s1.issubset(s2):\n",
        "  print(\"Pangram\")\n",
        "else:\n",
        "  print(\"not a pangram\")\n",
        "'''\n"
      ]
    }
  ]
}