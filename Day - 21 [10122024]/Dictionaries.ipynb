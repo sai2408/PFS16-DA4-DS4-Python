{
  "nbformat": 4,
  "nbformat_minor": 0,
  "metadata": {
    "colab": {
      "provenance": []
    },
    "kernelspec": {
      "name": "python3",
      "display_name": "Python 3"
    },
    "language_info": {
      "name": "python"
    }
  },
  "cells": [
    {
      "cell_type": "markdown",
      "source": [
        "#Operations of Dictionary\n",
        "    1. Creation\n",
        "    2. Accessing\n",
        "    3. Insertion\n",
        "    4. Deletion\n",
        "    5. Updation"
      ],
      "metadata": {
        "id": "aamE2XD4ma_r"
      }
    },
    {
      "cell_type": "markdown",
      "source": [
        "#Creation\n",
        "    1. Empty dictionary\n",
        "    2. Dictionary with values\n",
        "    3. Dictionary values with user inputs"
      ],
      "metadata": {
        "id": "x2wrrzZumltU"
      }
    },
    {
      "cell_type": "code",
      "execution_count": null,
      "metadata": {
        "id": "MiGQo1n1mLvi"
      },
      "outputs": [],
      "source": []
    },
    {
      "cell_type": "markdown",
      "source": [
        "#Accessing\n",
        "    1. Indexing\n",
        "    2. Looping\n",
        "    3. Methods\n"
      ],
      "metadata": {
        "id": "8Qce8asLmvLh"
      }
    },
    {
      "cell_type": "markdown",
      "source": [
        "#Insertion\n",
        "    1. Indexing\n",
        "    2. Methods"
      ],
      "metadata": {
        "id": "7RShbzAYm5cQ"
      }
    },
    {
      "cell_type": "markdown",
      "source": [
        "#Deletion\n",
        "    1. Indexing\n",
        "    2. Methods\n",
        "    3. Keywords [ del ]"
      ],
      "metadata": {
        "id": "Wusqz086m-e-"
      }
    },
    {
      "cell_type": "markdown",
      "source": [
        "#Updation\n",
        "    1. Indexing\n",
        "    2. Methods"
      ],
      "metadata": {
        "id": "CMDOcjx1nE1q"
      }
    }
  ]
}