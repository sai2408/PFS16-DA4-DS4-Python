{
  "nbformat": 4,
  "nbformat_minor": 0,
  "metadata": {
    "colab": {
      "provenance": []
    },
    "kernelspec": {
      "name": "python3",
      "display_name": "Python 3"
    },
    "language_info": {
      "name": "python"
    }
  },
  "cells": [
    {
      "cell_type": "markdown",
      "source": [
        "#OOPS IN PYTHON\n",
        "    1. Class\n",
        "    2. Object\n",
        "    3. Attributes\n",
        "    4. Methods\n",
        "    5. Constructors"
      ],
      "metadata": {
        "id": "ogHMnCf9J05C"
      }
    },
    {
      "cell_type": "code",
      "source": [
        "a = 30\n",
        "def abc():\n",
        "  print(\"Hello Outside Class\")\n",
        "class sample:\n",
        "  pass\n",
        "class sample1:\n",
        "  def __init__(self):\n",
        "    print(\"constructor inside sample 1\")\n",
        "  a = 10\n",
        "  def abc(self):\n",
        "    print(\"Hello Inside sample1\")\n",
        "class sample2:\n",
        "  def __init__(self):\n",
        "    print(\"constructor inside sample 2\")\n",
        "  a = 20\n",
        "  def abc(self):\n",
        "    print(\"Hello Inside sample2\")\n",
        "obj1 = sample1()\n",
        "obj2 = sample2()\n",
        "# print(obj1.a)\n",
        "# print(obj2.a)\n",
        "# print(a)\n",
        "# abc()\n",
        "# obj1.abc()\n",
        "# obj2.abc()"
      ],
      "metadata": {
        "colab": {
          "base_uri": "https://localhost:8080/"
        },
        "id": "iJ6HJDpiecct",
        "outputId": "ff2c7453-0782-46c2-9cd1-6daec67328c9"
      },
      "execution_count": null,
      "outputs": [
        {
          "output_type": "stream",
          "name": "stdout",
          "text": [
            "constructor inside sample 1\n",
            "constructor inside sample 2\n"
          ]
        }
      ]
    },
    {
      "cell_type": "code",
      "source": [
        "class abc:\n",
        "  def addition(self,a,b):\n",
        "    return a+b\n",
        "class xyz:\n",
        "  def multiplication(self,a,b):\n",
        "    return a*b\n",
        "obj1 = abc()\n",
        "obj2 = xyz()\n",
        "print(obj1.addition(10,30))\n",
        "print(obj2.multiplication(10,2))"
      ],
      "metadata": {
        "colab": {
          "base_uri": "https://localhost:8080/"
        },
        "id": "eTqju1LNgWRV",
        "outputId": "ecbcabc4-3f10-401d-d9eb-8d030e5164b6"
      },
      "execution_count": null,
      "outputs": [
        {
          "output_type": "stream",
          "name": "stdout",
          "text": [
            "40\n",
            "20\n"
          ]
        }
      ]
    },
    {
      "cell_type": "code",
      "source": [
        "class rectangle:\n",
        "  def __init__(self,l,b):\n",
        "    self.l = l\n",
        "    self.b = b\n",
        "  def area(self):\n",
        "    return self.l*self.b\n",
        "  def perimeter(self):\n",
        "    return 2*(self.l+self.b)\n",
        "obj1 = rectangle(10,20)\n",
        "print(obj1.area())\n",
        "print(obj1.perimeter())\n"
      ],
      "metadata": {
        "colab": {
          "base_uri": "https://localhost:8080/"
        },
        "id": "k_hXzJ9dgxaL",
        "outputId": "b06b7d2d-a764-4f8d-9995-e5c2d1c732fb"
      },
      "execution_count": null,
      "outputs": [
        {
          "output_type": "stream",
          "name": "stdout",
          "text": [
            "200\n",
            "60\n"
          ]
        }
      ]
    },
    {
      "cell_type": "code",
      "source": [
        "class square:\n",
        "  def __init__(self,s):\n",
        "    self.s = s\n",
        "  def area(self):\n",
        "    print(self.s*self.s)\n",
        "  def perimeter(self):\n",
        "    print(4*self.s)\n",
        "s1 = square(10)\n",
        "s2 = square(4)\n",
        "s1.area()\n",
        "s2.area()\n",
        "s1.perimeter()\n",
        "s2.perimeter()"
      ],
      "metadata": {
        "colab": {
          "base_uri": "https://localhost:8080/"
        },
        "id": "G55mpDOpjUJe",
        "outputId": "9cfae7f4-c5cc-4bc1-b5a6-2db8147b792a"
      },
      "execution_count": null,
      "outputs": [
        {
          "output_type": "stream",
          "name": "stdout",
          "text": [
            "100\n",
            "16\n",
            "40\n",
            "16\n"
          ]
        }
      ]
    },
    {
      "cell_type": "code",
      "source": [
        "class ABC:\n",
        "  def __init__(self,n):\n",
        "    self.n = n\n",
        "  def sumofnumbers(self):\n",
        "    res = 0\n",
        "    for i in range(1,self.n+1):\n",
        "      res = res + i\n",
        "    return res\n",
        "  def productofnumbers(self):\n",
        "    res = 1\n",
        "    for i in range(1,self.n+1):\n",
        "      res = res * i\n",
        "    print(res)\n",
        "obj = ABC(5)\n",
        "print(obj.sumofnumbers())\n",
        "obj.productofnumbers()\n",
        "print(obj)"
      ],
      "metadata": {
        "colab": {
          "base_uri": "https://localhost:8080/"
        },
        "id": "WzKQ5gUSoC0Q",
        "outputId": "294bf938-2d3b-4f48-bf21-7186318c1d88"
      },
      "execution_count": null,
      "outputs": [
        {
          "output_type": "stream",
          "name": "stdout",
          "text": [
            "15\n",
            "120\n",
            "<__main__.ABC object at 0x780a8c2e70d0>\n"
          ]
        }
      ]
    },
    {
      "cell_type": "markdown",
      "source": [
        "#Access Specifiers\n",
        "    1. Public\n",
        "    2. Private"
      ],
      "metadata": {
        "id": "OsTk6AipKL8_"
      }
    },
    {
      "cell_type": "markdown",
      "source": [
        "#4 PILLERS OF OOPS\n",
        "    1. Encapsulation\n",
        "    2. Inheritance\n",
        "    3. Polymorphism\n",
        "    3. Abstraction"
      ],
      "metadata": {
        "id": "Ia_IMFSxKCnw"
      }
    },
    {
      "cell_type": "markdown",
      "source": [
        "#1. Encapsulation"
      ],
      "metadata": {
        "id": "TQxczYS9LbSr"
      }
    },
    {
      "cell_type": "markdown",
      "source": [
        "#2. Inheritance\n",
        "    1. Single Inheritance\n",
        "    2. Multiple Inheritance\n",
        "    3. Multi Level Inheritance\n",
        "    4. Hierarchical Inheritance\n",
        "    5. Hybrid Inheritance"
      ],
      "metadata": {
        "id": "KEhv_M50Kyqv"
      }
    },
    {
      "cell_type": "markdown",
      "source": [
        "#Super Method"
      ],
      "metadata": {
        "id": "xtWsj_MqLJWt"
      }
    },
    {
      "cell_type": "markdown",
      "source": [
        "#3. Polymorphism\n",
        "    1. Method Overloading\n",
        "    2. Method Overriding\n",
        "    3. Operator Overloading"
      ],
      "metadata": {
        "id": "uX0rzRvALLj2"
      }
    },
    {
      "cell_type": "markdown",
      "source": [
        "#4. Hybrid Inheritance"
      ],
      "metadata": {
        "id": "R7jHrQFKLVm2"
      }
    }
  ]
}