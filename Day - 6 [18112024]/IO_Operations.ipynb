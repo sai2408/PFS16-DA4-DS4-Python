{
  "nbformat": 4,
  "nbformat_minor": 0,
  "metadata": {
    "colab": {
      "provenance": []
    },
    "kernelspec": {
      "name": "python3",
      "display_name": "Python 3"
    },
    "language_info": {
      "name": "python"
    }
  },
  "cells": [
    {
      "cell_type": "markdown",
      "source": [
        "#I/O Operations"
      ],
      "metadata": {
        "id": "OCK-NjQ6QNHQ"
      }
    },
    {
      "cell_type": "code",
      "execution_count": null,
      "metadata": {
        "colab": {
          "base_uri": "https://localhost:8080/"
        },
        "id": "Pmi-0SVEQEZp",
        "outputId": "dc3337d0-298a-446e-a913-9dce00296cf1"
      },
      "outputs": [
        {
          "output_type": "stream",
          "name": "stdout",
          "text": [
            "Enter Your name: Sai Vardhan\n",
            "Enter Date of Birth: 24\n",
            "Enter Month of Birth: 8\n",
            "Enter Year of Birth: 2024\n",
            "Enter your Height: 5.7\n",
            "Name : Sai Vardhan\n",
            "DOB : 24 - 8 - 2024\n",
            "Height : 5.7\n"
          ]
        }
      ],
      "source": [
        "#Problem - 1\n",
        "'''\n",
        "I/P:\n",
        "\n",
        "-> Name : [Sai Vardhan]\n",
        "-> Date of Birth : date [24]\n",
        "-> Date of birth : Month [8]\n",
        "-> Date of Birth : Year [2024]\n",
        "-> Height [5.78]\n",
        "O/p:\n",
        "\n",
        "Name : Sai vardhan\n",
        "DOB : 24 - 8 - 2024\n",
        "Height : 5.7\n",
        "'''\n",
        "#Source code\n",
        "a = input(\"Enter Your name: \")\n",
        "b = int(input(\"Enter Date of Birth: \"))\n",
        "c = int(input(\"Enter Month of Birth: \"))\n",
        "d = int(input(\"Enter Year of Birth: \"))\n",
        "h = float(input(\"Enter your Height: \"))"
      ]
    },
    {
      "cell_type": "code",
      "source": [
        "#Normal Method\n",
        "print(\"Name :\",a)\n",
        "print(\"DOB :\",b,\"-\",c,\"-\",d)\n",
        "print(\"Height :\",h)"
      ],
      "metadata": {
        "id": "wU7NeLuLSQs5"
      },
      "execution_count": null,
      "outputs": []
    },
    {
      "cell_type": "code",
      "source": [
        "#Modulo Method\n",
        "print(\"Name : %s\"%(a))\n",
        "print(\"DOB : %d - %d - %d\"%(b,c,d))\n",
        "print(\"Height : %f\"%(h))"
      ],
      "metadata": {
        "colab": {
          "base_uri": "https://localhost:8080/"
        },
        "id": "AnLdfIdjSS-b",
        "outputId": "4c671883-8132-425e-8193-6e20c3592094"
      },
      "execution_count": null,
      "outputs": [
        {
          "output_type": "stream",
          "name": "stdout",
          "text": [
            "Name : Sai Vardhan\n",
            "DOB : 24 - 8 - 2024\n",
            "Height : 5.700000\n"
          ]
        }
      ]
    },
    {
      "cell_type": "code",
      "source": [
        "#F - Format\n",
        "print(f\"Name : {a}\")\n",
        "print(f\"DOB : {b} - {c} - {d}\")\n",
        "print(f\"Height : {h}\")"
      ],
      "metadata": {
        "colab": {
          "base_uri": "https://localhost:8080/"
        },
        "id": "IVcUgKihS0BS",
        "outputId": "f26e9466-9bd4-44f0-ad6d-b18b1028a7dd"
      },
      "execution_count": null,
      "outputs": [
        {
          "output_type": "stream",
          "name": "stdout",
          "text": [
            "Name : Sai Vardhan\n",
            "DOB : 24 - 8 - 2024\n",
            "Height : 5.7\n"
          ]
        }
      ]
    },
    {
      "cell_type": "code",
      "source": [
        "#Dot format Method\n",
        "print(\"Name : {}\".format(a))\n",
        "print(\"DOB : {} - {} - {}\".format(b,c,d))\n",
        "print(\"Height : {0:.3f}\".format(h))"
      ],
      "metadata": {
        "colab": {
          "base_uri": "https://localhost:8080/"
        },
        "id": "YtUpYiMhTJWm",
        "outputId": "56e49e6a-b88a-4b4b-92d3-c71981db8d33"
      },
      "execution_count": null,
      "outputs": [
        {
          "output_type": "stream",
          "name": "stdout",
          "text": [
            "Name : Sai Vardhan\n",
            "DOB : 24 - 8 - 2024\n",
            "Height : 5.700\n"
          ]
        }
      ]
    },
    {
      "cell_type": "markdown",
      "source": [
        "#Operators"
      ],
      "metadata": {
        "id": "2rYqnqmcbdja"
      }
    },
    {
      "cell_type": "markdown",
      "source": [
        "#Membership  Operator"
      ],
      "metadata": {
        "id": "wG0kE-Mbbfll"
      }
    },
    {
      "cell_type": "code",
      "source": [
        "x = \"abcd\"\n",
        "print(x in x)\n",
        "print(x not in x)\n",
        "print(\"a\" in x)\n",
        "print(\"x\" not in x)\n",
        "print(\"b\" not in x)"
      ],
      "metadata": {
        "colab": {
          "base_uri": "https://localhost:8080/"
        },
        "id": "rd-S3qvZbikr",
        "outputId": "17deedab-cd71-4fa9-d0bb-06dc7ef5ea7a"
      },
      "execution_count": null,
      "outputs": [
        {
          "output_type": "stream",
          "name": "stdout",
          "text": [
            "True\n",
            "False\n",
            "True\n",
            "True\n",
            "False\n"
          ]
        }
      ]
    }
  ]
}