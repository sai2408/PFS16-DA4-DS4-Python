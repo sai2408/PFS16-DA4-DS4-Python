{
  "nbformat": 4,
  "nbformat_minor": 0,
  "metadata": {
    "colab": {
      "provenance": []
    },
    "kernelspec": {
      "name": "python3",
      "display_name": "Python 3"
    },
    "language_info": {
      "name": "python"
    }
  },
  "cells": [
    {
      "cell_type": "markdown",
      "source": [
        "#Data Types"
      ],
      "metadata": {
        "id": "eW885iQdqqDo"
      }
    },
    {
      "cell_type": "code",
      "execution_count": 7,
      "metadata": {
        "colab": {
          "base_uri": "https://localhost:8080/"
        },
        "id": "NFHmmEmxqkLS",
        "outputId": "96f53712-0377-4c72-e55c-ec27805b8da1"
      },
      "outputs": [
        {
          "output_type": "stream",
          "name": "stdout",
          "text": [
            "<class 'int'>\n",
            "<class 'float'>\n",
            "<class 'complex'>\n",
            "<class 'bool'>\n",
            "<class 'bool'>\n",
            "<class 'str'>\n"
          ]
        }
      ],
      "source": [
        "a = 10\n",
        "print(type(a))\n",
        "b = 10.50\n",
        "print(type(b))\n",
        "c = 3+4j\n",
        "print(type(c))\n",
        "d = True\n",
        "print(type(d))\n",
        "e = False\n",
        "print(type(e))\n",
        "f = \"Hello codegnan\"\n",
        "print(type(f))"
      ]
    },
    {
      "cell_type": "markdown",
      "source": [
        "#Type Conversions"
      ],
      "metadata": {
        "id": "heZw_HEnrQX3"
      }
    },
    {
      "cell_type": "code",
      "source": [
        "#Intger\n",
        "a = 10\n",
        "print(a)\n",
        "print(type(a))\n",
        "b = float(a)\n",
        "print(b)\n",
        "print(type(b))\n",
        "c = str(a)\n",
        "print(c)\n",
        "print(type(c))\n",
        "\n",
        "#Float\n",
        "a = 10.567\n",
        "print(a)\n",
        "print(type(a))\n",
        "b = str(a)\n",
        "print(b)\n",
        "print(type(b))\n",
        "c = int(a)\n",
        "print(c)\n",
        "print(type(c))\n",
        "# x = \"abc\"\n",
        "# y = int(x)\n",
        "# print(x)\n",
        "\n",
        "#String\n",
        "a = \"10\"\n",
        "b = \"10.56\"\n",
        "c = \"abc\"\n",
        "print(a,b,c)\n",
        "print(type(a),type(b),type(c))\n",
        "a1 = int(a)\n",
        "print(a1)\n",
        "print(type(a1))\n",
        "a2 = float(a)\n",
        "print(a2)\n",
        "print(type(a2))\n",
        "a3 = float(b)\n",
        "print(a3)\n",
        "print(type(a3))"
      ],
      "metadata": {
        "colab": {
          "base_uri": "https://localhost:8080/"
        },
        "id": "ufMk6AANrSKB",
        "outputId": "ec8c809e-b111-4112-e908-f033a0e4e607"
      },
      "execution_count": 20,
      "outputs": [
        {
          "output_type": "stream",
          "name": "stdout",
          "text": [
            "10\n",
            "<class 'int'>\n",
            "10.0\n",
            "<class 'float'>\n",
            "10\n",
            "<class 'str'>\n",
            "10.567\n",
            "<class 'float'>\n",
            "10.567\n",
            "<class 'str'>\n",
            "10\n",
            "<class 'int'>\n",
            "10 10.56 abc\n",
            "<class 'str'> <class 'str'> <class 'str'>\n",
            "10\n",
            "<class 'int'>\n",
            "10.0\n",
            "<class 'float'>\n",
            "10.56\n",
            "<class 'float'>\n"
          ]
        }
      ]
    }
  ]
}