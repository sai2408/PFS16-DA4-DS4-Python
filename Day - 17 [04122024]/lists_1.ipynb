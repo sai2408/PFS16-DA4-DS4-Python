{
  "nbformat": 4,
  "nbformat_minor": 0,
  "metadata": {
    "colab": {
      "provenance": []
    },
    "kernelspec": {
      "name": "python3",
      "display_name": "Python 3"
    },
    "language_info": {
      "name": "python"
    }
  },
  "cells": [
    {
      "cell_type": "markdown",
      "source": [
        "#OPERATIONS\n",
        "    1. Creation\n",
        "    2. Accessing\n",
        "    3. Insertion\n",
        "    4. Deletion\n",
        "    5. Updation"
      ],
      "metadata": {
        "id": "lM5pwpQBeLQI"
      }
    },
    {
      "cell_type": "markdown",
      "source": [
        "#CREATION"
      ],
      "metadata": {
        "id": "YC68m0ESeVQc"
      }
    },
    {
      "cell_type": "code",
      "execution_count": null,
      "metadata": {
        "colab": {
          "base_uri": "https://localhost:8080/"
        },
        "id": "o_1lYjRaeIIh",
        "outputId": "0c6ceffc-a3f9-4ebc-dbb2-670f20ef5500"
      },
      "outputs": [
        {
          "output_type": "stream",
          "name": "stdout",
          "text": [
            "[]\n",
            "<class 'list'>\n"
          ]
        }
      ],
      "source": [
        "a = []\n",
        "print(a)\n",
        "print(type(a))"
      ]
    },
    {
      "cell_type": "code",
      "source": [
        "a = [10,\"sai\",56.45,True,67]\n",
        "print(a)\n",
        "print(type(a))"
      ],
      "metadata": {
        "colab": {
          "base_uri": "https://localhost:8080/"
        },
        "id": "iRNG0bKIeheR",
        "outputId": "222081f0-dc54-4f6c-b939-903df8cf86d8"
      },
      "execution_count": null,
      "outputs": [
        {
          "output_type": "stream",
          "name": "stdout",
          "text": [
            "[10, 'sai', 56.45, True, 67]\n",
            "<class 'list'>\n"
          ]
        }
      ]
    },
    {
      "cell_type": "code",
      "source": [
        "#Type  - 1\n",
        "'''\n",
        "x = input().split()\n",
        "print(x)\n",
        "print(type(x))\n",
        "y = input(\"Enter number: \").split()\n",
        "print(y)\n",
        "'''\n",
        "#Type - 2\n",
        "'''\n",
        "x = list(map(int,input().split()))\n",
        "print(x)\n",
        "y = list(map(int,input(\"Enter Numbers: \").split()))\n",
        "print(y)\n",
        "z = list(map(int,input().split(\",\")))\n",
        "print(z)\n",
        "a1 = list(map(float,input().split()))\n",
        "print(a1)\n",
        "'''"
      ],
      "metadata": {
        "colab": {
          "base_uri": "https://localhost:8080/"
        },
        "id": "DbpptgNKeoAw",
        "outputId": "3653038c-958d-4d56-8bb2-d052e59c77bc"
      },
      "execution_count": null,
      "outputs": [
        {
          "output_type": "stream",
          "name": "stdout",
          "text": [
            "10.45 34.56 70\n",
            "[10.45, 34.56, 70.0]\n"
          ]
        }
      ]
    },
    {
      "cell_type": "markdown",
      "source": [
        "#ACCESSING\n",
        "    1. Indexing\n",
        "        1.1. Positive indexing\n",
        "        1.2. Negetive indexing\n",
        "    2. Looping\n",
        "        2.1. Looping with Range\n",
        "        2.2. Looping without Range\n",
        "    3. Methods\n",
        "    4. Slicing"
      ],
      "metadata": {
        "id": "eu58sdAKfyYJ"
      }
    },
    {
      "cell_type": "code",
      "source": [
        "#Positive Indexing\n",
        "'''\n",
        "a = [10,11,12,13,14]\n",
        "print(a[0])\n",
        "print(a[1])\n",
        "print(a[2])\n",
        "print(a[3])\n",
        "print(a[4])\n",
        "'''\n",
        "#Negetive Indexing\n",
        "'''\n",
        "a = [10,11,12,13,14]\n",
        "print(a[-1])\n",
        "print(a[-2])\n",
        "print(a[-3])\n",
        "print(a[-4])\n",
        "print(a[-5])\n",
        "'''\n",
        "#Looping with range\n",
        "'''\n",
        "a = [10,11,12,13,14]\n",
        "for i in range(5):\n",
        "  print(i,\"->\",a[i])\n",
        "'''\n",
        "#Looping without Range\n",
        "'''\n",
        "a = [10,11,12,13,14]\n",
        "for i in a:\n",
        "  print(i)\n",
        "'''"
      ],
      "metadata": {
        "colab": {
          "base_uri": "https://localhost:8080/"
        },
        "id": "wCBdnIwif9ku",
        "outputId": "53a6772b-58cb-4e00-f12c-2f11d11f90e7"
      },
      "execution_count": null,
      "outputs": [
        {
          "output_type": "stream",
          "name": "stdout",
          "text": [
            "0 -> 10\n",
            "1 -> 11\n",
            "2 -> 12\n",
            "3 -> 13\n",
            "4 -> 14\n",
            "10\n",
            "11\n",
            "12\n",
            "13\n",
            "14\n"
          ]
        }
      ]
    },
    {
      "cell_type": "code",
      "source": [
        "#Problem - 1\n",
        "'''\n",
        "Take 5 values from the user using coma, Print the sum of indexes of all even numbers\n",
        "'''\n",
        "#Approach - 1\n",
        "'''\n",
        "a = list(map(int,input().split(\",\")))\n",
        "temp = 0\n",
        "for i in range(5):\n",
        "  if a[i]%2 == 0:\n",
        "    temp = temp + i\n",
        "print(temp)\n",
        "'''\n",
        "#Problem - 2\n",
        "'''\n",
        "Take 5 values from the user using space, print the sum of all even numbers\n",
        "'''\n",
        "#Approach - 1\n",
        "'''\n",
        "a = list(map(int,input().split()))\n",
        "temp = 0\n",
        "for i in range(5):\n",
        "  if a[i]%2 == 0:\n",
        "    temp = temp + a[i]\n",
        "print(temp)\n",
        "'''\n",
        "#Approach - 2\n",
        "'''\n",
        "a = list(map(int,input().split()))\n",
        "temp = 0\n",
        "for i in a:\n",
        "  if i%2 == 0:\n",
        "    temp = temp + i\n",
        "print(temp)\n",
        "'''"
      ],
      "metadata": {
        "colab": {
          "base_uri": "https://localhost:8080/"
        },
        "id": "V6b6q5-8g_3u",
        "outputId": "f257e984-0209-49cb-ad3d-8b991d1429e1"
      },
      "execution_count": null,
      "outputs": [
        {
          "output_type": "stream",
          "name": "stdout",
          "text": [
            "1 2 3 4 5\n",
            "6\n"
          ]
        }
      ]
    }
  ]
}