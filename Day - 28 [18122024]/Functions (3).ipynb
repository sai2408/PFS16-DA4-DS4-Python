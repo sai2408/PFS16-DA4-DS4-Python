{
  "nbformat": 4,
  "nbformat_minor": 0,
  "metadata": {
    "colab": {
      "provenance": []
    },
    "kernelspec": {
      "name": "python3",
      "display_name": "Python 3"
    },
    "language_info": {
      "name": "python"
    }
  },
  "cells": [
    {
      "cell_type": "markdown",
      "source": [
        "#Functions\n",
        "    1. Built in\n",
        "    2. User Defined\n",
        "    3. Recursive\n",
        "    4. Lambda"
      ],
      "metadata": {
        "id": "4Mog6bhZiggA"
      }
    },
    {
      "cell_type": "markdown",
      "source": [
        "#Built in functions\n",
        "    1. chr()\n",
        "    2. ord()\n",
        "    3. eval()\n",
        "    4. abs()\n",
        "    5. bin()\n",
        "    6. hex()\n",
        "    7. oct()"
      ],
      "metadata": {
        "id": "lJBVkIlOioss"
      }
    },
    {
      "cell_type": "code",
      "execution_count": null,
      "metadata": {
        "colab": {
          "base_uri": "https://localhost:8080/"
        },
        "id": "2F4kbrHxidVb",
        "outputId": "949bc7ca-3c61-4e3e-9188-3124fdca3ec4"
      },
      "outputs": [
        {
          "output_type": "stream",
          "name": "stdout",
          "text": [
            "b\n",
            "A\n",
            "65\n",
            "98\n",
            "36\n",
            "\u000b\n",
            "30\n",
            "0\n",
            "10\n",
            "10\n",
            "0b1010\n",
            "0xe\n",
            "0o42\n",
            "65\n"
          ]
        }
      ],
      "source": [
        "print(chr(98))\n",
        "print(chr(65))\n",
        "print(ord(\"A\"))\n",
        "print(ord(\"b\"))\n",
        "print(ord('$'))\n",
        "print(chr(11))\n",
        "print(eval(\"10+20\"))\n",
        "print(eval(\"20+10-30\"))\n",
        "print(abs(10))\n",
        "print(abs(-10))\n",
        "print(bin(10))\n",
        "print(hex(14))\n",
        "print(oct(34))\n",
        "res = ord( \"A\")\n",
        "print(res)"
      ]
    },
    {
      "cell_type": "markdown",
      "source": [
        "#User Defined functions\n",
        "    1. WP-WR\n",
        "    2. WP - WOR\n",
        "    3. WOP - WR\n",
        "    4. WOP - WOR\n"
      ],
      "metadata": {
        "id": "7zTThnT1kNld"
      }
    },
    {
      "cell_type": "code",
      "source": [
        "#WITH PARAMETERS - WITH RETURN TYPE\n",
        "'''\n",
        "def evenodd(n):\n",
        "  if n%2 == 0:\n",
        "    return \"Even\"\n",
        "  else:\n",
        "    return \"Odd\"\n",
        "num = int(input(\"Enter a number: \"))\n",
        "res = evenodd(num)\n",
        "print(res)\n",
        "'''\n",
        "#WITH PARAMETERS - WITH OUT RETURN TYPE\n",
        "'''\n",
        "def evenodd(n):\n",
        "  if n%2 == 0:\n",
        "    print(\"Even\")\n",
        "  else:\n",
        "    print(\"Odd\")\n",
        "n = int(input(\"Enter a number: \"))\n",
        "evenodd(n)\n",
        "'''\n",
        "#WITH OUT PARAMETERS - WITH RETURN TYPE\n",
        "'''\n",
        "def evenodd():\n",
        "  n = int(input(\"Enter a number: \"))\n",
        "  if n%2 == 0:\n",
        "    return \"Even\"\n",
        "  else:\n",
        "    return \"Odd\"\n",
        "res = evenodd()\n",
        "print(res)\n",
        "'''\n",
        "#WITH OUT PARAMETERS - WITH OUT RETURN TYPE\n",
        "'''\n",
        "def evenodd():\n",
        "  n = int(input(\"enter a number: \"))\n",
        "  if n%2 == 0:\n",
        "    print(\"Even\")\n",
        "  else:\n",
        "    print(\"Odd\")\n",
        "evenodd()\n",
        "'''"
      ],
      "metadata": {
        "colab": {
          "base_uri": "https://localhost:8080/"
        },
        "id": "ADL8lwUnkUwd",
        "outputId": "e012a3d1-69fe-49ce-f5ad-e3090c7876f5"
      },
      "execution_count": null,
      "outputs": [
        {
          "output_type": "stream",
          "name": "stdout",
          "text": [
            "enter a number: 13\n",
            "Odd\n"
          ]
        }
      ]
    },
    {
      "cell_type": "markdown",
      "source": [
        "#Function Arguments\n",
        "      1. Default\n",
        "      2. Required\n",
        "      3. Keyword\n",
        "      4. Variable no of"
      ],
      "metadata": {
        "id": "zJEMFjL2rV7Y"
      }
    },
    {
      "cell_type": "code",
      "source": [
        "#Default Arguments\n",
        "'''\n",
        "def add(a=0,b=0,c=0):\n",
        "  return a+b+c\n",
        "print(add(10,20,30))\n",
        "print(add(10,20))\n",
        "print(add(10))\n",
        "print(add())\n",
        "'''\n",
        "#Required Arguments\n",
        "'''\n",
        "def add(a,b,c):\n",
        "  return a+b+c\n",
        "print(add(10,20,30))\n",
        "'''\n",
        "#Keyword Arguments\n",
        "'''\n",
        "def add(a,b,c):\n",
        "  print(a)\n",
        "  print(b)\n",
        "  print(c)\n",
        "  print(a+b+c)\n",
        "#add(10,20,30)\n",
        "add(a=10,b=20,c=30)\n",
        "add(c=30,b=20,a=10)\n",
        "'''\n",
        "#Variable No of Arguments\n",
        "'''\n",
        "def add(*n):\n",
        "  t = 0\n",
        "  for i in n:\n",
        "    t = t + i\n",
        "  print(t)\n",
        "add(10,20)\n",
        "add()\n",
        "add(1,2,3,4,5,6,7,8,9,0)\n",
        "'''"
      ],
      "metadata": {
        "colab": {
          "base_uri": "https://localhost:8080/"
        },
        "id": "mK3xpOTMrdUU",
        "outputId": "e3866455-5272-4c63-f5c8-a3a578ece106"
      },
      "execution_count": null,
      "outputs": [
        {
          "output_type": "stream",
          "name": "stdout",
          "text": [
            "30\n",
            "0\n",
            "45\n"
          ]
        }
      ]
    },
    {
      "cell_type": "markdown",
      "source": [
        "#Scope of the Variables\n",
        "    1. Local Variable\n",
        "    2. Global Variable"
      ],
      "metadata": {
        "id": "JhsAGwbnsoZF"
      }
    },
    {
      "cell_type": "code",
      "source": [
        "#Program - 1\n",
        "'''\n",
        "b = 20\n",
        "def abc():\n",
        "  a = 10\n",
        "  print(a,b)\n",
        "print(b)\n",
        "'''\n",
        "#Program - 2\n",
        "'''\n",
        "b = 20\n",
        "def abc():\n",
        "  a = 10\n",
        "  print(a,b)\n",
        "abc()\n",
        "'''\n",
        "#Program - 3\n",
        "'''\n",
        "a = 10\n",
        "def abc():\n",
        "  a = 20\n",
        "  print(a)\n",
        "def mno():\n",
        "  print(a)\n",
        "mno()\n",
        "abc()\n",
        "'''"
      ],
      "metadata": {
        "colab": {
          "base_uri": "https://localhost:8080/"
        },
        "id": "R1DmJHiPss2y",
        "outputId": "0ae4aa6b-ae04-4245-9c42-ce64e1dc1adf"
      },
      "execution_count": null,
      "outputs": [
        {
          "output_type": "stream",
          "name": "stdout",
          "text": [
            "10\n",
            "20\n"
          ]
        }
      ]
    },
    {
      "cell_type": "markdown",
      "source": [
        "#Lambda functions"
      ],
      "metadata": {
        "id": "FXPTxhD5yyeW"
      }
    },
    {
      "cell_type": "code",
      "source": [
        "#WP - WR\n",
        "'''\n",
        "def mul(a,b):\n",
        "  return a*b\n",
        "print(mul(10,20))\n",
        "'''\n",
        "#Lambda Function\n",
        "'''\n",
        "mul = lambda a,b : a*b\n",
        "print(mul(10,20))\n",
        "'''"
      ],
      "metadata": {
        "colab": {
          "base_uri": "https://localhost:8080/"
        },
        "id": "bdzVmbxvy0a1",
        "outputId": "a03ddcc8-4832-41d7-cb9b-982645824117"
      },
      "execution_count": null,
      "outputs": [
        {
          "output_type": "stream",
          "name": "stdout",
          "text": [
            "200\n"
          ]
        }
      ]
    },
    {
      "cell_type": "markdown",
      "source": [
        "#Recursive function\n"
      ],
      "metadata": {
        "id": "JZWgdT6azKYx"
      }
    },
    {
      "cell_type": "code",
      "source": [
        "#Program - 1\n",
        "#Approch - 1\n",
        "'''\n",
        "n = 10\n",
        "while n>= 1:\n",
        "  print(n,end=\" \")\n",
        "  n = n - 1\n",
        "'''\n",
        "#Approach - 2\n",
        "'''\n",
        "n = 10\n",
        "def abc(a):\n",
        "  if a >= 1:\n",
        "    print(a,end=\" \")\n",
        "    abc(a-1)\n",
        "  else:\n",
        "    return\n",
        "abc(n)\n",
        "'''\n",
        "#Program - 2\n",
        "#Approach - 1\n",
        "'''\n",
        "n = 20\n",
        "t = 1\n",
        "while n >= t:\n",
        "  print(t)\n",
        "  t = t + 1\n",
        "'''\n",
        "#Recursive function\n",
        "'''\n",
        "n = 20\n",
        "def abc(n,t=1):\n",
        "  if n >= t:\n",
        "    print(t)\n",
        "    abc(n,t+1)\n",
        "  else:\n",
        "    return\n",
        "abc(n)\n",
        "'''"
      ],
      "metadata": {
        "id": "pzMMC9-O11kZ"
      },
      "execution_count": null,
      "outputs": []
    },
    {
      "cell_type": "code",
      "source": [
        "#Problem - 1 [Reverse of The number]\n",
        "'''\n",
        "def reverse(num):\n",
        "  res = 0\n",
        "  while num > 0:\n",
        "    r = num%10\n",
        "    res = (res * 10) + r\n",
        "    num = num // 10\n",
        "  return res\n",
        "n = int(input(\"Enter a number: \"))\n",
        "if n > 0:\n",
        "  result = reverse(n)\n",
        "else:\n",
        "  n = -1 * n\n",
        "  result = reverse(n)\n",
        "  result = -1 * result\n",
        "print(result)\n",
        "'''\n",
        "#Problem - 2\n",
        "'''\n",
        "def xyz(n):\n",
        "    if n == 1:\n",
        "        return 1\n",
        "    else:\n",
        "        return n**2 + xyz(n-1)\n",
        "print(xyz(4))\n",
        "'''\n",
        "#Problem - 3\n",
        "'''\n",
        "def xyz(n):\n",
        "    if n == 1:\n",
        "        return 1\n",
        "    else:\n",
        "        return n + xyz(n-1)\n",
        "print(xyz(10))\n",
        "'''"
      ],
      "metadata": {
        "colab": {
          "base_uri": "https://localhost:8080/"
        },
        "id": "SmJHsCFYlLaG",
        "outputId": "d61b135d-d416-4634-f36c-43f3b73fcf57"
      },
      "execution_count": null,
      "outputs": [
        {
          "output_type": "stream",
          "name": "stdout",
          "text": [
            "Enter a number: -123\n",
            "-321\n"
          ]
        }
      ]
    },
    {
      "cell_type": "code",
      "source": [],
      "metadata": {
        "id": "gQLQBYxL4d04"
      },
      "execution_count": null,
      "outputs": []
    }
  ]
}