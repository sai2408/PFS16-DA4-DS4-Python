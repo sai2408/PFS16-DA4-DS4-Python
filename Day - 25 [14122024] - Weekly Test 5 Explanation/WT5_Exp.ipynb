{
  "nbformat": 4,
  "nbformat_minor": 0,
  "metadata": {
    "colab": {
      "provenance": []
    },
    "kernelspec": {
      "name": "python3",
      "display_name": "Python 3"
    },
    "language_info": {
      "name": "python"
    }
  },
  "cells": [
    {
      "cell_type": "code",
      "execution_count": null,
      "metadata": {
        "colab": {
          "base_uri": "https://localhost:8080/"
        },
        "id": "X0ItGdCIEfVj",
        "outputId": "bc206325-2665-45f2-85ef-75fa4f4d1f9e"
      },
      "outputs": [
        {
          "output_type": "stream",
          "name": "stdout",
          "text": [
            "2\n",
            "3\n",
            "1 1 2\n",
            "1 2\n",
            "5\n",
            "1 2 2 3 3\n",
            "1 2 3\n"
          ]
        }
      ],
      "source": [
        "#Problem - 1\n",
        "#Approach - 1\n",
        "'''\n",
        "tc = int(input())\n",
        "for _ in range(tc):\n",
        "  n = int(input())\n",
        "  arr = list(map(int,input().split()))[:n]\n",
        "  s1 = set(arr)\n",
        "  s2 = list(s1)\n",
        "  s2.sort()\n",
        "  print(*s2,sep=\" \")\n",
        "'''\n",
        "#Approach - 2\n",
        "'''\n",
        "tc = int(input())\n",
        "for _ in range(tc):\n",
        "  n = int(input())\n",
        "  arr = list(map(int,input().split()))[:n]\n",
        "  s1 = set(arr)\n",
        "  s2 = list(s1)\n",
        "  s2.sort()\n",
        "  for i in s2:\n",
        "    print(i,end=\" \")\n",
        "  print()\n",
        "'''\n",
        "#Appraoch - 3\n",
        "'''\n",
        "tc = int(input())\n",
        "for _ in range(tc):\n",
        "  n = int(input())\n",
        "  arr = list(map(int,input().split()))[:n]\n",
        "  s1 = set(arr)\n",
        "  s2 = sorted(s1)\n",
        "  print(*s2,sep=\" \")\n",
        "'''\n",
        "#Approach - 4\n",
        "'''\n",
        "tc = int(input())\n",
        "for _ in range(tc):\n",
        "  n = int(input())\n",
        "  arr = list(map(int,input().split()))[:n]\n",
        "  res = []\n",
        "  for i in arr:\n",
        "    if i not in res:\n",
        "      res.append(i)\n",
        "  print(*res,sep=\" \")\n",
        "'''"
      ]
    },
    {
      "cell_type": "code",
      "source": [
        "#Problem - 2\n",
        "tc = int(input())\n",
        "for i in range(tc):\n",
        "  n = int(input())\n",
        "  om = list(map(int,input().split()))\n",
        "  addy = list(map(int,input().split()))\n",
        "  om1 = 0\n",
        "  addy1 = 0\n",
        "  om2 = []\n",
        "  addy2 = []\n",
        "  for i in range(n):\n",
        "    if om[i] >= 1:\n",
        "      om1 = om1 + 1\n",
        "    else:\n",
        "      om2.append(om1)\n",
        "      om1 = 0\n",
        "    if addy[i] >= 1:\n",
        "      addy1 = addy1 + 1\n",
        "    else:\n",
        "      addy2.append(addy1)\n",
        "      addy1 = 0\n",
        "  max1 = max(om2)\n",
        "  max2 = max(addy2)\n",
        "  if max1 == max2:\n",
        "    print(\"Draw\")\n",
        "  elif max1 > max2:\n",
        "    print(\"Om\")\n",
        "  else:\n",
        "    print(\"Addy\")"
      ],
      "metadata": {
        "colab": {
          "base_uri": "https://localhost:8080/"
        },
        "id": "FG7o59X3H0bD",
        "outputId": "5fa0b7ae-2458-43b9-b41a-a0458b7870fd"
      },
      "execution_count": null,
      "outputs": [
        {
          "output_type": "stream",
          "name": "stdout",
          "text": [
            "1\n",
            "6\n",
            "1 7 3 0 2 13\n",
            "0 2 3 4 5 0\n",
            "Addy\n"
          ]
        }
      ]
    },
    {
      "cell_type": "code",
      "source": [
        "#Problem - 3\n",
        "#Approach - 1\n",
        "'''\n",
        "n = int(input())\n",
        "d = {}\n",
        "for i in range(n):\n",
        "  val = int(input())\n",
        "  if val in d:\n",
        "    d[val] = d[val] + 1\n",
        "  else:\n",
        "    d[val] = 1\n",
        "for i in d:\n",
        "  if d[i] == 1:\n",
        "    print(i)\n",
        "    break\n",
        "'''\n",
        "#Approach - 2\n",
        "'''\n",
        "x = []\n",
        "n = int(input())\n",
        "for i in range(n):\n",
        "  val = int(input())\n",
        "  x.append(val)\n",
        "for i in x:\n",
        "  if x.count(i) == 1:\n",
        "    print(i)\n",
        "    break\n",
        "'''\n",
        "#Approach - 3\n",
        "'''\n",
        "x = []\n",
        "n = int(input())\n",
        "for i in range(n):\n",
        "  val = int(input())\n",
        "  x.append(val)\n",
        "s1 = set(x)\n",
        "for i in s1:\n",
        "  if x.count(i) == 1:\n",
        "    print(i)\n",
        "    break\n",
        "'''"
      ],
      "metadata": {
        "colab": {
          "base_uri": "https://localhost:8080/"
        },
        "id": "xu--OP9INawN",
        "outputId": "2e8d37e3-4bbe-4cc7-b894-768c66219289"
      },
      "execution_count": null,
      "outputs": [
        {
          "output_type": "stream",
          "name": "stdout",
          "text": [
            "3\n",
            "1\n",
            "8\n",
            "1\n",
            "8\n"
          ]
        }
      ]
    },
    {
      "cell_type": "code",
      "source": [
        "#problem - 4\n",
        "'''\n",
        "tc = int(input())\n",
        "for _ in range(tc):\n",
        "  n = int(input())\n",
        "  x = list(map(int,input().split()))\n",
        "  s1 = set(x)\n",
        "  c = 0\n",
        "  for i in s1:\n",
        "    if x.count(i)%2 != 0:\n",
        "      c = c + 1\n",
        "  print(c)\n",
        "'''"
      ],
      "metadata": {
        "colab": {
          "base_uri": "https://localhost:8080/"
        },
        "id": "3UeZ3q9KRQkD",
        "outputId": "bc984e90-7b70-4e62-81a5-4a08ef591487"
      },
      "execution_count": null,
      "outputs": [
        {
          "output_type": "stream",
          "name": "stdout",
          "text": [
            "2\n",
            "4\n",
            "1 1 1 2\n",
            "2\n",
            "5\n",
            "1 2 3 4 1\n",
            "3\n"
          ]
        }
      ]
    }
  ]
}