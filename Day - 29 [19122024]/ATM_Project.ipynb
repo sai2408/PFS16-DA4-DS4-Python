{
  "nbformat": 4,
  "nbformat_minor": 0,
  "metadata": {
    "colab": {
      "provenance": []
    },
    "kernelspec": {
      "name": "python3",
      "display_name": "Python 3"
    },
    "language_info": {
      "name": "python"
    }
  },
  "cells": [
    {
      "cell_type": "markdown",
      "source": [
        "#ATM [ Console Based ]\n",
        "    1. withdraw\n",
        "    2. Deposit\n",
        "    3. Pin Generation\n",
        "    4. Mini statement"
      ],
      "metadata": {
        "id": "BOT0BQEa1Xog"
      }
    },
    {
      "cell_type": "code",
      "execution_count": 9,
      "metadata": {
        "colab": {
          "base_uri": "https://localhost:8080/",
          "height": 703
        },
        "id": "vXPaI1p51VV4",
        "outputId": "4ee11031-4b8d-46f8-cf26-23a4b1f5ec2d"
      },
      "outputs": [
        {
          "output_type": "stream",
          "name": "stdout",
          "text": [
            "Choose the required option: \n",
            "1. Withdraw\n",
            "2. Deposit\n",
            "3. Pin Generation\n",
            "4. Mini statement\n",
            "5. Exit\n",
            "4\n",
            "******************************\n",
            "Mini statement\n",
            "Enter your account number: 101\n",
            "Welcome Sai Vardhan\n",
            "Enter Your Pin: 2408\n",
            "Balance: 10000\n",
            "******************************\n",
            "Choose the required option: \n",
            "1. Withdraw\n",
            "2. Deposit\n",
            "3. Pin Generation\n",
            "4. Mini statement\n",
            "5. Exit\n"
          ]
        },
        {
          "output_type": "error",
          "ename": "KeyboardInterrupt",
          "evalue": "Interrupted by user",
          "traceback": [
            "\u001b[0;31m---------------------------------------------------------------------------\u001b[0m",
            "\u001b[0;31mKeyboardInterrupt\u001b[0m                         Traceback (most recent call last)",
            "\u001b[0;32m<ipython-input-9-54f0d18c7cee>\u001b[0m in \u001b[0;36m<cell line: 6>\u001b[0;34m()\u001b[0m\n\u001b[1;32m     11\u001b[0m   \u001b[0mprint\u001b[0m\u001b[0;34m(\u001b[0m\u001b[0;34m\"4. Mini statement\"\u001b[0m\u001b[0;34m)\u001b[0m\u001b[0;34m\u001b[0m\u001b[0;34m\u001b[0m\u001b[0m\n\u001b[1;32m     12\u001b[0m   \u001b[0mprint\u001b[0m\u001b[0;34m(\u001b[0m\u001b[0;34m\"5. Exit\"\u001b[0m\u001b[0;34m)\u001b[0m\u001b[0;34m\u001b[0m\u001b[0;34m\u001b[0m\u001b[0m\n\u001b[0;32m---> 13\u001b[0;31m   \u001b[0mn\u001b[0m \u001b[0;34m=\u001b[0m \u001b[0mint\u001b[0m\u001b[0;34m(\u001b[0m\u001b[0minput\u001b[0m\u001b[0;34m(\u001b[0m\u001b[0;34m)\u001b[0m\u001b[0;34m)\u001b[0m\u001b[0;34m\u001b[0m\u001b[0;34m\u001b[0m\u001b[0m\n\u001b[0m\u001b[1;32m     14\u001b[0m   \u001b[0;32mif\u001b[0m \u001b[0mn\u001b[0m \u001b[0;34m==\u001b[0m \u001b[0;36m1\u001b[0m\u001b[0;34m:\u001b[0m\u001b[0;34m\u001b[0m\u001b[0;34m\u001b[0m\u001b[0m\n\u001b[1;32m     15\u001b[0m     \u001b[0mprint\u001b[0m\u001b[0;34m(\u001b[0m\u001b[0;34m\"******************************\"\u001b[0m\u001b[0;34m)\u001b[0m\u001b[0;34m\u001b[0m\u001b[0;34m\u001b[0m\u001b[0m\n",
            "\u001b[0;32m/usr/local/lib/python3.10/dist-packages/ipykernel/kernelbase.py\u001b[0m in \u001b[0;36mraw_input\u001b[0;34m(self, prompt)\u001b[0m\n\u001b[1;32m    849\u001b[0m                 \u001b[0;34m\"raw_input was called, but this frontend does not support input requests.\"\u001b[0m\u001b[0;34m\u001b[0m\u001b[0;34m\u001b[0m\u001b[0m\n\u001b[1;32m    850\u001b[0m             )\n\u001b[0;32m--> 851\u001b[0;31m         return self._input_request(str(prompt),\n\u001b[0m\u001b[1;32m    852\u001b[0m             \u001b[0mself\u001b[0m\u001b[0;34m.\u001b[0m\u001b[0m_parent_ident\u001b[0m\u001b[0;34m,\u001b[0m\u001b[0;34m\u001b[0m\u001b[0;34m\u001b[0m\u001b[0m\n\u001b[1;32m    853\u001b[0m             \u001b[0mself\u001b[0m\u001b[0;34m.\u001b[0m\u001b[0m_parent_header\u001b[0m\u001b[0;34m,\u001b[0m\u001b[0;34m\u001b[0m\u001b[0;34m\u001b[0m\u001b[0m\n",
            "\u001b[0;32m/usr/local/lib/python3.10/dist-packages/ipykernel/kernelbase.py\u001b[0m in \u001b[0;36m_input_request\u001b[0;34m(self, prompt, ident, parent, password)\u001b[0m\n\u001b[1;32m    893\u001b[0m             \u001b[0;32mexcept\u001b[0m \u001b[0mKeyboardInterrupt\u001b[0m\u001b[0;34m:\u001b[0m\u001b[0;34m\u001b[0m\u001b[0;34m\u001b[0m\u001b[0m\n\u001b[1;32m    894\u001b[0m                 \u001b[0;31m# re-raise KeyboardInterrupt, to truncate traceback\u001b[0m\u001b[0;34m\u001b[0m\u001b[0;34m\u001b[0m\u001b[0m\n\u001b[0;32m--> 895\u001b[0;31m                 \u001b[0;32mraise\u001b[0m \u001b[0mKeyboardInterrupt\u001b[0m\u001b[0;34m(\u001b[0m\u001b[0;34m\"Interrupted by user\"\u001b[0m\u001b[0;34m)\u001b[0m \u001b[0;32mfrom\u001b[0m \u001b[0;32mNone\u001b[0m\u001b[0;34m\u001b[0m\u001b[0;34m\u001b[0m\u001b[0m\n\u001b[0m\u001b[1;32m    896\u001b[0m             \u001b[0;32mexcept\u001b[0m \u001b[0mException\u001b[0m \u001b[0;32mas\u001b[0m \u001b[0me\u001b[0m\u001b[0;34m:\u001b[0m\u001b[0;34m\u001b[0m\u001b[0;34m\u001b[0m\u001b[0m\n\u001b[1;32m    897\u001b[0m                 \u001b[0mself\u001b[0m\u001b[0;34m.\u001b[0m\u001b[0mlog\u001b[0m\u001b[0;34m.\u001b[0m\u001b[0mwarning\u001b[0m\u001b[0;34m(\u001b[0m\u001b[0;34m\"Invalid Message:\"\u001b[0m\u001b[0;34m,\u001b[0m \u001b[0mexc_info\u001b[0m\u001b[0;34m=\u001b[0m\u001b[0;32mTrue\u001b[0m\u001b[0;34m)\u001b[0m\u001b[0;34m\u001b[0m\u001b[0;34m\u001b[0m\u001b[0m\n",
            "\u001b[0;31mKeyboardInterrupt\u001b[0m: Interrupted by user"
          ]
        }
      ],
      "source": [
        "bank = {\n",
        "    101 : [\"Sai Vardhan\",\"2408\",10000,[24,8,1995]],\n",
        "    102 : [\"vikram\",None,20000,[23,9,2005]] ,\n",
        "    103 : [\"vignesh\",\"9876\",0,[11,1,1900]]\n",
        "}\n",
        "while True:\n",
        "  print(\"Choose the required option: \")\n",
        "  print(\"1. Withdraw\")\n",
        "  print(\"2. Deposit\")\n",
        "  print(\"3. Pin Generation\")\n",
        "  print(\"4. Mini statement\")\n",
        "  print(\"5. Exit\")\n",
        "  n = int(input())\n",
        "  if n == 1:\n",
        "    print(\"******************************\")\n",
        "    print(\"Withdraw\")\n",
        "    accno = int(input(\"Enter your account number: \"))\n",
        "    if accno not in bank:\n",
        "      print(\"Invalid Account number\")\n",
        "    else:\n",
        "      print(f\"Welcome {bank[accno][0]}\")\n",
        "      pin = input(\"Enter your Pin: \")\n",
        "      if pin != bank[accno][1]:\n",
        "        print(\"Invalid Pin\")\n",
        "      else:\n",
        "        amt = int(input(\"Enter amount to withdraw: \"))\n",
        "        if amt > bank[accno][2]:\n",
        "          print(\"Insufficient Balance\")\n",
        "        else:\n",
        "          bank[accno][2] = bank[accno][2] - amt\n",
        "          print(\"Withdraw Successfull\")\n",
        "    print(\"******************************\")\n",
        "  elif n == 2:\n",
        "    print(\"******************************\")\n",
        "    print(\"Deposit\")\n",
        "    accno = int(input(\"Enter your account number: \"))\n",
        "    if accno not in bank:\n",
        "      print(\"Invalid Account number\")\n",
        "    else:\n",
        "      print(f\"Welcome {bank[accno][0]}\")\n",
        "      pin = input(\"Enter your Pin: \")\n",
        "      if pin != bank[accno][1]:\n",
        "        print(\"Invalid Pin\")\n",
        "      else:\n",
        "        amt = int(input(\"Enter amount to Deposit: \"))\n",
        "        bank[accno][2] = bank[accno][2] + amt\n",
        "        print(\"Deposit Successfull\")\n",
        "    print(\"******************************\")\n",
        "  elif n == 3:\n",
        "    print(\"******************************\")\n",
        "    print(\"Pin Generation\")\n",
        "    accno = int(input(\"Enter your account number: \"))\n",
        "    if accno not in bank:\n",
        "      print(\"Invalid Account number\")\n",
        "    else:\n",
        "      print(f\"Welcome {bank[accno][0]}\")\n",
        "      if bank[accno][1] != None:\n",
        "        print(\"Pin already generated\")\n",
        "      else:\n",
        "        print(\"Verify Date of Birth: \")\n",
        "        date = int(input(\"Enter Birth Date: \"))\n",
        "        month = int(input(\"Enter Birth Month: \"))\n",
        "        year = int(input(\"Enter Birth Year: \"))\n",
        "        if date == bank[accno][3][0] and month == bank[accno][3][1] and year == bank[accno][3][2]:\n",
        "          pin = input(\"Enter your new Pin:\")\n",
        "          cpin = input(\"Confirm your Pin: \")\n",
        "          if pin != cpin:\n",
        "            print(\"Incorrect pin entered, try again\")\n",
        "          else:\n",
        "            bank[accno][1] = pin\n",
        "            print(\"Pin Generated Sucessfully !\")\n",
        "        else:\n",
        "          print(\"Incorrect Date of Birth Details\")\n",
        "          print(\"Try again !\")\n",
        "    print(\"******************************\")\n",
        "  elif n == 4:\n",
        "    print(\"******************************\")\n",
        "    print(\"Mini statement\")\n",
        "    accno = int(input(\"Enter your account number: \"))\n",
        "    if accno not in bank:\n",
        "      print(\"Invalid Account number\")\n",
        "    else:\n",
        "      print(f\"Welcome {bank[accno][0]}\")\n",
        "      pin = input(\"Enter Your Pin: \")\n",
        "      if pin != bank[accno][1]:\n",
        "        print(\"Invalid Pin\")\n",
        "      else:\n",
        "        print(f\"Balance: {bank[accno][2]}\")\n",
        "    print(\"******************************\")\n",
        "  else:\n",
        "    print(\"******************************\")\n",
        "    print(\"thank You\")\n",
        "    print(\"visit again\")\n",
        "    print(\"******************************\")\n",
        "    break"
      ]
    },
    {
      "cell_type": "markdown",
      "source": [
        "#Linkedin Upload\n",
        "    ATM - Console Based Project\n",
        "    Technologies Used:\n",
        "        1. Control Statements\n",
        "        2. Conditional Statements\n",
        "        3. Dictionary\n",
        "        4. Variables\n",
        "        5. Operations\n",
        "        6. Lists\n",
        "    Description:\n",
        "        In this project, I involved various operations in ATM like Withdrawal, Deposit, Pin Generation, Mini statements etc,..\n",
        "    Tools:\n",
        "        Google Colab"
      ],
      "metadata": {
        "id": "xAjUMcew8Cdl"
      }
    }
  ]
}